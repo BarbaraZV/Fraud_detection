{
 "cells": [
  {
   "cell_type": "code",
   "execution_count": 15,
   "id": "928a2822",
   "metadata": {},
   "outputs": [],
   "source": [
    "import pickle\n",
    "import streamlit as st\n",
    "from PIL import Image\n",
    "import base64\n",
    "st.sidebar.title('Trnsaction Information')\n",
    "from IPython import get_ipython\n",
    "import pandas as pd\n",
    "\n",
    "html_temp = \"\"\"\n",
    "<div style=\"background-color:Blue;padding:10px\">\n",
    "<h2 style=\"color:white;text-align:center;\">Fraud Detection</h2>\n",
    "</div><br>\n",
    "\"\"\"\n",
    "\n",
    "st.markdown(html_temp,unsafe_allow_html=True)\n",
    "st.markdown(\"<h1 style='text-align: center; color: Black;'>Select Your Model</h1>\", unsafe_allow_html=True)\n",
    "selection = st.selectbox(\"\",[\"Decision Tree\",\"Logistic Regression\", \"Random Forest\"])\n",
    "if selection == \"Decision Tree\":\n",
    "    st.write(\"You selected\", selection, \"model\")\n",
    "    model = pickle.load(open(r\"C:\\Users\\Barbara\\OneDrive\\Documents\\GitHub\\IH_final_project\\decision_tree_model_app\", \"rb\"))\n",
    "elif selection == \"Logistic Regression\":\n",
    "    st.write(\"You selected\", selection, \"model\")\n",
    "    model = pickle.load(open(r\"C:\\Users\\Barbara\\OneDrive\\Documents\\GitHub\\IH_final_project\\logistic_regression_model_app\", \"rb\"))\n",
    "else:\n",
    "    st.write(\"You selected\", selection, \"model\")\n",
    "    model = pickle.load(open(r\"C:\\Users\\Barbara\\OneDrive\\Documents\\GitHub\\IH_final_project\\random_forest_model_app\", \"rb\"))\n",
    "\n",
    "amt = st.sidebar.slider(label = \"amt\", min_value = -12.00, max_value= 18.00, step=0.01)\n",
    "unix_time = st.sidebar.slider(label = \"unix_time\", min_value = -7.00, max_value= 6.00, step=0.01)\n",
    "\n",
    "coll_dict = {\"amt\":amt,\"unix_time\": unix_time }\n",
    "columns =[\"amt\", \"unix_time\"]\n",
    "\n",
    "df_coll=pd.DataFrame.from_dict([coll_dict])\n",
    "user_inputs = df_coll\n",
    "prediction = model.predict(user_inputs)\n",
    "html_temp=\"\"\"\n",
    "<div style=\"background-color:Black;padding:10px\">\n",
    "<h2 style=\"color:white;text-align:center;\">Fraud Detection Prediction</h2>\n",
    "</div><br>\n",
    "\"\"\"\n",
    "\n",
    "st.markdown(\"<h1 style='text-align: center; color: Black;'>Transaction information</h1>\", unsafe_allow_html=True)\n",
    "st.table(df_coll)\n",
    "st.subheader('Click PREDICT if configuration is OK')\n",
    "\n",
    "if st.button('PREDICT'):\n",
    "    if prediction[0]==0:\n",
    "        st.success(prediction[0])\n",
    "        st.success(f'Transaction is SAFE :)')\n",
    "    elif prediction[0]==1:\n",
    "        st.warning(prediction[0])\n",
    "        st.warning(f'ALARM! TRANSACTION IS FRAUDULENT :( ')"
   ]
  }
 ],
 "metadata": {
  "kernelspec": {
   "display_name": "Python 3 (ipykernel)",
   "language": "python",
   "name": "python3"
  },
  "language_info": {
   "codemirror_mode": {
    "name": "ipython",
    "version": 3
   },
   "file_extension": ".py",
   "mimetype": "text/x-python",
   "name": "python",
   "nbconvert_exporter": "python",
   "pygments_lexer": "ipython3",
   "version": "3.9.12"
  },
  "nbTranslate": {
   "displayLangs": [
    "*"
   ],
   "hotkey": "alt-t",
   "langInMainMenu": true,
   "sourceLang": "en",
   "targetLang": "fr",
   "useGoogleTranslate": true
  },
  "toc": {
   "base_numbering": 1,
   "nav_menu": {},
   "number_sections": true,
   "sideBar": true,
   "skip_h1_title": false,
   "title_cell": "Table of Contents",
   "title_sidebar": "Contents",
   "toc_cell": false,
   "toc_position": {},
   "toc_section_display": true,
   "toc_window_display": false
  },
  "varInspector": {
   "cols": {
    "lenName": 16,
    "lenType": 16,
    "lenVar": 40
   },
   "kernels_config": {
    "python": {
     "delete_cmd_postfix": "",
     "delete_cmd_prefix": "del ",
     "library": "var_list.py",
     "varRefreshCmd": "print(var_dic_list())"
    },
    "r": {
     "delete_cmd_postfix": ") ",
     "delete_cmd_prefix": "rm(",
     "library": "var_list.r",
     "varRefreshCmd": "cat(var_dic_list()) "
    }
   },
   "types_to_exclude": [
    "module",
    "function",
    "builtin_function_or_method",
    "instance",
    "_Feature"
   ],
   "window_display": false
  }
 },
 "nbformat": 4,
 "nbformat_minor": 5
}
