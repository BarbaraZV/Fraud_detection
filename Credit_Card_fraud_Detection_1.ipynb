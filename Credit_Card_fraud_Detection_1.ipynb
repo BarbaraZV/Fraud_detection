{
 "cells": [
  {
   "cell_type": "markdown",
   "id": "2200d3b1",
   "metadata": {},
   "source": [
    "# FRAUD DETECTION PROJECT"
   ]
  },
  {
   "cell_type": "markdown",
   "id": "08744c78",
   "metadata": {},
   "source": [
    "Barbara Vargas, Mauricio Bock"
   ]
  },
  {
   "cell_type": "markdown",
   "id": "86080c23",
   "metadata": {},
   "source": [
    "<b> Main Goal : Creating a model to detect fraudulent transactions.\n",
    "    \n",
    "    \n",
    "A typical organization loses an estimated 5% of its yearly revenue to fraud. Of course, the customers want to be ensured that they won’t be charged for the items they did not purchase.\n",
    "    We will use various predictive models to see how accurate they are.  We will use supervised learning algorithms (Classification) to detect fraudulent behavior similar to past ones. Moreover, in fraud analytics we have to deal with highly imbalanced datasets when classifying fraud versus non-fraud.\n",
    "   \n",
    "Why Classification? Classification is the process of predicting discrete variables (binary, Yes/no, etc.).\n",
    "\n",
    "\n",
    "<b> Background\n",
    "    \n",
    "Worldwide financial losses caused by credit card fraudulent activities are worth tens of billions of dollars. One American over ten has been a victim of credit card fraud (median amount of $399), according to the Statistic Brain Research Institute [Ins18]. According to the latest European Central Bank (ECB) report [Ban20], the total level of card fraud losses amounted to €1.8 billion in 2018 in the Single European Payment Area (SEPA).\n",
    "\n",
    "<b> About the Dataset:\n",
    "- This is a simulated credit card transaction dataset containing legitimate and fraud transactions from the duration 1st Jan 2019 - 31st Dec 2020. It covers credit cards of 1000 customers doing transactions with a pool of 800 merchants.\n",
    "This data is a table of transactions, transaction attributes (e.g.  customer gender, ZIP code, merchant, purchase category, amount, etc.), and whether or not a transaction is fraudulent (0/1). "
   ]
  },
  {
   "cell_type": "markdown",
   "id": "f6949bc4",
   "metadata": {
    "heading_collapsed": true
   },
   "source": [
    "# EDA"
   ]
  },
  {
   "cell_type": "markdown",
   "id": "905c0934",
   "metadata": {
    "hidden": true
   },
   "source": [
    "## About Dataset"
   ]
  },
  {
   "cell_type": "markdown",
   "id": "7804bdb5",
   "metadata": {
    "hidden": true
   },
   "source": [
    "<b> 1. EDA\n",
    "- About the Dataset\n",
    "- Loading data\n",
    "- Describing data\n",
    "- Visualizations\n",
    "- Find missings??\n",
    "- Look correlations (defining the target= \"is_fraud\")\n",
    "\n",
    "<b> 2. DATA CLEANING\n",
    "- Fixing something?\n",
    "- Visualizations\n",
    "\n",
    "<b> 3. MODELING (categorical target= binary target)\n",
    "- Spliting (80-20)\n",
    "- Scaling\n",
    "- Model applications\n",
    "- Visualizzations\n",
    "\n",
    "<b> 4. Results\n",
    "- Conclusion visualization"
   ]
  },
  {
   "cell_type": "markdown",
   "id": "a71cdd93",
   "metadata": {
    "hidden": true
   },
   "source": [
    "<b> Columns description :\n",
    "- trans_date_trans_time = Transaction date and time\n",
    "- cc_num = Creditcard Number\n",
    "- merchant = Name of seller\n",
    "- category = Branch\n",
    "- amt = Amount\n",
    "- first = First Name\n",
    "- last = Last Name\n",
    "- gender = Gender\n",
    "- street = Address\n",
    "- City = City\n",
    "- Lat = Latitude\n",
    "- Long = Longitude\n",
    "- city_pop = City Population\n",
    "- job = Profession\n",
    "- dob = Date of Birth\n",
    "- trans_num = Transaction Number\n",
    "- unix_time = Time in seconds\n",
    "- merch_lat = Seller Latitude\n",
    "- merch_long = Seller Longitude\n",
    "- is_fraud = Is a Fraud or not"
   ]
  },
  {
   "cell_type": "markdown",
   "id": "3a42ed82",
   "metadata": {
    "hidden": true
   },
   "source": [
    "<b> Database (project sample)\n",
    "- https://www.kaggle.com/code/nathanxiang/credit-card-fraud-analysis-and-modeling/notebook\n",
    "- https://www.kaggle.com/code/janiobachmann/credit-fraud-dealing-with-imbalanced-datasets/notebook#Test-Data-with-Logistic-Regression:\n",
    "- https://www.kaggle.com/code/ohseokkim/creditcard-fraud-balance-is-key-feat-pycaret\n",
    "- https://medium.com/analytics-vidhya/credit-card-fraud-detection-in-python-using-scikit-learn-f9046a030f50\n",
    "<b> Tools\n",
    "- https://fraud-detection-handbook.github.io/fraud-detection-handbook/Chapter_1_BookContent/HowToUse.html\n",
    "    "
   ]
  },
  {
   "cell_type": "markdown",
   "id": "ad38bb00",
   "metadata": {
    "hidden": true
   },
   "source": [
    "<b> Sparkov_Data_Generation : Generate Fake Credit Card Transaction Data, Including Fraudulent Transactions\n",
    "- https://github.com/namebrandon/Sparkov_Data_Generation\n",
    "    \n",
    "    \n",
    "<b> Template README template\n",
    "- https://gist.github.com/DomPizzie/7a5ff55ffa9081f2de27c315f5018afc\n",
    "    https://github.com/xtreamsrl/jupytemplate/blob/master/jupytemplate/jupytemplate/template.ipynb\n",
    "    \n",
    "<b> Another sources\n",
    "- https://bookdown.org/max/FES/ (statistical models)"
   ]
  },
  {
   "cell_type": "markdown",
   "id": "e2c41f98",
   "metadata": {
    "hidden": true
   },
   "source": [
    "<b> Assumptions"
   ]
  },
  {
   "cell_type": "markdown",
   "id": "09f4c277",
   "metadata": {
    "hidden": true
   },
   "source": [
    "- Plotting all the customers fraud and not fraud(M)\n",
    "- Plotting just the fraud(M)\n",
    "- Looking for the merchand with most frauds(M)\n",
    "- Looking for the cc_number with more transactions(M)\n",
    "- <span class=\"girk\">Relation between the amount and fraud transaction (B)</span>\n",
    "- zone with more frauds(B)\n",
    "- age of populations with more frauds (B)\n",
    "- Time on the dat with more transactions/frauds (B)"
   ]
  },
  {
   "cell_type": "markdown",
   "id": "de6fbdef",
   "metadata": {
    "hidden": true
   },
   "source": [
    "## Importing libraries"
   ]
  },
  {
   "cell_type": "code",
   "execution_count": 19,
   "id": "9557f971",
   "metadata": {
    "hidden": true
   },
   "outputs": [],
   "source": [
    "%matplotlib inline\n",
    "import numpy as np #working with arrays\n",
    "import pandas as pd #data processing\n",
    "from IPython.display import Image\n",
    "from IPython.display import HTML\n",
    "from IPython.display import Markdown, display\n",
    "def printmd(string):display(Markdown(string))\n",
    "import seaborn as sns #visualization\n",
    "import statsmodels.api as sm\n",
    "from scipy.stats import boxcox\n",
    "pd.options.display.max_rows = 100\n",
    "import matplotlib.pyplot as plt #visualization\n",
    "from scipy.stats import norm\n",
    "from sklearn.model_selection import train_test_split\n",
    "from sklearn.preprocessing import StandardScaler # data normalization\n",
    "from sklearn.preprocessing import quantile_transform\n",
    "from sklearn.preprocessing import minmax_scale\n",
    "from sklearn.preprocessing import OneHotEncoder  ##. better to use dummy from pandas \n",
    "from sklearn.preprocessing import PowerTransformer\n",
    "from sklearn.linear_model import LinearRegression\n",
    "from sklearn.model_selection import train_test_split # data split\n",
    "from sklearn.metrics import r2_score\n",
    "from sklearn.metrics import mean_squared_error as mse\n",
    "from sklearn.metrics import mean_absolute_error as mae\n",
    "from sklearn.neighbors import KNeighborsClassifier\n",
    "import plotly.graph_objects as go\n",
    "import missingno as msno\n",
    "import plotly.express as px\n",
    "from termcolor import colored as cl # text customization\n",
    "from sklearn.tree import DecisionTreeRegressor # fitting the decision tree regressor model\n",
    "from sklearn.tree import DecisionTreeClassifier # fitting the decision tree classifier model\n",
    "import plotly.figure_factory as ff\n",
    "from plotly.offline import iplot\n",
    "from sklearn.metrics import accuracy_score, precision_score, recall_score, confusion_matrix\n",
    "from sklearn.metrics import plot_confusion_matrix #to built a confusion matrix\n",
    "from sklearn.tree import plot_tree  #to built a decision tree\n",
    "from sklearn.linear_model import LogisticRegression\n",
    "import warnings\n",
    "warnings.filterwarnings('ignore')\n",
    "from sklearn.model_selection import cross_val_score\n",
    "from sklearn.model_selection import cross_val_predict\n",
    "from sklearn.ensemble import RandomForestClassifier\n",
    "from imblearn.over_sampling import SMOTE"
   ]
  },
  {
   "cell_type": "markdown",
   "id": "2e9562f5",
   "metadata": {
    "hidden": true
   },
   "source": [
    "## Loading the databases"
   ]
  },
  {
   "cell_type": "code",
   "execution_count": 18,
   "id": "4e480920",
   "metadata": {
    "hidden": true
   },
   "outputs": [],
   "source": [
    "path = (r\"C:/Users/Barbara/OneDrive/Documents/GitHub/IH_final_project/Data/\")\n",
    "dfTrain = pd.read_csv(path + \"fraudTrain.csv\", index_col=0)\n",
    "dfTest = pd.read_csv(path + \"fraudTest.csv\", index_col=0)"
   ]
  },
  {
   "cell_type": "markdown",
   "id": "91e0d830",
   "metadata": {
    "hidden": true
   },
   "source": [
    "## Concatenating"
   ]
  },
  {
   "cell_type": "code",
   "execution_count": 20,
   "id": "10067370",
   "metadata": {
    "hidden": true
   },
   "outputs": [],
   "source": [
    "frames =[dfTrain, dfTest]\n",
    "df1 = pd.concat(frames,axis = 0, ignore_index=True)"
   ]
  },
  {
   "cell_type": "code",
   "execution_count": 21,
   "id": "9fdc7aa2",
   "metadata": {
    "hidden": true
   },
   "outputs": [
    {
     "data": {
      "text/plain": [
       "array([False, False, False, ..., False, False, False])"
      ]
     },
     "execution_count": 21,
     "metadata": {},
     "output_type": "execute_result"
    }
   ],
   "source": [
    "df1.index.duplicated()"
   ]
  },
  {
   "cell_type": "code",
   "execution_count": null,
   "id": "6eb98f76",
   "metadata": {
    "hidden": true
   },
   "outputs": [],
   "source": [
    "df1.to_csv(path+r'concatenated_df.csv', index = False)"
   ]
  },
  {
   "cell_type": "markdown",
   "id": "0704c8bd",
   "metadata": {
    "hidden": true
   },
   "source": [
    "## Describing data"
   ]
  },
  {
   "cell_type": "markdown",
   "id": "2b4d5640",
   "metadata": {
    "hidden": true
   },
   "source": [
    "<b> Statistical information about the variables"
   ]
  },
  {
   "cell_type": "code",
   "execution_count": 22,
   "id": "47c63017",
   "metadata": {
    "hidden": true
   },
   "outputs": [
    {
     "data": {
      "text/html": [
       "<div>\n",
       "<style scoped>\n",
       "    .dataframe tbody tr th:only-of-type {\n",
       "        vertical-align: middle;\n",
       "    }\n",
       "\n",
       "    .dataframe tbody tr th {\n",
       "        vertical-align: top;\n",
       "    }\n",
       "\n",
       "    .dataframe thead th {\n",
       "        text-align: right;\n",
       "    }\n",
       "</style>\n",
       "<table border=\"1\" class=\"dataframe\">\n",
       "  <thead>\n",
       "    <tr style=\"text-align: right;\">\n",
       "      <th></th>\n",
       "      <th>cc_num</th>\n",
       "      <th>amt</th>\n",
       "      <th>zip</th>\n",
       "      <th>lat</th>\n",
       "      <th>long</th>\n",
       "      <th>city_pop</th>\n",
       "      <th>unix_time</th>\n",
       "      <th>merch_lat</th>\n",
       "      <th>merch_long</th>\n",
       "      <th>is_fraud</th>\n",
       "    </tr>\n",
       "  </thead>\n",
       "  <tbody>\n",
       "    <tr>\n",
       "      <th>count</th>\n",
       "      <td>1.852394e+06</td>\n",
       "      <td>1.852394e+06</td>\n",
       "      <td>1.852394e+06</td>\n",
       "      <td>1.852394e+06</td>\n",
       "      <td>1.852394e+06</td>\n",
       "      <td>1.852394e+06</td>\n",
       "      <td>1.852394e+06</td>\n",
       "      <td>1.852394e+06</td>\n",
       "      <td>1.852394e+06</td>\n",
       "      <td>1.852394e+06</td>\n",
       "    </tr>\n",
       "    <tr>\n",
       "      <th>mean</th>\n",
       "      <td>4.173860e+17</td>\n",
       "      <td>7.006357e+01</td>\n",
       "      <td>4.881326e+04</td>\n",
       "      <td>3.853931e+01</td>\n",
       "      <td>-9.022783e+01</td>\n",
       "      <td>8.864367e+04</td>\n",
       "      <td>1.358674e+09</td>\n",
       "      <td>3.853898e+01</td>\n",
       "      <td>-9.022794e+01</td>\n",
       "      <td>5.210015e-03</td>\n",
       "    </tr>\n",
       "    <tr>\n",
       "      <th>std</th>\n",
       "      <td>1.309115e+18</td>\n",
       "      <td>1.592540e+02</td>\n",
       "      <td>2.688185e+04</td>\n",
       "      <td>5.071470e+00</td>\n",
       "      <td>1.374789e+01</td>\n",
       "      <td>3.014876e+05</td>\n",
       "      <td>1.819508e+07</td>\n",
       "      <td>5.105604e+00</td>\n",
       "      <td>1.375969e+01</td>\n",
       "      <td>7.199217e-02</td>\n",
       "    </tr>\n",
       "    <tr>\n",
       "      <th>min</th>\n",
       "      <td>6.041621e+10</td>\n",
       "      <td>1.000000e+00</td>\n",
       "      <td>1.257000e+03</td>\n",
       "      <td>2.002710e+01</td>\n",
       "      <td>-1.656723e+02</td>\n",
       "      <td>2.300000e+01</td>\n",
       "      <td>1.325376e+09</td>\n",
       "      <td>1.902742e+01</td>\n",
       "      <td>-1.666716e+02</td>\n",
       "      <td>0.000000e+00</td>\n",
       "    </tr>\n",
       "    <tr>\n",
       "      <th>25%</th>\n",
       "      <td>1.800429e+14</td>\n",
       "      <td>9.640000e+00</td>\n",
       "      <td>2.623700e+04</td>\n",
       "      <td>3.466890e+01</td>\n",
       "      <td>-9.679800e+01</td>\n",
       "      <td>7.410000e+02</td>\n",
       "      <td>1.343017e+09</td>\n",
       "      <td>3.474012e+01</td>\n",
       "      <td>-9.689944e+01</td>\n",
       "      <td>0.000000e+00</td>\n",
       "    </tr>\n",
       "    <tr>\n",
       "      <th>50%</th>\n",
       "      <td>3.521417e+15</td>\n",
       "      <td>4.745000e+01</td>\n",
       "      <td>4.817400e+04</td>\n",
       "      <td>3.935430e+01</td>\n",
       "      <td>-8.747690e+01</td>\n",
       "      <td>2.443000e+03</td>\n",
       "      <td>1.357089e+09</td>\n",
       "      <td>3.936890e+01</td>\n",
       "      <td>-8.744069e+01</td>\n",
       "      <td>0.000000e+00</td>\n",
       "    </tr>\n",
       "    <tr>\n",
       "      <th>75%</th>\n",
       "      <td>4.642255e+15</td>\n",
       "      <td>8.310000e+01</td>\n",
       "      <td>7.204200e+04</td>\n",
       "      <td>4.194040e+01</td>\n",
       "      <td>-8.015800e+01</td>\n",
       "      <td>2.032800e+04</td>\n",
       "      <td>1.374581e+09</td>\n",
       "      <td>4.195626e+01</td>\n",
       "      <td>-8.024511e+01</td>\n",
       "      <td>0.000000e+00</td>\n",
       "    </tr>\n",
       "    <tr>\n",
       "      <th>max</th>\n",
       "      <td>4.992346e+18</td>\n",
       "      <td>2.894890e+04</td>\n",
       "      <td>9.992100e+04</td>\n",
       "      <td>6.669330e+01</td>\n",
       "      <td>-6.795030e+01</td>\n",
       "      <td>2.906700e+06</td>\n",
       "      <td>1.388534e+09</td>\n",
       "      <td>6.751027e+01</td>\n",
       "      <td>-6.695090e+01</td>\n",
       "      <td>1.000000e+00</td>\n",
       "    </tr>\n",
       "  </tbody>\n",
       "</table>\n",
       "</div>"
      ],
      "text/plain": [
       "             cc_num           amt           zip           lat          long  \\\n",
       "count  1.852394e+06  1.852394e+06  1.852394e+06  1.852394e+06  1.852394e+06   \n",
       "mean   4.173860e+17  7.006357e+01  4.881326e+04  3.853931e+01 -9.022783e+01   \n",
       "std    1.309115e+18  1.592540e+02  2.688185e+04  5.071470e+00  1.374789e+01   \n",
       "min    6.041621e+10  1.000000e+00  1.257000e+03  2.002710e+01 -1.656723e+02   \n",
       "25%    1.800429e+14  9.640000e+00  2.623700e+04  3.466890e+01 -9.679800e+01   \n",
       "50%    3.521417e+15  4.745000e+01  4.817400e+04  3.935430e+01 -8.747690e+01   \n",
       "75%    4.642255e+15  8.310000e+01  7.204200e+04  4.194040e+01 -8.015800e+01   \n",
       "max    4.992346e+18  2.894890e+04  9.992100e+04  6.669330e+01 -6.795030e+01   \n",
       "\n",
       "           city_pop     unix_time     merch_lat    merch_long      is_fraud  \n",
       "count  1.852394e+06  1.852394e+06  1.852394e+06  1.852394e+06  1.852394e+06  \n",
       "mean   8.864367e+04  1.358674e+09  3.853898e+01 -9.022794e+01  5.210015e-03  \n",
       "std    3.014876e+05  1.819508e+07  5.105604e+00  1.375969e+01  7.199217e-02  \n",
       "min    2.300000e+01  1.325376e+09  1.902742e+01 -1.666716e+02  0.000000e+00  \n",
       "25%    7.410000e+02  1.343017e+09  3.474012e+01 -9.689944e+01  0.000000e+00  \n",
       "50%    2.443000e+03  1.357089e+09  3.936890e+01 -8.744069e+01  0.000000e+00  \n",
       "75%    2.032800e+04  1.374581e+09  4.195626e+01 -8.024511e+01  0.000000e+00  \n",
       "max    2.906700e+06  1.388534e+09  6.751027e+01 -6.695090e+01  1.000000e+00  "
      ]
     },
     "execution_count": 22,
     "metadata": {},
     "output_type": "execute_result"
    }
   ],
   "source": [
    "df1.describe()"
   ]
  },
  {
   "cell_type": "code",
   "execution_count": 23,
   "id": "ee1501dd",
   "metadata": {
    "hidden": true
   },
   "outputs": [
    {
     "name": "stdout",
     "output_type": "stream",
     "text": [
      "<class 'pandas.core.frame.DataFrame'>\n",
      "RangeIndex: 1852394 entries, 0 to 1852393\n",
      "Data columns (total 22 columns):\n",
      " #   Column                 Dtype  \n",
      "---  ------                 -----  \n",
      " 0   trans_date_trans_time  object \n",
      " 1   cc_num                 int64  \n",
      " 2   merchant               object \n",
      " 3   category               object \n",
      " 4   amt                    float64\n",
      " 5   first                  object \n",
      " 6   last                   object \n",
      " 7   gender                 object \n",
      " 8   street                 object \n",
      " 9   city                   object \n",
      " 10  state                  object \n",
      " 11  zip                    int64  \n",
      " 12  lat                    float64\n",
      " 13  long                   float64\n",
      " 14  city_pop               int64  \n",
      " 15  job                    object \n",
      " 16  dob                    object \n",
      " 17  trans_num              object \n",
      " 18  unix_time              int64  \n",
      " 19  merch_lat              float64\n",
      " 20  merch_long             float64\n",
      " 21  is_fraud               int64  \n",
      "dtypes: float64(5), int64(5), object(12)\n",
      "memory usage: 310.9+ MB\n"
     ]
    }
   ],
   "source": [
    "df1.info()"
   ]
  },
  {
   "cell_type": "code",
   "execution_count": 24,
   "id": "a70eada1",
   "metadata": {
    "hidden": true
   },
   "outputs": [
    {
     "data": {
      "text/plain": [
       "999"
      ]
     },
     "execution_count": 24,
     "metadata": {},
     "output_type": "execute_result"
    }
   ],
   "source": [
    "len(df1[\"cc_num\"].unique()) # 1 852 394 samples and 999 credit card numbers"
   ]
  },
  {
   "cell_type": "code",
   "execution_count": 25,
   "id": "c3db9d30",
   "metadata": {
    "hidden": true
   },
   "outputs": [],
   "source": [
    "fraud =df1[df1.is_fraud == 1] #datasample with the frauds cases"
   ]
  },
  {
   "cell_type": "code",
   "execution_count": 26,
   "id": "419e140b",
   "metadata": {
    "hidden": true
   },
   "outputs": [
    {
     "data": {
      "text/plain": [
       "976"
      ]
     },
     "execution_count": 26,
     "metadata": {},
     "output_type": "execute_result"
    }
   ],
   "source": [
    "len(fraud[\"cc_num\"].unique()) #unique credit_card numbers in a fraud datasample"
   ]
  },
  {
   "cell_type": "code",
   "execution_count": 27,
   "id": "48356d56",
   "metadata": {
    "hidden": true
   },
   "outputs": [
    {
     "data": {
      "text/plain": [
       "0          2703186189652095\n",
       "1              630423337322\n",
       "2            38859492057661\n",
       "3          3534093764340240\n",
       "4           375534208663984\n",
       "                 ...       \n",
       "1852389      30560609640617\n",
       "1852390    3556613125071656\n",
       "1852391    6011724471098086\n",
       "1852392       4079773899158\n",
       "1852393    4170689372027579\n",
       "Name: cc_num, Length: 1852394, dtype: int64"
      ]
     },
     "execution_count": 27,
     "metadata": {},
     "output_type": "execute_result"
    }
   ],
   "source": [
    "df1[\"cc_num\"]"
   ]
  },
  {
   "cell_type": "code",
   "execution_count": 28,
   "id": "3665764f",
   "metadata": {
    "hidden": true
   },
   "outputs": [
    {
     "data": {
      "text/plain": [
       "51"
      ]
     },
     "execution_count": 28,
     "metadata": {},
     "output_type": "execute_result"
    }
   ],
   "source": [
    "len(df1[\"state\"].unique())"
   ]
  },
  {
   "cell_type": "code",
   "execution_count": 29,
   "id": "cf2c45f6",
   "metadata": {
    "hidden": true
   },
   "outputs": [
    {
     "data": {
      "text/plain": [
       "906"
      ]
     },
     "execution_count": 29,
     "metadata": {},
     "output_type": "execute_result"
    }
   ],
   "source": [
    "len(df1[\"city\"].unique())"
   ]
  },
  {
   "cell_type": "code",
   "execution_count": 30,
   "id": "fe13f26b",
   "metadata": {
    "hidden": true
   },
   "outputs": [
    {
     "data": {
      "text/plain": [
       "985"
      ]
     },
     "execution_count": 30,
     "metadata": {},
     "output_type": "execute_result"
    }
   ],
   "source": [
    "len(df1[\"zip\"].unique())"
   ]
  },
  {
   "cell_type": "code",
   "execution_count": 32,
   "id": "9bbbb606",
   "metadata": {
    "hidden": true
   },
   "outputs": [
    {
     "ename": "NameError",
     "evalue": "name 'df1_num' is not defined",
     "output_type": "error",
     "traceback": [
      "\u001b[1;31m---------------------------------------------------------------------------\u001b[0m",
      "\u001b[1;31mNameError\u001b[0m                                 Traceback (most recent call last)",
      "Input \u001b[1;32mIn [32]\u001b[0m, in \u001b[0;36m<cell line: 2>\u001b[1;34m()\u001b[0m\n\u001b[0;32m      1\u001b[0m \u001b[38;5;66;03m# Amount average in dollars\u001b[39;00m\n\u001b[1;32m----> 2\u001b[0m \u001b[43mdf1_num\u001b[49m[\u001b[38;5;124m\"\u001b[39m\u001b[38;5;124mamt\u001b[39m\u001b[38;5;124m\"\u001b[39m]\u001b[38;5;241m.\u001b[39mmean()\n",
      "\u001b[1;31mNameError\u001b[0m: name 'df1_num' is not defined"
     ]
    }
   ],
   "source": [
    "# Amount average in dollars\n",
    "df1_num[\"amt\"].mean()"
   ]
  },
  {
   "cell_type": "markdown",
   "id": "4d01a266",
   "metadata": {
    "hidden": true
   },
   "source": [
    "### Getting numerical data"
   ]
  },
  {
   "cell_type": "code",
   "execution_count": null,
   "id": "b393ee0a",
   "metadata": {
    "hidden": true
   },
   "outputs": [],
   "source": [
    "df1_num = df1._get_numeric_data()"
   ]
  },
  {
   "cell_type": "code",
   "execution_count": null,
   "id": "d72345dd",
   "metadata": {
    "hidden": true
   },
   "outputs": [],
   "source": [
    "df1_num"
   ]
  },
  {
   "cell_type": "markdown",
   "id": "5383bc15",
   "metadata": {
    "hidden": true
   },
   "source": [
    "### Checking the imbalanced data"
   ]
  },
  {
   "cell_type": "markdown",
   "id": "759bbc94",
   "metadata": {
    "hidden": true
   },
   "source": [
    "<b> Number of fraud and Non-fraud cases"
   ]
  },
  {
   "cell_type": "code",
   "execution_count": null,
   "id": "2a8d8336",
   "metadata": {
    "hidden": true
   },
   "outputs": [],
   "source": [
    "cases = len(df1)\n",
    "nonfraud_count = len(df1[df1.is_fraud == 0])\n",
    "fraud_count = len(df1[df1.is_fraud == 1])\n",
    "fraud_percentage = round(fraud_count/nonfraud_count*100, 2)\n",
    "\n",
    "print(cl('CASE COUNT', attrs = ['bold']))\n",
    "print(cl('--------------------------------------------', attrs = ['bold']))\n",
    "print(cl('Total number of cases are {}'.format(cases), attrs = ['bold']))\n",
    "print(cl('Number of Non-fraud cases are {}'.format(nonfraud_count), attrs = ['bold']))\n",
    "print(cl('Number of fraud cases are {}'.format(fraud_count), attrs = ['bold']))\n",
    "print(cl('Percentage of fraud cases is {}'.format(fraud_percentage), attrs = ['bold']))\n",
    "print(cl('--------------------------------------------', attrs = ['bold']))"
   ]
  },
  {
   "cell_type": "code",
   "execution_count": null,
   "id": "0eb7560a",
   "metadata": {
    "hidden": true
   },
   "outputs": [],
   "source": [
    "colors = ['gold', 'mediumturquoise']\n",
    "labels = ['Normal','Fraud']\n",
    "values = df1['is_fraud'].value_counts()/df1['is_fraud'].shape[0]\n",
    "fig = go.Figure(data=[go.Pie(labels = labels,\n",
    "                             values=values,hole=.3)])\n",
    "fig.update_traces(hoverinfo='label+percent', textinfo='percent', textfont_size=20,\n",
    "                  marker=dict(colors=colors, line=dict(color='white', width=0.1)))\n",
    "fig.update_layout(\n",
    "    title_text=\"Credit Card Fraud\",\n",
    "    title_font_color=\"white\",\n",
    "    legend_title_font_color=\"yellow\",\n",
    "    paper_bgcolor=\"black\",\n",
    "    plot_bgcolor='black',\n",
    "    font_color=\"white\",\n",
    ")\n",
    "fig.show()"
   ]
  },
  {
   "cell_type": "markdown",
   "id": "990182f3",
   "metadata": {
    "hidden": true
   },
   "source": [
    "The data we are dealing with is highly imbalanced data and this siutation has to be handled carefully when modeling and evaluating. Only 9651 (or 0.521%) of transaction are fraudulent. That means the data is highly unbalanced respect with the target variable \"is_fraud\"."
   ]
  },
  {
   "cell_type": "markdown",
   "id": "1ea6265d",
   "metadata": {
    "hidden": true
   },
   "source": [
    "### Relation between the amount and fraud transaction"
   ]
  },
  {
   "cell_type": "code",
   "execution_count": null,
   "id": "130ce690",
   "metadata": {
    "hidden": true
   },
   "outputs": [],
   "source": [
    "nonfraud_cases = df1[df1.is_fraud == 0]\n",
    "fraud_cases = df1[df1.is_fraud == 1]\n",
    "\n",
    "print(cl('CASE AMOUNT STATISTICS', attrs = ['bold']))\n",
    "print(cl('--------------------------------------------', attrs = ['bold']))\n",
    "print(cl('NON-FRAUD CASE AMOUNT STATS', attrs = ['bold']))\n",
    "print(nonfraud_cases.amt.describe())\n",
    "print(cl('--------------------------------------------', attrs = ['bold']))\n",
    "print(cl('FRAUD CASE AMOUNT STATS', attrs = ['bold']))\n",
    "print(fraud_cases.amt.describe())\n",
    "print(cl('--------------------------------------------', attrs = ['bold']))"
   ]
  },
  {
   "cell_type": "markdown",
   "id": "852344d7",
   "metadata": {
    "hidden": true
   },
   "source": [
    "\n",
    "- For the <span class=\"girk\">non-fraud cases</span> we can observe that total amount is 1 842 743 dolars. The average transaction is 67,65 dolars. Th<span class=\"mark\">e m<span class=\"mark\">in<span class=\"burk\">imum amount to transaction is 1</span> dolar</span></span> and t<span class=\"burk\">he max amount by transaction is 28 648 dolars</span>\n",
    "- For the <span class=\"girk\">fraud</span> cases we can observe that total amount is 9 651 dolars. The average transaction is 530.6 dolars. The minimum amount to transaction is 1 dolar and the max amount by transaction is 1376.0 dolars</div><i class=\"fa fa-lightbulb-o \"></i>"
   ]
  },
  {
   "cell_type": "markdown",
   "id": "f6ab22c8",
   "metadata": {
    "hidden": true
   },
   "source": [
    "### Histograms"
   ]
  },
  {
   "cell_type": "code",
   "execution_count": null,
   "id": "bcbac4c4",
   "metadata": {
    "hidden": true,
    "scrolled": true
   },
   "outputs": [],
   "source": [
    "df1_num.hist(figsize=(14,14))"
   ]
  },
  {
   "cell_type": "markdown",
   "id": "92ec9bbf",
   "metadata": {
    "hidden": true
   },
   "source": [
    "### Challenges"
   ]
  },
  {
   "cell_type": "markdown",
   "id": "18e6f21e",
   "metadata": {
    "hidden": true
   },
   "source": [
    "<b> Class imbalance: \n",
    "- Transaction data contain much more legitimate than fraudulent transactions: The percentage of fraudulent transactions in a real-world dataset is typically well under 1%. Learning from imbalanced data is a difficult task since most learning algorithms do not handle well large differences between classes. Dealing with class imbalance requires the use of additional learning strategies like sampling or loss weighting, a topic known as imbalanced learning."
   ]
  },
  {
   "cell_type": "markdown",
   "id": "306b680f",
   "metadata": {
    "hidden": true
   },
   "source": [
    "<b> Near real-time requirements: \n",
    "- Fraud detection systems must be able to quickly detect fraudulent transactions. Given the potentially high volume of transaction data (millions of transactions per day), classification times as low as tens of milliseconds may be required. This challenge closely relates to the parallelization and scalability of fraud detection systems.\n",
    "\n",
    "<b> Categorical features:\n",
    "- Transactional data typically contain numerous categorical features, such as the ID of a customer, a terminal, the card type, and so on. Categorical features are not well handled by machine learning algorithms and must be transformed into numerical features. Common strategies for transforming categorical features include feature aggregation, graph-based transformation, or deep-learning approaches such as feature embeddings.\n",
    "\n",
    "<b> Performance measures:\n",
    "- Standard measures for classification systems, such as the mean misclassification error or the AUC ROC, are not well suited for detection problems due to the class imbalance issue, and the complex cost structure of fraud detection. A fraud detection system should be able to maximize the detection of fraudulent transactions while minimizing the number of incorrectly predicted frauds (false positives). It is often necessary to consider multiple measures to assess the overall performance of a fraud detection system. Despite its central role in the design of a fraud detection system, there is currently no consensus on which set of performance measures should be used."
   ]
  },
  {
   "cell_type": "markdown",
   "id": "7d3bd899",
   "metadata": {},
   "source": [
    "# Data Modeling ,imbalanced data and Prediction"
   ]
  },
  {
   "cell_type": "markdown",
   "id": "14124d17",
   "metadata": {},
   "source": [
    "## Plan"
   ]
  },
  {
   "cell_type": "markdown",
   "id": "6f6432a9",
   "metadata": {},
   "source": [
    "1. drop :  unix_time/, concatenate firs and last_name, \n",
    "convert cc_num from int to object\n",
    "\n",
    "1. Select the most importants features  in a df based in the EDA , [amount, \n",
    "1.1 Scaled the data\n",
    "2. Spliting the data, X_train/test and y_train/test\n",
    "3. Balance the  (Xtrain) Train data with SMOTE for numericalvar/SMOTENC for categorical variables (OVERSAMPLING WITH SMOTE°\n",
    " To counter this imbalance, it's important to use the SMOTE (Synthetic Minority Oversampling Technique) method to resample the training dataset so that the model can be trained on more balanced data for better results.\n",
    "4. Apply modelling (Logistic Regression)\n",
    "5. Confusion matrix\n",
    "6. Look in the recall metric and accurancy\n",
    "\n",
    "7. Try with another model Random forest\n",
    "8\n",
    "\n",
    "\n",
    "Based on EDA, our mos"
   ]
  },
  {
   "cell_type": "markdown",
   "id": "03470ce3",
   "metadata": {},
   "source": [
    "## Imbalanced data"
   ]
  },
  {
   "cell_type": "markdown",
   "id": "e6e801af",
   "metadata": {},
   "source": [
    "<b> Creating a copy of the DataFrame"
   ]
  },
  {
   "cell_type": "code",
   "execution_count": 33,
   "id": "7f2427ec",
   "metadata": {},
   "outputs": [],
   "source": [
    "df1_c = df1.copy()"
   ]
  },
  {
   "cell_type": "code",
   "execution_count": 34,
   "id": "ef7f448d",
   "metadata": {},
   "outputs": [],
   "source": [
    "df1_c_num = df1_c._get_numeric_data()"
   ]
  },
  {
   "cell_type": "code",
   "execution_count": 35,
   "id": "21b609e2",
   "metadata": {},
   "outputs": [
    {
     "data": {
      "text/html": [
       "<div>\n",
       "<style scoped>\n",
       "    .dataframe tbody tr th:only-of-type {\n",
       "        vertical-align: middle;\n",
       "    }\n",
       "\n",
       "    .dataframe tbody tr th {\n",
       "        vertical-align: top;\n",
       "    }\n",
       "\n",
       "    .dataframe thead th {\n",
       "        text-align: right;\n",
       "    }\n",
       "</style>\n",
       "<table border=\"1\" class=\"dataframe\">\n",
       "  <thead>\n",
       "    <tr style=\"text-align: right;\">\n",
       "      <th></th>\n",
       "      <th>cc_num</th>\n",
       "      <th>amt</th>\n",
       "      <th>zip</th>\n",
       "      <th>lat</th>\n",
       "      <th>long</th>\n",
       "      <th>city_pop</th>\n",
       "      <th>unix_time</th>\n",
       "      <th>merch_lat</th>\n",
       "      <th>merch_long</th>\n",
       "      <th>is_fraud</th>\n",
       "    </tr>\n",
       "  </thead>\n",
       "  <tbody>\n",
       "    <tr>\n",
       "      <th>0</th>\n",
       "      <td>2703186189652095</td>\n",
       "      <td>4.97</td>\n",
       "      <td>28654</td>\n",
       "      <td>36.0788</td>\n",
       "      <td>-81.1781</td>\n",
       "      <td>3495</td>\n",
       "      <td>1325376018</td>\n",
       "      <td>36.011293</td>\n",
       "      <td>-82.048315</td>\n",
       "      <td>0</td>\n",
       "    </tr>\n",
       "    <tr>\n",
       "      <th>1</th>\n",
       "      <td>630423337322</td>\n",
       "      <td>107.23</td>\n",
       "      <td>99160</td>\n",
       "      <td>48.8878</td>\n",
       "      <td>-118.2105</td>\n",
       "      <td>149</td>\n",
       "      <td>1325376044</td>\n",
       "      <td>49.159047</td>\n",
       "      <td>-118.186462</td>\n",
       "      <td>0</td>\n",
       "    </tr>\n",
       "    <tr>\n",
       "      <th>2</th>\n",
       "      <td>38859492057661</td>\n",
       "      <td>220.11</td>\n",
       "      <td>83252</td>\n",
       "      <td>42.1808</td>\n",
       "      <td>-112.2620</td>\n",
       "      <td>4154</td>\n",
       "      <td>1325376051</td>\n",
       "      <td>43.150704</td>\n",
       "      <td>-112.154481</td>\n",
       "      <td>0</td>\n",
       "    </tr>\n",
       "    <tr>\n",
       "      <th>3</th>\n",
       "      <td>3534093764340240</td>\n",
       "      <td>45.00</td>\n",
       "      <td>59632</td>\n",
       "      <td>46.2306</td>\n",
       "      <td>-112.1138</td>\n",
       "      <td>1939</td>\n",
       "      <td>1325376076</td>\n",
       "      <td>47.034331</td>\n",
       "      <td>-112.561071</td>\n",
       "      <td>0</td>\n",
       "    </tr>\n",
       "    <tr>\n",
       "      <th>4</th>\n",
       "      <td>375534208663984</td>\n",
       "      <td>41.96</td>\n",
       "      <td>24433</td>\n",
       "      <td>38.4207</td>\n",
       "      <td>-79.4629</td>\n",
       "      <td>99</td>\n",
       "      <td>1325376186</td>\n",
       "      <td>38.674999</td>\n",
       "      <td>-78.632459</td>\n",
       "      <td>0</td>\n",
       "    </tr>\n",
       "    <tr>\n",
       "      <th>...</th>\n",
       "      <td>...</td>\n",
       "      <td>...</td>\n",
       "      <td>...</td>\n",
       "      <td>...</td>\n",
       "      <td>...</td>\n",
       "      <td>...</td>\n",
       "      <td>...</td>\n",
       "      <td>...</td>\n",
       "      <td>...</td>\n",
       "      <td>...</td>\n",
       "    </tr>\n",
       "    <tr>\n",
       "      <th>1852389</th>\n",
       "      <td>30560609640617</td>\n",
       "      <td>43.77</td>\n",
       "      <td>63453</td>\n",
       "      <td>40.4931</td>\n",
       "      <td>-91.8912</td>\n",
       "      <td>519</td>\n",
       "      <td>1388534347</td>\n",
       "      <td>39.946837</td>\n",
       "      <td>-91.333331</td>\n",
       "      <td>0</td>\n",
       "    </tr>\n",
       "    <tr>\n",
       "      <th>1852390</th>\n",
       "      <td>3556613125071656</td>\n",
       "      <td>111.84</td>\n",
       "      <td>77566</td>\n",
       "      <td>29.0393</td>\n",
       "      <td>-95.4401</td>\n",
       "      <td>28739</td>\n",
       "      <td>1388534349</td>\n",
       "      <td>29.661049</td>\n",
       "      <td>-96.186633</td>\n",
       "      <td>0</td>\n",
       "    </tr>\n",
       "    <tr>\n",
       "      <th>1852391</th>\n",
       "      <td>6011724471098086</td>\n",
       "      <td>86.88</td>\n",
       "      <td>99323</td>\n",
       "      <td>46.1966</td>\n",
       "      <td>-118.9017</td>\n",
       "      <td>3684</td>\n",
       "      <td>1388534355</td>\n",
       "      <td>46.658340</td>\n",
       "      <td>-119.715054</td>\n",
       "      <td>0</td>\n",
       "    </tr>\n",
       "    <tr>\n",
       "      <th>1852392</th>\n",
       "      <td>4079773899158</td>\n",
       "      <td>7.99</td>\n",
       "      <td>83643</td>\n",
       "      <td>44.6255</td>\n",
       "      <td>-116.4493</td>\n",
       "      <td>129</td>\n",
       "      <td>1388534364</td>\n",
       "      <td>44.470525</td>\n",
       "      <td>-117.080888</td>\n",
       "      <td>0</td>\n",
       "    </tr>\n",
       "    <tr>\n",
       "      <th>1852393</th>\n",
       "      <td>4170689372027579</td>\n",
       "      <td>38.13</td>\n",
       "      <td>73034</td>\n",
       "      <td>35.6665</td>\n",
       "      <td>-97.4798</td>\n",
       "      <td>116001</td>\n",
       "      <td>1388534374</td>\n",
       "      <td>36.210097</td>\n",
       "      <td>-97.036372</td>\n",
       "      <td>0</td>\n",
       "    </tr>\n",
       "  </tbody>\n",
       "</table>\n",
       "<p>1852394 rows × 10 columns</p>\n",
       "</div>"
      ],
      "text/plain": [
       "                   cc_num     amt    zip      lat      long  city_pop  \\\n",
       "0        2703186189652095    4.97  28654  36.0788  -81.1781      3495   \n",
       "1            630423337322  107.23  99160  48.8878 -118.2105       149   \n",
       "2          38859492057661  220.11  83252  42.1808 -112.2620      4154   \n",
       "3        3534093764340240   45.00  59632  46.2306 -112.1138      1939   \n",
       "4         375534208663984   41.96  24433  38.4207  -79.4629        99   \n",
       "...                   ...     ...    ...      ...       ...       ...   \n",
       "1852389    30560609640617   43.77  63453  40.4931  -91.8912       519   \n",
       "1852390  3556613125071656  111.84  77566  29.0393  -95.4401     28739   \n",
       "1852391  6011724471098086   86.88  99323  46.1966 -118.9017      3684   \n",
       "1852392     4079773899158    7.99  83643  44.6255 -116.4493       129   \n",
       "1852393  4170689372027579   38.13  73034  35.6665  -97.4798    116001   \n",
       "\n",
       "          unix_time  merch_lat  merch_long  is_fraud  \n",
       "0        1325376018  36.011293  -82.048315         0  \n",
       "1        1325376044  49.159047 -118.186462         0  \n",
       "2        1325376051  43.150704 -112.154481         0  \n",
       "3        1325376076  47.034331 -112.561071         0  \n",
       "4        1325376186  38.674999  -78.632459         0  \n",
       "...             ...        ...         ...       ...  \n",
       "1852389  1388534347  39.946837  -91.333331         0  \n",
       "1852390  1388534349  29.661049  -96.186633         0  \n",
       "1852391  1388534355  46.658340 -119.715054         0  \n",
       "1852392  1388534364  44.470525 -117.080888         0  \n",
       "1852393  1388534374  36.210097  -97.036372         0  \n",
       "\n",
       "[1852394 rows x 10 columns]"
      ]
     },
     "execution_count": 35,
     "metadata": {},
     "output_type": "execute_result"
    }
   ],
   "source": [
    "df1_c_num"
   ]
  },
  {
   "cell_type": "code",
   "execution_count": 36,
   "id": "fd32d60d",
   "metadata": {},
   "outputs": [
    {
     "data": {
      "text/plain": [
       "0    1842743\n",
       "1       9651\n",
       "Name: is_fraud, dtype: int64"
      ]
     },
     "execution_count": 36,
     "metadata": {},
     "output_type": "execute_result"
    }
   ],
   "source": [
    "df1_c_num[\"is_fraud\"].value_counts()"
   ]
  },
  {
   "cell_type": "markdown",
   "id": "738bdc37",
   "metadata": {},
   "source": [
    "### Splitting data"
   ]
  },
  {
   "cell_type": "code",
   "execution_count": 37,
   "id": "1198c04b",
   "metadata": {},
   "outputs": [
    {
     "data": {
      "text/plain": [
       "(                      cc_num     amt    zip      lat     long  city_pop  \\\n",
       " 1772823     3506042666828517   65.38  25049  38.1372 -81.5962       630   \n",
       " 1339014     3566875419572867   88.95   5486  44.6400 -73.3113      1654   \n",
       " 1211373     2318062975163331   43.95  63353  39.4336 -91.0664      4593   \n",
       " 932250         4981132848794   64.66  43985  40.0113 -80.9701       128   \n",
       " 279098      4060579726528237    6.66  66070  39.2136 -95.4404      2661   \n",
       " ...                      ...     ...    ...      ...      ...       ...   \n",
       " 1241052     4671727014157745   73.86  46702  40.8618 -85.6067      2304   \n",
       " 1066306        4220345354880  100.51  48371  42.8223 -83.2829     24840   \n",
       " 28030       4926376199189801  227.70  72529  36.3011 -91.5281      4726   \n",
       " 277869   4355790796238264643   78.12  62360  39.8153 -91.2627      1656   \n",
       " 773630   4792627764422477317  186.80  66018  38.9462 -94.9714      5760   \n",
       " \n",
       "           unix_time  merch_lat  merch_long  \n",
       " 1772823  1387024174  38.155308  -81.925615  \n",
       " 1339014  1373076787  45.045792  -72.458732  \n",
       " 1211373  1369153930  39.767385  -90.159181  \n",
       " 932250   1357398505  39.189617  -80.103343  \n",
       " 279098   1337334032  39.331104  -95.276226  \n",
       " ...             ...        ...         ...  \n",
       " 1241052  1370097252  39.904200  -85.854011  \n",
       " 1066306  1363595019  42.390855  -82.845698  \n",
       " 28030    1326788990  35.875358  -92.037428  \n",
       " 277869   1337282988  39.367346  -90.924467  \n",
       " 773630   1354012196  39.160804  -95.236782  \n",
       " \n",
       " [1296675 rows x 9 columns],\n",
       "                    cc_num     amt    zip      lat     long  city_pop  \\\n",
       " 1313987  2264937662466770    1.74  78214  29.3641 -98.4924   1595797   \n",
       " 934753   2714019737356678    1.20  15377  39.9914 -80.4408       724   \n",
       " 1071802  4653879239169997  111.27  42171  37.0581 -86.1938      6841   \n",
       " 1074085  4116554952971686    1.59  34953  27.2625 -80.3793    181438   \n",
       " 288593   3511378610369890  174.79  35811  34.7789 -86.5438    190178   \n",
       " ...                   ...     ...    ...      ...      ...       ...   \n",
       " 1690551  4342532437704183   66.24  13811  42.2281 -76.1625      4354   \n",
       " 82378      30030380240193  112.07  78631  30.2816 -99.2410      2395   \n",
       " 212208     30428204673351   55.65  17088  40.3087 -76.2963       823   \n",
       " 1763422  4335531783520911   35.58  65066  38.3511 -91.4867      6703   \n",
       " 190060     30175986190993   47.83  56592  47.5375 -95.9941       516   \n",
       " \n",
       "           unix_time  merch_lat  merch_long  \n",
       " 1313987  1372338223  28.456118  -98.491336  \n",
       " 934753   1357486400  40.700515  -80.192342  \n",
       " 1071802  1363872725  37.569864  -87.014661  \n",
       " 1074085  1363959253  27.349826  -79.765397  \n",
       " 288593   1337643401  34.775454  -86.146634  \n",
       " ...             ...        ...         ...  \n",
       " 1690551  1385161409  41.608713  -76.927761  \n",
       " 82378    1329562248  30.948587  -99.580761  \n",
       " 212208   1334762199  40.592014  -76.837630  \n",
       " 1763422  1386866322  38.597851  -92.012683  \n",
       " 190060   1333870762  47.810874  -96.248549  \n",
       " \n",
       " [555719 rows x 9 columns],\n",
       " 1772823    0\n",
       " 1339014    0\n",
       " 1211373    0\n",
       " 932250     0\n",
       " 279098     0\n",
       "           ..\n",
       " 1241052    0\n",
       " 1066306    0\n",
       " 28030      0\n",
       " 277869     0\n",
       " 773630     0\n",
       " Name: is_fraud, Length: 1296675, dtype: int64,\n",
       " 1313987    0\n",
       " 934753     0\n",
       " 1071802    0\n",
       " 1074085    0\n",
       " 288593     0\n",
       "           ..\n",
       " 1690551    0\n",
       " 82378      0\n",
       " 212208     0\n",
       " 1763422    0\n",
       " 190060     0\n",
       " Name: is_fraud, Length: 555719, dtype: int64)"
      ]
     },
     "execution_count": 37,
     "metadata": {},
     "output_type": "execute_result"
    }
   ],
   "source": [
    "X=df1_c_num.drop(['is_fraud'], axis=1)\n",
    "y=df1_c_num.is_fraud\n",
    "\n",
    "X_train, X_test, y_train, y_test=train_test_split(X, y, test_size=.30,random_state=123)\n",
    "X_train, X_test, y_train, y_test"
   ]
  },
  {
   "cell_type": "markdown",
   "id": "79d4a0fd",
   "metadata": {},
   "source": [
    "### Scaling numerical data"
   ]
  },
  {
   "cell_type": "code",
   "execution_count": 38,
   "id": "31d639fb",
   "metadata": {},
   "outputs": [],
   "source": [
    "#fit is to find the right parameters for the z function (in this case mean and standard deviation)\n",
    "std_scaler = StandardScaler().fit(X_train)   ##. finding the parameters ( mean, variance from the training set )\n",
    "#transform function compute the result for z function.\n",
    "X_train_scaled = std_scaler.transform(X_train)\n",
    "X_test_scaled = std_scaler.transform(X_test)"
   ]
  },
  {
   "cell_type": "markdown",
   "id": "183ab731",
   "metadata": {},
   "source": [
    "## Modeling"
   ]
  },
  {
   "cell_type": "markdown",
   "id": "d11b21b0",
   "metadata": {},
   "source": [
    "Take care of the training-validation and testing\n",
    "Supervised learning ->\n",
    "- K-nearest Neighbors\n",
    "- Decision Trees (adv= highly accurate and reliable/Disv= Need to understand and lable input.)\n",
    "- Logistic Regression (Sup Learning)\n",
    "- Ensemble Learning -> Random Forest?? most used. Adv = Avoid the overfiting problem and gives better predictions when compared with a single model/ Computing time high"
   ]
  },
  {
   "cell_type": "markdown",
   "id": "2a82db0d",
   "metadata": {},
   "source": [
    "### KNN Classifier model on the training data"
   ]
  },
  {
   "cell_type": "code",
   "execution_count": null,
   "id": "6165e910",
   "metadata": {},
   "outputs": [],
   "source": [
    "# K-Nearest Neighbors\n",
    "\n",
    "n = 5\n",
    "\n",
    "modelknn = KNeighborsClassifier(n_neighbors = n)\n",
    "modelknn.fit(X_train_scaled, y_train)\n",
    "knn_y_pred = modelknn.predict(X_test_scaled)\n",
    "knn_y_pred_train = modelknn.predict(X_train_scaled)"
   ]
  },
  {
   "cell_type": "markdown",
   "id": "610ba34f",
   "metadata": {},
   "source": [
    "#### Metrics (Accuracy, Precision and Recall)"
   ]
  },
  {
   "cell_type": "markdown",
   "id": "f78b54dc",
   "metadata": {},
   "source": [
    "<b> Function to compute the metrics Accuracy, Precision and recall to the models"
   ]
  },
  {
   "cell_type": "code",
   "execution_count": null,
   "id": "c166385b",
   "metadata": {},
   "outputs": [],
   "source": [
    "def evaluate_classification_model(y_train, y_pred_train, y_test, y_pred_test):\n",
    "    performance_df = pd.DataFrame({'Error_metric': ['Accuracy','Precision','Recall'],\n",
    "                               'Train': [accuracy_score(y_train, y_pred_train),\n",
    "                                         precision_score(y_train, y_pred_train),\n",
    "                                         recall_score(y_train, y_pred_train)],\n",
    "                               'Test': [accuracy_score(y_test, y_pred_test),\n",
    "                                        precision_score(y_test, y_pred_test),\n",
    "                                        recall_score(y_test, y_pred_test)]})\n",
    "    \n",
    "    pd.options.display.float_format = '{:.2f}'.format\n",
    "\n",
    "    df_train = pd.DataFrame({'Real': y_train, 'Predicted': y_pred_train})\n",
    "    df_test  = pd.DataFrame({'Real': y_test,  'Predicted': y_pred_test})\n",
    "\n",
    "    return performance_df, df_train, df_test\n"
   ]
  },
  {
   "cell_type": "code",
   "execution_count": null,
   "id": "4b7edd7a",
   "metadata": {},
   "outputs": [],
   "source": [
    "## calling the function to evaluate the calssification model\n",
    "error_metrics_df,y_train_vs_predicted, \\\n",
    "    y_test_vs_predicted=evaluate_classification_model(y_train, knn_y_pred_train,\n",
    "                                                    y_test, knn_y_pred)\n",
    "error_metrics_df"
   ]
  },
  {
   "cell_type": "markdown",
   "id": "b4eafad1",
   "metadata": {},
   "source": [
    "We can observe in our metrics that the accuracy is not a good metric to describe. We going to follow the recall. In this case, because we're taking the numerical features and unbalanced data, we have a recall of 47% in our train dataset and 33% in our testdataset. The next step is balancing the data to get a better score."
   ]
  },
  {
   "cell_type": "code",
   "execution_count": null,
   "id": "3e6dff89",
   "metadata": {},
   "outputs": [],
   "source": [
    "fig, ax = plt.subplots(1,2, figsize=(14,8))\n",
    "\n",
    "plot_confusion_matrix(modelknn,X_train_scaled,y_train,ax=ax[0], values_format = 'd')\n",
    "ax[0].title.set_text(\"Train Set\")\n",
    "\n",
    "plot_confusion_matrix(modelknn,X_test_scaled,y_test,ax=ax[1],values_format = 'd')\n",
    "ax[1].title.set_text(\"Test Set\")\n",
    "#Train set\n",
    "# 1 288 832 = True Negatives= True label -> \"0\" -> (no_fraud)  =  (Tre trnsaction is non-fraud, and it is not actually a fraud)\n",
    "# 3567 = False Negatives= True label -> \"1\" -> (fraud)  =  (The transaction is predicted as non-fraud, but actually is a fraud)\n",
    "# 1088 = False positive= Predicted label -> \"1\" & True label -> \"0\"  = (The transaction is predicted as fraud, but it is not actually a fraud)\n",
    "# 3188  = True positive= Predicted label -> \"1\" -> (fraud) =  (the transaction is predicted as fraud and it is actually a fraud)\n",
    "\n",
    "\n",
    "#accurany = how many records are correctly classified?really good prediction =171 + 265 =436 / ()\n",
    "#accuray score=correctly classified divided by the total of records : 436/(436+19=455)\n",
    "\n",
    "#presicion = percentage of positive cases that my models is able to catch all the cases (people who have cancer = 19 +265=284)\n",
    "#how the model is able to catch 265 cases, so 93% =(265/284)\n"
   ]
  },
  {
   "cell_type": "markdown",
   "id": "4d1730c3",
   "metadata": {},
   "source": [
    "### Decision Trees"
   ]
  },
  {
   "cell_type": "markdown",
   "id": "9f4e48cf",
   "metadata": {},
   "source": [
    "- Fit a Decision Tree Classifier on the training data.\n",
    "- Check the accuracy on the test data.\n",
    "- Decision trees do not need feature scaling!!!"
   ]
  },
  {
   "cell_type": "code",
   "execution_count": null,
   "id": "339a68c2",
   "metadata": {},
   "outputs": [],
   "source": [
    "# classification ( to predict a categorical feature ): DecisionTreeClassifier() \n",
    "tree_model = DecisionTreeClassifier() # we need 3 levels minimum because the model could be overfitting (good preformance on the training set, poor generalization to other data/test data) or so complex.\n",
    "#skearn dont handle categorical variables.\n",
    "# 1. Decision Tree\n",
    "tree_model.fit(X_train, y_train)\n",
    "tree_y_pred_train = tree_model.predict(X_train)\n",
    "tree_y_pred_test = tree_model.predict(X_test)"
   ]
  },
  {
   "cell_type": "markdown",
   "id": "0e3c1028",
   "metadata": {},
   "source": [
    "#### Metrics (Accuracy, Precision and Recall)"
   ]
  },
  {
   "cell_type": "code",
   "execution_count": null,
   "id": "873577f9",
   "metadata": {},
   "outputs": [],
   "source": [
    "## calling the function to evaluate the calssification model\n",
    "error_metrics_df,y_train_vs_predicted, \\\n",
    "    y_test_vs_predicted=evaluate_classification_model(y_train, tree_y_pred_train,\n",
    "                                                    y_test, tree_y_pred_test)\n",
    "error_metrics_df"
   ]
  },
  {
   "cell_type": "code",
   "execution_count": null,
   "id": "76c5ffa3",
   "metadata": {},
   "outputs": [],
   "source": [
    "fig, ax = plt.subplots(1,2, figsize=(14,8))\n",
    "\n",
    "plot_confusion_matrix(tree_model,X_train,y_train,ax=ax[0], values_format = 'd')\n",
    "ax[0].title.set_text(\"Train Set\")\n",
    "\n",
    "plot_confusion_matrix(tree_model,X_test,y_test,ax=ax[1],values_format = 'd')\n",
    "ax[1].title.set_text(\"Test Set\")\n"
   ]
  },
  {
   "cell_type": "markdown",
   "id": "d5649763",
   "metadata": {},
   "source": [
    "#### Feature Importances"
   ]
  },
  {
   "cell_type": "code",
   "execution_count": null,
   "id": "d1b369bb",
   "metadata": {},
   "outputs": [],
   "source": [
    "plt.figure(figsize=(20,14))\n",
    "plt.barh(X.columns,tree_model.feature_importances_)"
   ]
  },
  {
   "cell_type": "code",
   "execution_count": null,
   "id": "bef3a5f8",
   "metadata": {},
   "outputs": [],
   "source": [
    "fig, axes = plt.subplots(nrows = 1,ncols = 1,figsize = (34,20))\n",
    "\n",
    "plot_tree(tree_model,filled = True, rounded=True,feature_names=X.columns)\n",
    "plt.show() "
   ]
  },
  {
   "cell_type": "markdown",
   "id": "39e3c17f",
   "metadata": {},
   "source": [
    "### Logistic Regression (Sup Learning)\n"
   ]
  },
  {
   "cell_type": "code",
   "execution_count": null,
   "id": "4d904e78",
   "metadata": {},
   "outputs": [],
   "source": [
    "# Logistic Regression (scaled data)\n",
    "\n",
    "lr = LogisticRegression()\n",
    "lr.fit(X_train_scaled, y_train)\n",
    "lr_y_pred_test = lr.predict(X_test_scaled)\n",
    "lr_y_pred_train=lr.predict(X_train_scaled)"
   ]
  },
  {
   "cell_type": "markdown",
   "id": "5a735199",
   "metadata": {},
   "source": [
    "#### Metrics (Accuracy, Precision and Recall)"
   ]
  },
  {
   "cell_type": "code",
   "execution_count": null,
   "id": "a7723b07",
   "metadata": {},
   "outputs": [],
   "source": [
    "## calling the function to evaluate the calssification model\n",
    "error_metrics_df,y_train_vs_predicted, \\\n",
    "    y_test_vs_predicted=evaluate_classification_model(y_train, lr_y_pred_train,\n",
    "                                                    y_test, lr_y_pred_test)\n",
    "error_metrics_df"
   ]
  },
  {
   "cell_type": "code",
   "execution_count": null,
   "id": "753fc171",
   "metadata": {},
   "outputs": [],
   "source": [
    "fig, ax = plt.subplots(1,2, figsize=(14,8))\n",
    "\n",
    "plot_confusion_matrix(lr,X_train_scaled,y_train,ax=ax[0], values_format = 'd')\n",
    "ax[0].title.set_text(\"Train Set\")\n",
    "\n",
    "plot_confusion_matrix(lr,X_test_scaled,y_test,ax=ax[1],values_format = 'd')\n",
    "ax[1].title.set_text(\"Test Set\")\n"
   ]
  },
  {
   "cell_type": "markdown",
   "id": "0692c7a6",
   "metadata": {},
   "source": [
    "### Random Forest (ensamble modeling)?? most used. Adv = Avoid the overfiting problem and gives better predictions when compared with a single model/ Computing time high\n"
   ]
  },
  {
   "cell_type": "code",
   "execution_count": null,
   "id": "72652797",
   "metadata": {},
   "outputs": [],
   "source": [
    "# 5. Random Forest Tree\n",
    "rf = RandomForestClassifier(max_depth=6,min_samples_leaf=20,max_features=None,n_estimators=100,\n",
    "                             bootstrap=True,oob_score=True, random_state=0)\n",
    "rf.fit(X_train_scaled, y_train)\n",
    "rf_y_pred_test = rf.predict(X_test_scaled)\n",
    "rf_y_pred_train = rf.predict(X_train_scaled)"
   ]
  },
  {
   "cell_type": "markdown",
   "id": "bbb05842",
   "metadata": {},
   "source": [
    "#### Metrics (Accuracy, Precision and Recall)"
   ]
  },
  {
   "cell_type": "code",
   "execution_count": null,
   "id": "8fdfc59e",
   "metadata": {},
   "outputs": [],
   "source": [
    "#oob_score(asking for the score accurancy in the rest of training set, using as a validation set)/ bootstrap: give me the same amount of data and replacement\n",
    "cross_val_scores = cross_val_score(rf, X_train, y_train, cv=5)\n",
    "cross_val_scores"
   ]
  },
  {
   "cell_type": "markdown",
   "id": "f254e3df",
   "metadata": {},
   "source": [
    "## Pre-processing to balance the data (Notebook :\"Credit_Card_fraud_Detection_2_Balanced_data\""
   ]
  },
  {
   "cell_type": "markdown",
   "id": "70415a57",
   "metadata": {},
   "source": [
    "<b> SCALE DE DATA BEFORE TO DO THE SAMPLING METHODS.!!!!!\n",
    "- It doesn't play much of a difference but you should do most pre-processing steps (encoding, normalization/standardization, etc) before under/over-sampling the data.\n",
    "\n",
    "This is because many sampling techniques require a simple model to be trained (e.g. SMOTE uses a k-NN algorithm to generate samples, ClusteringCentroids under-sampling technique involves k-means clustering). These models have better performance on pre-processed datasets (e.g. both k-NN and k-means use euclidean distance, which requires the data to be normalized).\n",
    "\n",
    "So, in order for the sampling techniques to work best, you should previously perform any pre-processing steps you can. That being said, if you use a random over/under-sampler, I don't think it plays much of a difference."
   ]
  },
  {
   "cell_type": "code",
   "execution_count": null,
   "id": "dc5eca01",
   "metadata": {},
   "outputs": [],
   "source": [
    "len(df1_c_num[\"zip\"].unique())"
   ]
  },
  {
   "cell_type": "code",
   "execution_count": null,
   "id": "2b3c4dad",
   "metadata": {},
   "outputs": [],
   "source": [
    "df1_c_num.info()"
   ]
  },
  {
   "cell_type": "markdown",
   "id": "2f160267",
   "metadata": {},
   "source": [
    "convert a zip column to dummies columns"
   ]
  },
  {
   "cell_type": "code",
   "execution_count": null,
   "id": "e6d135f5",
   "metadata": {
    "scrolled": true
   },
   "outputs": [],
   "source": [
    "df1_c.info()"
   ]
  },
  {
   "cell_type": "markdown",
   "id": "13e49b8f",
   "metadata": {},
   "source": [
    "### Taking the mos important categorical features state, category and \"is_fraud\" to convert in dummies"
   ]
  },
  {
   "cell_type": "code",
   "execution_count": null,
   "id": "1d52b338",
   "metadata": {},
   "outputs": [],
   "source": [
    "cat_val=pd.get_dummies(df1_c[[\"state\", \"category\", \"is_fraud\"]], drop_first=True)\n",
    "cat_val"
   ]
  },
  {
   "cell_type": "code",
   "execution_count": null,
   "id": "6d9b34f7",
   "metadata": {},
   "outputs": [],
   "source": [
    "len(cat_val[cat_val.is_fraud == 1])\n",
    "len(cat_val[cat_val.is_fraud == 0])"
   ]
  },
  {
   "cell_type": "markdown",
   "id": "4a981368",
   "metadata": {},
   "source": [
    "### Taking the numerical features amount, unix_time( transaction time)"
   ]
  },
  {
   "cell_type": "code",
   "execution_count": null,
   "id": "d89c9450",
   "metadata": {},
   "outputs": [],
   "source": [
    "num_val = df1_c_num[[\"amt\",\"unix_time\"]]"
   ]
  },
  {
   "cell_type": "markdown",
   "id": "c23e8d2f",
   "metadata": {},
   "source": [
    "### Scaling the numerical dataset"
   ]
  },
  {
   "cell_type": "code",
   "execution_count": null,
   "id": "32bb4781",
   "metadata": {},
   "outputs": [],
   "source": [
    "#fit is to find the right parameters for the z function (in this case mean and standard deviation)\n",
    "std_scaler = StandardScaler().fit(num_val)   ##. finding the parameters ( mean, variance from the training set )\n",
    "#transform function compute the result for z function.\n",
    "num_val_scaled = std_scaler.transform(num_val)"
   ]
  },
  {
   "cell_type": "code",
   "execution_count": null,
   "id": "ca352217",
   "metadata": {
    "scrolled": true
   },
   "outputs": [],
   "source": [
    "num_val_scaled = pd.DataFrame(data=num_val_scaled, columns =[\"amt\", \"unix_time\"] )\n",
    "num_val_scaled"
   ]
  },
  {
   "cell_type": "markdown",
   "id": "488440a3",
   "metadata": {},
   "source": [
    "### Concatening the categorical and numerical"
   ]
  },
  {
   "cell_type": "code",
   "execution_count": null,
   "id": "853b665c",
   "metadata": {},
   "outputs": [],
   "source": [
    "frames = [num_val_scaled, cat_val]\n",
    "df_concat = pd.concat(frames,axis =1, join = 'inner')"
   ]
  },
  {
   "cell_type": "code",
   "execution_count": null,
   "id": "2689909e",
   "metadata": {},
   "outputs": [],
   "source": [
    "df_concat"
   ]
  },
  {
   "cell_type": "code",
   "execution_count": null,
   "id": "ede2ea02",
   "metadata": {},
   "outputs": [],
   "source": [
    "file_name =r\"C:\\Users\\Barbara\\OneDrive\\Documents\\GitHub\\IH_final_project\\Data\\df_concat_dummies.csv\"\n",
    "df_concat.to_csv(file_name, encoding='utf-8', index=False)"
   ]
  },
  {
   "cell_type": "code",
   "execution_count": null,
   "id": "c662a47a",
   "metadata": {},
   "outputs": [],
   "source": []
  }
 ],
 "metadata": {
  "kernelspec": {
   "display_name": "Python 3 (ipykernel)",
   "language": "python",
   "name": "python3"
  },
  "language_info": {
   "codemirror_mode": {
    "name": "ipython",
    "version": 3
   },
   "file_extension": ".py",
   "mimetype": "text/x-python",
   "name": "python",
   "nbconvert_exporter": "python",
   "pygments_lexer": "ipython3",
   "version": "3.9.12"
  },
  "nbTranslate": {
   "displayLangs": [
    "*"
   ],
   "hotkey": "alt-t",
   "langInMainMenu": true,
   "sourceLang": "en",
   "targetLang": "fr",
   "useGoogleTranslate": true
  },
  "toc": {
   "base_numbering": 1,
   "nav_menu": {
    "height": "120px",
    "width": "414px"
   },
   "number_sections": true,
   "sideBar": true,
   "skip_h1_title": false,
   "title_cell": "Table of Contents",
   "title_sidebar": "Contents",
   "toc_cell": false,
   "toc_position": {
    "height": "calc(100% - 180px)",
    "left": "10px",
    "top": "150px",
    "width": "229px"
   },
   "toc_section_display": true,
   "toc_window_display": true
  },
  "varInspector": {
   "cols": {
    "lenName": 16,
    "lenType": 16,
    "lenVar": 40
   },
   "kernels_config": {
    "python": {
     "delete_cmd_postfix": "",
     "delete_cmd_prefix": "del ",
     "library": "var_list.py",
     "varRefreshCmd": "print(var_dic_list())"
    },
    "r": {
     "delete_cmd_postfix": ") ",
     "delete_cmd_prefix": "rm(",
     "library": "var_list.r",
     "varRefreshCmd": "cat(var_dic_list()) "
    }
   },
   "types_to_exclude": [
    "module",
    "function",
    "builtin_function_or_method",
    "instance",
    "_Feature"
   ],
   "window_display": false
  }
 },
 "nbformat": 4,
 "nbformat_minor": 5
}
