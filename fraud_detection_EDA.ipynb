{
 "cells": [
  {
   "cell_type": "markdown",
   "id": "dd7035bc",
   "metadata": {},
   "source": [
    "## Fraud Detection"
   ]
  },
  {
   "cell_type": "markdown",
   "id": "2e4a05f0",
   "metadata": {},
   "source": [
    "## Import Libraries and Data"
   ]
  },
  {
   "cell_type": "code",
   "execution_count": 1,
   "id": "ea6706c9",
   "metadata": {},
   "outputs": [
    {
     "data": {
      "text/html": [
       "        <script type=\"text/javascript\">\n",
       "        window.PlotlyConfig = {MathJaxConfig: 'local'};\n",
       "        if (window.MathJax && window.MathJax.Hub && window.MathJax.Hub.Config) {window.MathJax.Hub.Config({SVG: {font: \"STIX-Web\"}});}\n",
       "        if (typeof require !== 'undefined') {\n",
       "        require.undef(\"plotly\");\n",
       "        requirejs.config({\n",
       "            paths: {\n",
       "                'plotly': ['https://cdn.plot.ly/plotly-2.12.1.min']\n",
       "            }\n",
       "        });\n",
       "        require(['plotly'], function(Plotly) {\n",
       "            window._Plotly = Plotly;\n",
       "        });\n",
       "        }\n",
       "        </script>\n",
       "        "
      ]
     },
     "metadata": {},
     "output_type": "display_data"
    }
   ],
   "source": [
    "%matplotlib inline\n",
    "import numpy as np\n",
    "import pandas as pd\n",
    "from matplotlib import pyplot as plt\n",
    "from plotly.offline import download_plotlyjs, init_notebook_mode, plot, iplot\n",
    "init_notebook_mode(connected=True)\n",
    "import seaborn as sns\n",
    "import matplotlib.pyplot as plt\n",
    "sns.set_theme(style=\"ticks\", color_codes=True)\n",
    "from IPython.display import Image\n",
    "from IPython.display import HTML\n",
    "from IPython.display import Markdown, display\n",
    "def printmd(string):display(Markdown(string))\n",
    "import seaborn as sns\n",
    "import statsmodels.api as sm\n",
    "from scipy.stats import boxcox\n",
    "pd.options.display.max_rows = 100\n",
    "import matplotlib.pyplot as plt\n",
    "from scipy.stats import norm\n",
    "from sklearn.model_selection import train_test_split\n",
    "from sklearn.preprocessing import StandardScaler\n",
    "from sklearn.preprocessing import quantile_transform\n",
    "from sklearn.preprocessing import minmax_scale\n",
    "from sklearn.preprocessing import OneHotEncoder  ##. better to use dummy from pandas \n",
    "from sklearn.preprocessing import PowerTransformer\n",
    "from sklearn.linear_model import LinearRegression\n",
    "from sklearn.model_selection import train_test_split\n",
    "from sklearn.metrics import r2_score\n",
    "from sklearn.metrics import mean_squared_error as mse\n",
    "from sklearn.metrics import mean_absolute_error as mae\n",
    "import plotly.graph_objects as go\n",
    "import scipy.stats as stats\n",
    "import matplotlib.pyplot as plt\n",
    "import seaborn as sns\n",
    "from matplotlib import rcParams\n",
    "import plotly.express as px\n",
    "import plotly.figure_factory as ff"
   ]
  },
  {
   "cell_type": "code",
   "execution_count": 2,
   "id": "edd8a6e8",
   "metadata": {},
   "outputs": [],
   "source": [
    "file = pd.read_csv(\"fraudTrain.csv\")\n",
    "file2 = pd.read_csv(\"fraudTest.csv\")"
   ]
  },
  {
   "cell_type": "markdown",
   "id": "8ab83327",
   "metadata": {},
   "source": [
    "## Concating both tables"
   ]
  },
  {
   "cell_type": "code",
   "execution_count": 3,
   "id": "5ba44015",
   "metadata": {},
   "outputs": [],
   "source": [
    "ft = pd.concat([file,file2],axis = 0, sort=False).reset_index(drop=True)"
   ]
  },
  {
   "cell_type": "code",
   "execution_count": 4,
   "id": "cf8cca0d",
   "metadata": {},
   "outputs": [
    {
     "data": {
      "text/html": [
       "<div>\n",
       "<style scoped>\n",
       "    .dataframe tbody tr th:only-of-type {\n",
       "        vertical-align: middle;\n",
       "    }\n",
       "\n",
       "    .dataframe tbody tr th {\n",
       "        vertical-align: top;\n",
       "    }\n",
       "\n",
       "    .dataframe thead th {\n",
       "        text-align: right;\n",
       "    }\n",
       "</style>\n",
       "<table border=\"1\" class=\"dataframe\">\n",
       "  <thead>\n",
       "    <tr style=\"text-align: right;\">\n",
       "      <th></th>\n",
       "      <th>trans_date_trans_time</th>\n",
       "      <th>cc_num</th>\n",
       "      <th>merchant</th>\n",
       "      <th>category</th>\n",
       "      <th>amt</th>\n",
       "      <th>first</th>\n",
       "      <th>last</th>\n",
       "      <th>gender</th>\n",
       "      <th>street</th>\n",
       "      <th>city</th>\n",
       "      <th>state</th>\n",
       "      <th>zip</th>\n",
       "      <th>city_pop</th>\n",
       "      <th>job</th>\n",
       "      <th>dob</th>\n",
       "      <th>trans_num</th>\n",
       "      <th>unix_time</th>\n",
       "      <th>is_fraud</th>\n",
       "    </tr>\n",
       "  </thead>\n",
       "  <tbody>\n",
       "    <tr>\n",
       "      <th>0</th>\n",
       "      <td>2019-01-01 00:00:18</td>\n",
       "      <td>2703186189652095</td>\n",
       "      <td>fraud_Rippin, Kub and Mann</td>\n",
       "      <td>misc_net</td>\n",
       "      <td>4.97</td>\n",
       "      <td>Jennifer</td>\n",
       "      <td>Banks</td>\n",
       "      <td>F</td>\n",
       "      <td>561 Perry Cove</td>\n",
       "      <td>Moravian Falls</td>\n",
       "      <td>NC</td>\n",
       "      <td>28654</td>\n",
       "      <td>3495</td>\n",
       "      <td>Psychologist, counselling</td>\n",
       "      <td>1988-03-09</td>\n",
       "      <td>0b242abb623afc578575680df30655b9</td>\n",
       "      <td>1325376018</td>\n",
       "      <td>0</td>\n",
       "    </tr>\n",
       "    <tr>\n",
       "      <th>1</th>\n",
       "      <td>2019-01-01 00:00:44</td>\n",
       "      <td>630423337322</td>\n",
       "      <td>fraud_Heller, Gutmann and Zieme</td>\n",
       "      <td>grocery_pos</td>\n",
       "      <td>107.23</td>\n",
       "      <td>Stephanie</td>\n",
       "      <td>Gill</td>\n",
       "      <td>F</td>\n",
       "      <td>43039 Riley Greens Suite 393</td>\n",
       "      <td>Orient</td>\n",
       "      <td>WA</td>\n",
       "      <td>99160</td>\n",
       "      <td>149</td>\n",
       "      <td>Special educational needs teacher</td>\n",
       "      <td>1978-06-21</td>\n",
       "      <td>1f76529f8574734946361c461b024d99</td>\n",
       "      <td>1325376044</td>\n",
       "      <td>0</td>\n",
       "    </tr>\n",
       "    <tr>\n",
       "      <th>2</th>\n",
       "      <td>2019-01-01 00:00:51</td>\n",
       "      <td>38859492057661</td>\n",
       "      <td>fraud_Lind-Buckridge</td>\n",
       "      <td>entertainment</td>\n",
       "      <td>220.11</td>\n",
       "      <td>Edward</td>\n",
       "      <td>Sanchez</td>\n",
       "      <td>M</td>\n",
       "      <td>594 White Dale Suite 530</td>\n",
       "      <td>Malad City</td>\n",
       "      <td>ID</td>\n",
       "      <td>83252</td>\n",
       "      <td>4154</td>\n",
       "      <td>Nature conservation officer</td>\n",
       "      <td>1962-01-19</td>\n",
       "      <td>a1a22d70485983eac12b5b88dad1cf95</td>\n",
       "      <td>1325376051</td>\n",
       "      <td>0</td>\n",
       "    </tr>\n",
       "    <tr>\n",
       "      <th>3</th>\n",
       "      <td>2019-01-01 00:01:16</td>\n",
       "      <td>3534093764340240</td>\n",
       "      <td>fraud_Kutch, Hermiston and Farrell</td>\n",
       "      <td>gas_transport</td>\n",
       "      <td>45.00</td>\n",
       "      <td>Jeremy</td>\n",
       "      <td>White</td>\n",
       "      <td>M</td>\n",
       "      <td>9443 Cynthia Court Apt. 038</td>\n",
       "      <td>Boulder</td>\n",
       "      <td>MT</td>\n",
       "      <td>59632</td>\n",
       "      <td>1939</td>\n",
       "      <td>Patent attorney</td>\n",
       "      <td>1967-01-12</td>\n",
       "      <td>6b849c168bdad6f867558c3793159a81</td>\n",
       "      <td>1325376076</td>\n",
       "      <td>0</td>\n",
       "    </tr>\n",
       "    <tr>\n",
       "      <th>4</th>\n",
       "      <td>2019-01-01 00:03:06</td>\n",
       "      <td>375534208663984</td>\n",
       "      <td>fraud_Keeling-Crist</td>\n",
       "      <td>misc_pos</td>\n",
       "      <td>41.96</td>\n",
       "      <td>Tyler</td>\n",
       "      <td>Garcia</td>\n",
       "      <td>M</td>\n",
       "      <td>408 Bradley Rest</td>\n",
       "      <td>Doe Hill</td>\n",
       "      <td>VA</td>\n",
       "      <td>24433</td>\n",
       "      <td>99</td>\n",
       "      <td>Dance movement psychotherapist</td>\n",
       "      <td>1986-03-28</td>\n",
       "      <td>a41d7549acf90789359a9aa5346dcb46</td>\n",
       "      <td>1325376186</td>\n",
       "      <td>0</td>\n",
       "    </tr>\n",
       "    <tr>\n",
       "      <th>...</th>\n",
       "      <td>...</td>\n",
       "      <td>...</td>\n",
       "      <td>...</td>\n",
       "      <td>...</td>\n",
       "      <td>...</td>\n",
       "      <td>...</td>\n",
       "      <td>...</td>\n",
       "      <td>...</td>\n",
       "      <td>...</td>\n",
       "      <td>...</td>\n",
       "      <td>...</td>\n",
       "      <td>...</td>\n",
       "      <td>...</td>\n",
       "      <td>...</td>\n",
       "      <td>...</td>\n",
       "      <td>...</td>\n",
       "      <td>...</td>\n",
       "      <td>...</td>\n",
       "    </tr>\n",
       "    <tr>\n",
       "      <th>1852389</th>\n",
       "      <td>2020-12-31 23:59:07</td>\n",
       "      <td>30560609640617</td>\n",
       "      <td>fraud_Reilly and Sons</td>\n",
       "      <td>health_fitness</td>\n",
       "      <td>43.77</td>\n",
       "      <td>Michael</td>\n",
       "      <td>Olson</td>\n",
       "      <td>M</td>\n",
       "      <td>558 Michael Estates</td>\n",
       "      <td>Luray</td>\n",
       "      <td>MO</td>\n",
       "      <td>63453</td>\n",
       "      <td>519</td>\n",
       "      <td>Town planner</td>\n",
       "      <td>1966-02-13</td>\n",
       "      <td>9b1f753c79894c9f4b71f04581835ada</td>\n",
       "      <td>1388534347</td>\n",
       "      <td>0</td>\n",
       "    </tr>\n",
       "    <tr>\n",
       "      <th>1852390</th>\n",
       "      <td>2020-12-31 23:59:09</td>\n",
       "      <td>3556613125071656</td>\n",
       "      <td>fraud_Hoppe-Parisian</td>\n",
       "      <td>kids_pets</td>\n",
       "      <td>111.84</td>\n",
       "      <td>Jose</td>\n",
       "      <td>Vasquez</td>\n",
       "      <td>M</td>\n",
       "      <td>572 Davis Mountains</td>\n",
       "      <td>Lake Jackson</td>\n",
       "      <td>TX</td>\n",
       "      <td>77566</td>\n",
       "      <td>28739</td>\n",
       "      <td>Futures trader</td>\n",
       "      <td>1999-12-27</td>\n",
       "      <td>2090647dac2c89a1d86c514c427f5b91</td>\n",
       "      <td>1388534349</td>\n",
       "      <td>0</td>\n",
       "    </tr>\n",
       "    <tr>\n",
       "      <th>1852391</th>\n",
       "      <td>2020-12-31 23:59:15</td>\n",
       "      <td>6011724471098086</td>\n",
       "      <td>fraud_Rau-Robel</td>\n",
       "      <td>kids_pets</td>\n",
       "      <td>86.88</td>\n",
       "      <td>Ann</td>\n",
       "      <td>Lawson</td>\n",
       "      <td>F</td>\n",
       "      <td>144 Evans Islands Apt. 683</td>\n",
       "      <td>Burbank</td>\n",
       "      <td>WA</td>\n",
       "      <td>99323</td>\n",
       "      <td>3684</td>\n",
       "      <td>Musician</td>\n",
       "      <td>1981-11-29</td>\n",
       "      <td>6c5b7c8add471975aa0fec023b2e8408</td>\n",
       "      <td>1388534355</td>\n",
       "      <td>0</td>\n",
       "    </tr>\n",
       "    <tr>\n",
       "      <th>1852392</th>\n",
       "      <td>2020-12-31 23:59:24</td>\n",
       "      <td>4079773899158</td>\n",
       "      <td>fraud_Breitenberg LLC</td>\n",
       "      <td>travel</td>\n",
       "      <td>7.99</td>\n",
       "      <td>Eric</td>\n",
       "      <td>Preston</td>\n",
       "      <td>M</td>\n",
       "      <td>7020 Doyle Stream Apt. 951</td>\n",
       "      <td>Mesa</td>\n",
       "      <td>ID</td>\n",
       "      <td>83643</td>\n",
       "      <td>129</td>\n",
       "      <td>Cartographer</td>\n",
       "      <td>1965-12-15</td>\n",
       "      <td>14392d723bb7737606b2700ac791b7aa</td>\n",
       "      <td>1388534364</td>\n",
       "      <td>0</td>\n",
       "    </tr>\n",
       "    <tr>\n",
       "      <th>1852393</th>\n",
       "      <td>2020-12-31 23:59:34</td>\n",
       "      <td>4170689372027579</td>\n",
       "      <td>fraud_Dare-Marvin</td>\n",
       "      <td>entertainment</td>\n",
       "      <td>38.13</td>\n",
       "      <td>Samuel</td>\n",
       "      <td>Frey</td>\n",
       "      <td>M</td>\n",
       "      <td>830 Myers Plaza Apt. 384</td>\n",
       "      <td>Edmond</td>\n",
       "      <td>OK</td>\n",
       "      <td>73034</td>\n",
       "      <td>116001</td>\n",
       "      <td>Media buyer</td>\n",
       "      <td>1993-05-10</td>\n",
       "      <td>1765bb45b3aa3224b4cdcb6e7a96cee3</td>\n",
       "      <td>1388534374</td>\n",
       "      <td>0</td>\n",
       "    </tr>\n",
       "  </tbody>\n",
       "</table>\n",
       "<p>1852394 rows × 18 columns</p>\n",
       "</div>"
      ],
      "text/plain": [
       "        trans_date_trans_time            cc_num  \\\n",
       "0         2019-01-01 00:00:18  2703186189652095   \n",
       "1         2019-01-01 00:00:44      630423337322   \n",
       "2         2019-01-01 00:00:51    38859492057661   \n",
       "3         2019-01-01 00:01:16  3534093764340240   \n",
       "4         2019-01-01 00:03:06   375534208663984   \n",
       "...                       ...               ...   \n",
       "1852389   2020-12-31 23:59:07    30560609640617   \n",
       "1852390   2020-12-31 23:59:09  3556613125071656   \n",
       "1852391   2020-12-31 23:59:15  6011724471098086   \n",
       "1852392   2020-12-31 23:59:24     4079773899158   \n",
       "1852393   2020-12-31 23:59:34  4170689372027579   \n",
       "\n",
       "                                   merchant        category     amt  \\\n",
       "0                fraud_Rippin, Kub and Mann        misc_net    4.97   \n",
       "1           fraud_Heller, Gutmann and Zieme     grocery_pos  107.23   \n",
       "2                      fraud_Lind-Buckridge   entertainment  220.11   \n",
       "3        fraud_Kutch, Hermiston and Farrell   gas_transport   45.00   \n",
       "4                       fraud_Keeling-Crist        misc_pos   41.96   \n",
       "...                                     ...             ...     ...   \n",
       "1852389               fraud_Reilly and Sons  health_fitness   43.77   \n",
       "1852390                fraud_Hoppe-Parisian       kids_pets  111.84   \n",
       "1852391                     fraud_Rau-Robel       kids_pets   86.88   \n",
       "1852392               fraud_Breitenberg LLC          travel    7.99   \n",
       "1852393                   fraud_Dare-Marvin   entertainment   38.13   \n",
       "\n",
       "             first     last gender                        street  \\\n",
       "0         Jennifer    Banks      F                561 Perry Cove   \n",
       "1        Stephanie     Gill      F  43039 Riley Greens Suite 393   \n",
       "2           Edward  Sanchez      M      594 White Dale Suite 530   \n",
       "3           Jeremy    White      M   9443 Cynthia Court Apt. 038   \n",
       "4            Tyler   Garcia      M              408 Bradley Rest   \n",
       "...            ...      ...    ...                           ...   \n",
       "1852389    Michael    Olson      M           558 Michael Estates   \n",
       "1852390       Jose  Vasquez      M           572 Davis Mountains   \n",
       "1852391        Ann   Lawson      F    144 Evans Islands Apt. 683   \n",
       "1852392       Eric  Preston      M    7020 Doyle Stream Apt. 951   \n",
       "1852393     Samuel     Frey      M      830 Myers Plaza Apt. 384   \n",
       "\n",
       "                   city state    zip  city_pop  \\\n",
       "0        Moravian Falls    NC  28654      3495   \n",
       "1                Orient    WA  99160       149   \n",
       "2            Malad City    ID  83252      4154   \n",
       "3               Boulder    MT  59632      1939   \n",
       "4              Doe Hill    VA  24433        99   \n",
       "...                 ...   ...    ...       ...   \n",
       "1852389           Luray    MO  63453       519   \n",
       "1852390    Lake Jackson    TX  77566     28739   \n",
       "1852391         Burbank    WA  99323      3684   \n",
       "1852392            Mesa    ID  83643       129   \n",
       "1852393          Edmond    OK  73034    116001   \n",
       "\n",
       "                                       job         dob  \\\n",
       "0                Psychologist, counselling  1988-03-09   \n",
       "1        Special educational needs teacher  1978-06-21   \n",
       "2              Nature conservation officer  1962-01-19   \n",
       "3                          Patent attorney  1967-01-12   \n",
       "4           Dance movement psychotherapist  1986-03-28   \n",
       "...                                    ...         ...   \n",
       "1852389                       Town planner  1966-02-13   \n",
       "1852390                     Futures trader  1999-12-27   \n",
       "1852391                           Musician  1981-11-29   \n",
       "1852392                       Cartographer  1965-12-15   \n",
       "1852393                        Media buyer  1993-05-10   \n",
       "\n",
       "                                trans_num   unix_time  is_fraud  \n",
       "0        0b242abb623afc578575680df30655b9  1325376018         0  \n",
       "1        1f76529f8574734946361c461b024d99  1325376044         0  \n",
       "2        a1a22d70485983eac12b5b88dad1cf95  1325376051         0  \n",
       "3        6b849c168bdad6f867558c3793159a81  1325376076         0  \n",
       "4        a41d7549acf90789359a9aa5346dcb46  1325376186         0  \n",
       "...                                   ...         ...       ...  \n",
       "1852389  9b1f753c79894c9f4b71f04581835ada  1388534347         0  \n",
       "1852390  2090647dac2c89a1d86c514c427f5b91  1388534349         0  \n",
       "1852391  6c5b7c8add471975aa0fec023b2e8408  1388534355         0  \n",
       "1852392  14392d723bb7737606b2700ac791b7aa  1388534364         0  \n",
       "1852393  1765bb45b3aa3224b4cdcb6e7a96cee3  1388534374         0  \n",
       "\n",
       "[1852394 rows x 18 columns]"
      ]
     },
     "execution_count": 4,
     "metadata": {},
     "output_type": "execute_result"
    }
   ],
   "source": [
    "ft = ft.drop([\"Unnamed: 0\", \"long\",\"lat\",\"merch_lat\",\"merch_long\"], axis=1)\n",
    "ft"
   ]
  },
  {
   "cell_type": "markdown",
   "id": "efd105a4",
   "metadata": {},
   "source": [
    "## Describing Data"
   ]
  },
  {
   "cell_type": "code",
   "execution_count": 5,
   "id": "68455bee",
   "metadata": {
    "scrolled": true
   },
   "outputs": [
    {
     "data": {
      "text/html": [
       "<div>\n",
       "<style scoped>\n",
       "    .dataframe tbody tr th:only-of-type {\n",
       "        vertical-align: middle;\n",
       "    }\n",
       "\n",
       "    .dataframe tbody tr th {\n",
       "        vertical-align: top;\n",
       "    }\n",
       "\n",
       "    .dataframe thead th {\n",
       "        text-align: right;\n",
       "    }\n",
       "</style>\n",
       "<table border=\"1\" class=\"dataframe\">\n",
       "  <thead>\n",
       "    <tr style=\"text-align: right;\">\n",
       "      <th></th>\n",
       "      <th>cc_num</th>\n",
       "      <th>amt</th>\n",
       "      <th>zip</th>\n",
       "      <th>city_pop</th>\n",
       "      <th>unix_time</th>\n",
       "      <th>is_fraud</th>\n",
       "    </tr>\n",
       "  </thead>\n",
       "  <tbody>\n",
       "    <tr>\n",
       "      <th>count</th>\n",
       "      <td>1.852394e+06</td>\n",
       "      <td>1.852394e+06</td>\n",
       "      <td>1.852394e+06</td>\n",
       "      <td>1.852394e+06</td>\n",
       "      <td>1.852394e+06</td>\n",
       "      <td>1.852394e+06</td>\n",
       "    </tr>\n",
       "    <tr>\n",
       "      <th>mean</th>\n",
       "      <td>4.173860e+17</td>\n",
       "      <td>7.006357e+01</td>\n",
       "      <td>4.881326e+04</td>\n",
       "      <td>8.864367e+04</td>\n",
       "      <td>1.358674e+09</td>\n",
       "      <td>5.210015e-03</td>\n",
       "    </tr>\n",
       "    <tr>\n",
       "      <th>std</th>\n",
       "      <td>1.309115e+18</td>\n",
       "      <td>1.592540e+02</td>\n",
       "      <td>2.688185e+04</td>\n",
       "      <td>3.014876e+05</td>\n",
       "      <td>1.819508e+07</td>\n",
       "      <td>7.199217e-02</td>\n",
       "    </tr>\n",
       "    <tr>\n",
       "      <th>min</th>\n",
       "      <td>6.041621e+10</td>\n",
       "      <td>1.000000e+00</td>\n",
       "      <td>1.257000e+03</td>\n",
       "      <td>2.300000e+01</td>\n",
       "      <td>1.325376e+09</td>\n",
       "      <td>0.000000e+00</td>\n",
       "    </tr>\n",
       "    <tr>\n",
       "      <th>25%</th>\n",
       "      <td>1.800429e+14</td>\n",
       "      <td>9.640000e+00</td>\n",
       "      <td>2.623700e+04</td>\n",
       "      <td>7.410000e+02</td>\n",
       "      <td>1.343017e+09</td>\n",
       "      <td>0.000000e+00</td>\n",
       "    </tr>\n",
       "    <tr>\n",
       "      <th>50%</th>\n",
       "      <td>3.521417e+15</td>\n",
       "      <td>4.745000e+01</td>\n",
       "      <td>4.817400e+04</td>\n",
       "      <td>2.443000e+03</td>\n",
       "      <td>1.357089e+09</td>\n",
       "      <td>0.000000e+00</td>\n",
       "    </tr>\n",
       "    <tr>\n",
       "      <th>75%</th>\n",
       "      <td>4.642255e+15</td>\n",
       "      <td>8.310000e+01</td>\n",
       "      <td>7.204200e+04</td>\n",
       "      <td>2.032800e+04</td>\n",
       "      <td>1.374581e+09</td>\n",
       "      <td>0.000000e+00</td>\n",
       "    </tr>\n",
       "    <tr>\n",
       "      <th>max</th>\n",
       "      <td>4.992346e+18</td>\n",
       "      <td>2.894890e+04</td>\n",
       "      <td>9.992100e+04</td>\n",
       "      <td>2.906700e+06</td>\n",
       "      <td>1.388534e+09</td>\n",
       "      <td>1.000000e+00</td>\n",
       "    </tr>\n",
       "  </tbody>\n",
       "</table>\n",
       "</div>"
      ],
      "text/plain": [
       "             cc_num           amt           zip      city_pop     unix_time  \\\n",
       "count  1.852394e+06  1.852394e+06  1.852394e+06  1.852394e+06  1.852394e+06   \n",
       "mean   4.173860e+17  7.006357e+01  4.881326e+04  8.864367e+04  1.358674e+09   \n",
       "std    1.309115e+18  1.592540e+02  2.688185e+04  3.014876e+05  1.819508e+07   \n",
       "min    6.041621e+10  1.000000e+00  1.257000e+03  2.300000e+01  1.325376e+09   \n",
       "25%    1.800429e+14  9.640000e+00  2.623700e+04  7.410000e+02  1.343017e+09   \n",
       "50%    3.521417e+15  4.745000e+01  4.817400e+04  2.443000e+03  1.357089e+09   \n",
       "75%    4.642255e+15  8.310000e+01  7.204200e+04  2.032800e+04  1.374581e+09   \n",
       "max    4.992346e+18  2.894890e+04  9.992100e+04  2.906700e+06  1.388534e+09   \n",
       "\n",
       "           is_fraud  \n",
       "count  1.852394e+06  \n",
       "mean   5.210015e-03  \n",
       "std    7.199217e-02  \n",
       "min    0.000000e+00  \n",
       "25%    0.000000e+00  \n",
       "50%    0.000000e+00  \n",
       "75%    0.000000e+00  \n",
       "max    1.000000e+00  "
      ]
     },
     "execution_count": 5,
     "metadata": {},
     "output_type": "execute_result"
    }
   ],
   "source": [
    "ft.describe()"
   ]
  },
  {
   "cell_type": "markdown",
   "id": "3cd95b6c",
   "metadata": {},
   "source": [
    "trans_date_trans_time = Transaction date and time\n",
    "cc_num = Creditcard Number\n",
    "merchant = Name of Seller\n",
    "category = Branch\n",
    "amt = Amount\n",
    "first = First Name\n",
    "last = Last Name\n",
    "gender = Gender\n",
    "street = Address\n",
    "City = City\n",
    "Lat = Latitude\n",
    "Long = Longitude\n",
    "city_pop = City Population\n",
    "job = Profession\n",
    "dob = Date of Birth\n",
    "trans_num = Transaction Number\n",
    "unix_time = Time in seconds\n",
    "merch_lat = Seller Latitude\n",
    "merch_long = Seller Longitude\n",
    "is_fraud = Is a Fraud or not"
   ]
  },
  {
   "cell_type": "code",
   "execution_count": 6,
   "id": "6f26b774",
   "metadata": {
    "scrolled": true
   },
   "outputs": [
    {
     "name": "stdout",
     "output_type": "stream",
     "text": [
      "<class 'pandas.core.frame.DataFrame'>\n",
      "RangeIndex: 1852394 entries, 0 to 1852393\n",
      "Data columns (total 18 columns):\n",
      " #   Column                 Dtype  \n",
      "---  ------                 -----  \n",
      " 0   trans_date_trans_time  object \n",
      " 1   cc_num                 int64  \n",
      " 2   merchant               object \n",
      " 3   category               object \n",
      " 4   amt                    float64\n",
      " 5   first                  object \n",
      " 6   last                   object \n",
      " 7   gender                 object \n",
      " 8   street                 object \n",
      " 9   city                   object \n",
      " 10  state                  object \n",
      " 11  zip                    int64  \n",
      " 12  city_pop               int64  \n",
      " 13  job                    object \n",
      " 14  dob                    object \n",
      " 15  trans_num              object \n",
      " 16  unix_time              int64  \n",
      " 17  is_fraud               int64  \n",
      "dtypes: float64(1), int64(5), object(12)\n",
      "memory usage: 254.4+ MB\n"
     ]
    }
   ],
   "source": [
    "ft.info()"
   ]
  },
  {
   "cell_type": "code",
   "execution_count": 7,
   "id": "df1137e9",
   "metadata": {},
   "outputs": [
    {
     "data": {
      "application/vnd.plotly.v1+json": {
       "config": {
        "plotlyServerURL": "https://plot.ly"
       },
       "data": [
        {
         "hole": 0.3,
         "hoverinfo": "label+percent",
         "labels": [
          "Normal",
          "Fraud"
         ],
         "marker": {
          "colors": [
           "gold",
           "mediumturquoise"
          ],
          "line": {
           "color": "white",
           "width": 0.1
          }
         },
         "textfont": {
          "size": 20
         },
         "textinfo": "percent",
         "type": "pie",
         "values": [
          0.9947899852839083,
          0.005210014716091717
         ]
        }
       ],
       "layout": {
        "font": {
         "color": "white"
        },
        "legend": {
         "title": {
          "font": {
           "color": "yellow"
          }
         }
        },
        "paper_bgcolor": "black",
        "plot_bgcolor": "black",
        "template": {
         "data": {
          "bar": [
           {
            "error_x": {
             "color": "#2a3f5f"
            },
            "error_y": {
             "color": "#2a3f5f"
            },
            "marker": {
             "line": {
              "color": "#E5ECF6",
              "width": 0.5
             },
             "pattern": {
              "fillmode": "overlay",
              "size": 10,
              "solidity": 0.2
             }
            },
            "type": "bar"
           }
          ],
          "barpolar": [
           {
            "marker": {
             "line": {
              "color": "#E5ECF6",
              "width": 0.5
             },
             "pattern": {
              "fillmode": "overlay",
              "size": 10,
              "solidity": 0.2
             }
            },
            "type": "barpolar"
           }
          ],
          "carpet": [
           {
            "aaxis": {
             "endlinecolor": "#2a3f5f",
             "gridcolor": "white",
             "linecolor": "white",
             "minorgridcolor": "white",
             "startlinecolor": "#2a3f5f"
            },
            "baxis": {
             "endlinecolor": "#2a3f5f",
             "gridcolor": "white",
             "linecolor": "white",
             "minorgridcolor": "white",
             "startlinecolor": "#2a3f5f"
            },
            "type": "carpet"
           }
          ],
          "choropleth": [
           {
            "colorbar": {
             "outlinewidth": 0,
             "ticks": ""
            },
            "type": "choropleth"
           }
          ],
          "contour": [
           {
            "colorbar": {
             "outlinewidth": 0,
             "ticks": ""
            },
            "colorscale": [
             [
              0,
              "#0d0887"
             ],
             [
              0.1111111111111111,
              "#46039f"
             ],
             [
              0.2222222222222222,
              "#7201a8"
             ],
             [
              0.3333333333333333,
              "#9c179e"
             ],
             [
              0.4444444444444444,
              "#bd3786"
             ],
             [
              0.5555555555555556,
              "#d8576b"
             ],
             [
              0.6666666666666666,
              "#ed7953"
             ],
             [
              0.7777777777777778,
              "#fb9f3a"
             ],
             [
              0.8888888888888888,
              "#fdca26"
             ],
             [
              1,
              "#f0f921"
             ]
            ],
            "type": "contour"
           }
          ],
          "contourcarpet": [
           {
            "colorbar": {
             "outlinewidth": 0,
             "ticks": ""
            },
            "type": "contourcarpet"
           }
          ],
          "heatmap": [
           {
            "colorbar": {
             "outlinewidth": 0,
             "ticks": ""
            },
            "colorscale": [
             [
              0,
              "#0d0887"
             ],
             [
              0.1111111111111111,
              "#46039f"
             ],
             [
              0.2222222222222222,
              "#7201a8"
             ],
             [
              0.3333333333333333,
              "#9c179e"
             ],
             [
              0.4444444444444444,
              "#bd3786"
             ],
             [
              0.5555555555555556,
              "#d8576b"
             ],
             [
              0.6666666666666666,
              "#ed7953"
             ],
             [
              0.7777777777777778,
              "#fb9f3a"
             ],
             [
              0.8888888888888888,
              "#fdca26"
             ],
             [
              1,
              "#f0f921"
             ]
            ],
            "type": "heatmap"
           }
          ],
          "heatmapgl": [
           {
            "colorbar": {
             "outlinewidth": 0,
             "ticks": ""
            },
            "colorscale": [
             [
              0,
              "#0d0887"
             ],
             [
              0.1111111111111111,
              "#46039f"
             ],
             [
              0.2222222222222222,
              "#7201a8"
             ],
             [
              0.3333333333333333,
              "#9c179e"
             ],
             [
              0.4444444444444444,
              "#bd3786"
             ],
             [
              0.5555555555555556,
              "#d8576b"
             ],
             [
              0.6666666666666666,
              "#ed7953"
             ],
             [
              0.7777777777777778,
              "#fb9f3a"
             ],
             [
              0.8888888888888888,
              "#fdca26"
             ],
             [
              1,
              "#f0f921"
             ]
            ],
            "type": "heatmapgl"
           }
          ],
          "histogram": [
           {
            "marker": {
             "pattern": {
              "fillmode": "overlay",
              "size": 10,
              "solidity": 0.2
             }
            },
            "type": "histogram"
           }
          ],
          "histogram2d": [
           {
            "colorbar": {
             "outlinewidth": 0,
             "ticks": ""
            },
            "colorscale": [
             [
              0,
              "#0d0887"
             ],
             [
              0.1111111111111111,
              "#46039f"
             ],
             [
              0.2222222222222222,
              "#7201a8"
             ],
             [
              0.3333333333333333,
              "#9c179e"
             ],
             [
              0.4444444444444444,
              "#bd3786"
             ],
             [
              0.5555555555555556,
              "#d8576b"
             ],
             [
              0.6666666666666666,
              "#ed7953"
             ],
             [
              0.7777777777777778,
              "#fb9f3a"
             ],
             [
              0.8888888888888888,
              "#fdca26"
             ],
             [
              1,
              "#f0f921"
             ]
            ],
            "type": "histogram2d"
           }
          ],
          "histogram2dcontour": [
           {
            "colorbar": {
             "outlinewidth": 0,
             "ticks": ""
            },
            "colorscale": [
             [
              0,
              "#0d0887"
             ],
             [
              0.1111111111111111,
              "#46039f"
             ],
             [
              0.2222222222222222,
              "#7201a8"
             ],
             [
              0.3333333333333333,
              "#9c179e"
             ],
             [
              0.4444444444444444,
              "#bd3786"
             ],
             [
              0.5555555555555556,
              "#d8576b"
             ],
             [
              0.6666666666666666,
              "#ed7953"
             ],
             [
              0.7777777777777778,
              "#fb9f3a"
             ],
             [
              0.8888888888888888,
              "#fdca26"
             ],
             [
              1,
              "#f0f921"
             ]
            ],
            "type": "histogram2dcontour"
           }
          ],
          "mesh3d": [
           {
            "colorbar": {
             "outlinewidth": 0,
             "ticks": ""
            },
            "type": "mesh3d"
           }
          ],
          "parcoords": [
           {
            "line": {
             "colorbar": {
              "outlinewidth": 0,
              "ticks": ""
             }
            },
            "type": "parcoords"
           }
          ],
          "pie": [
           {
            "automargin": true,
            "type": "pie"
           }
          ],
          "scatter": [
           {
            "fillpattern": {
             "fillmode": "overlay",
             "size": 10,
             "solidity": 0.2
            },
            "type": "scatter"
           }
          ],
          "scatter3d": [
           {
            "line": {
             "colorbar": {
              "outlinewidth": 0,
              "ticks": ""
             }
            },
            "marker": {
             "colorbar": {
              "outlinewidth": 0,
              "ticks": ""
             }
            },
            "type": "scatter3d"
           }
          ],
          "scattercarpet": [
           {
            "marker": {
             "colorbar": {
              "outlinewidth": 0,
              "ticks": ""
             }
            },
            "type": "scattercarpet"
           }
          ],
          "scattergeo": [
           {
            "marker": {
             "colorbar": {
              "outlinewidth": 0,
              "ticks": ""
             }
            },
            "type": "scattergeo"
           }
          ],
          "scattergl": [
           {
            "marker": {
             "colorbar": {
              "outlinewidth": 0,
              "ticks": ""
             }
            },
            "type": "scattergl"
           }
          ],
          "scattermapbox": [
           {
            "marker": {
             "colorbar": {
              "outlinewidth": 0,
              "ticks": ""
             }
            },
            "type": "scattermapbox"
           }
          ],
          "scatterpolar": [
           {
            "marker": {
             "colorbar": {
              "outlinewidth": 0,
              "ticks": ""
             }
            },
            "type": "scatterpolar"
           }
          ],
          "scatterpolargl": [
           {
            "marker": {
             "colorbar": {
              "outlinewidth": 0,
              "ticks": ""
             }
            },
            "type": "scatterpolargl"
           }
          ],
          "scatterternary": [
           {
            "marker": {
             "colorbar": {
              "outlinewidth": 0,
              "ticks": ""
             }
            },
            "type": "scatterternary"
           }
          ],
          "surface": [
           {
            "colorbar": {
             "outlinewidth": 0,
             "ticks": ""
            },
            "colorscale": [
             [
              0,
              "#0d0887"
             ],
             [
              0.1111111111111111,
              "#46039f"
             ],
             [
              0.2222222222222222,
              "#7201a8"
             ],
             [
              0.3333333333333333,
              "#9c179e"
             ],
             [
              0.4444444444444444,
              "#bd3786"
             ],
             [
              0.5555555555555556,
              "#d8576b"
             ],
             [
              0.6666666666666666,
              "#ed7953"
             ],
             [
              0.7777777777777778,
              "#fb9f3a"
             ],
             [
              0.8888888888888888,
              "#fdca26"
             ],
             [
              1,
              "#f0f921"
             ]
            ],
            "type": "surface"
           }
          ],
          "table": [
           {
            "cells": {
             "fill": {
              "color": "#EBF0F8"
             },
             "line": {
              "color": "white"
             }
            },
            "header": {
             "fill": {
              "color": "#C8D4E3"
             },
             "line": {
              "color": "white"
             }
            },
            "type": "table"
           }
          ]
         },
         "layout": {
          "annotationdefaults": {
           "arrowcolor": "#2a3f5f",
           "arrowhead": 0,
           "arrowwidth": 1
          },
          "autotypenumbers": "strict",
          "coloraxis": {
           "colorbar": {
            "outlinewidth": 0,
            "ticks": ""
           }
          },
          "colorscale": {
           "diverging": [
            [
             0,
             "#8e0152"
            ],
            [
             0.1,
             "#c51b7d"
            ],
            [
             0.2,
             "#de77ae"
            ],
            [
             0.3,
             "#f1b6da"
            ],
            [
             0.4,
             "#fde0ef"
            ],
            [
             0.5,
             "#f7f7f7"
            ],
            [
             0.6,
             "#e6f5d0"
            ],
            [
             0.7,
             "#b8e186"
            ],
            [
             0.8,
             "#7fbc41"
            ],
            [
             0.9,
             "#4d9221"
            ],
            [
             1,
             "#276419"
            ]
           ],
           "sequential": [
            [
             0,
             "#0d0887"
            ],
            [
             0.1111111111111111,
             "#46039f"
            ],
            [
             0.2222222222222222,
             "#7201a8"
            ],
            [
             0.3333333333333333,
             "#9c179e"
            ],
            [
             0.4444444444444444,
             "#bd3786"
            ],
            [
             0.5555555555555556,
             "#d8576b"
            ],
            [
             0.6666666666666666,
             "#ed7953"
            ],
            [
             0.7777777777777778,
             "#fb9f3a"
            ],
            [
             0.8888888888888888,
             "#fdca26"
            ],
            [
             1,
             "#f0f921"
            ]
           ],
           "sequentialminus": [
            [
             0,
             "#0d0887"
            ],
            [
             0.1111111111111111,
             "#46039f"
            ],
            [
             0.2222222222222222,
             "#7201a8"
            ],
            [
             0.3333333333333333,
             "#9c179e"
            ],
            [
             0.4444444444444444,
             "#bd3786"
            ],
            [
             0.5555555555555556,
             "#d8576b"
            ],
            [
             0.6666666666666666,
             "#ed7953"
            ],
            [
             0.7777777777777778,
             "#fb9f3a"
            ],
            [
             0.8888888888888888,
             "#fdca26"
            ],
            [
             1,
             "#f0f921"
            ]
           ]
          },
          "colorway": [
           "#636efa",
           "#EF553B",
           "#00cc96",
           "#ab63fa",
           "#FFA15A",
           "#19d3f3",
           "#FF6692",
           "#B6E880",
           "#FF97FF",
           "#FECB52"
          ],
          "font": {
           "color": "#2a3f5f"
          },
          "geo": {
           "bgcolor": "white",
           "lakecolor": "white",
           "landcolor": "#E5ECF6",
           "showlakes": true,
           "showland": true,
           "subunitcolor": "white"
          },
          "hoverlabel": {
           "align": "left"
          },
          "hovermode": "closest",
          "mapbox": {
           "style": "light"
          },
          "paper_bgcolor": "white",
          "plot_bgcolor": "#E5ECF6",
          "polar": {
           "angularaxis": {
            "gridcolor": "white",
            "linecolor": "white",
            "ticks": ""
           },
           "bgcolor": "#E5ECF6",
           "radialaxis": {
            "gridcolor": "white",
            "linecolor": "white",
            "ticks": ""
           }
          },
          "scene": {
           "xaxis": {
            "backgroundcolor": "#E5ECF6",
            "gridcolor": "white",
            "gridwidth": 2,
            "linecolor": "white",
            "showbackground": true,
            "ticks": "",
            "zerolinecolor": "white"
           },
           "yaxis": {
            "backgroundcolor": "#E5ECF6",
            "gridcolor": "white",
            "gridwidth": 2,
            "linecolor": "white",
            "showbackground": true,
            "ticks": "",
            "zerolinecolor": "white"
           },
           "zaxis": {
            "backgroundcolor": "#E5ECF6",
            "gridcolor": "white",
            "gridwidth": 2,
            "linecolor": "white",
            "showbackground": true,
            "ticks": "",
            "zerolinecolor": "white"
           }
          },
          "shapedefaults": {
           "line": {
            "color": "#2a3f5f"
           }
          },
          "ternary": {
           "aaxis": {
            "gridcolor": "white",
            "linecolor": "white",
            "ticks": ""
           },
           "baxis": {
            "gridcolor": "white",
            "linecolor": "white",
            "ticks": ""
           },
           "bgcolor": "#E5ECF6",
           "caxis": {
            "gridcolor": "white",
            "linecolor": "white",
            "ticks": ""
           }
          },
          "title": {
           "x": 0.05
          },
          "xaxis": {
           "automargin": true,
           "gridcolor": "white",
           "linecolor": "white",
           "ticks": "",
           "title": {
            "standoff": 15
           },
           "zerolinecolor": "white",
           "zerolinewidth": 2
          },
          "yaxis": {
           "automargin": true,
           "gridcolor": "white",
           "linecolor": "white",
           "ticks": "",
           "title": {
            "standoff": 15
           },
           "zerolinecolor": "white",
           "zerolinewidth": 2
          }
         }
        },
        "title": {
         "font": {
          "color": "white"
         },
         "text": "Credit Card Fraud"
        }
       }
      },
      "text/html": [
       "<div>                            <div id=\"7a7e37fe-a101-4acb-bbd1-750e21d935d7\" class=\"plotly-graph-div\" style=\"height:525px; width:100%;\"></div>            <script type=\"text/javascript\">                require([\"plotly\"], function(Plotly) {                    window.PLOTLYENV=window.PLOTLYENV || {};                                    if (document.getElementById(\"7a7e37fe-a101-4acb-bbd1-750e21d935d7\")) {                    Plotly.newPlot(                        \"7a7e37fe-a101-4acb-bbd1-750e21d935d7\",                        [{\"hole\":0.3,\"labels\":[\"Normal\",\"Fraud\"],\"values\":[0.9947899852839083,0.005210014716091717],\"type\":\"pie\",\"textfont\":{\"size\":20},\"marker\":{\"line\":{\"color\":\"white\",\"width\":0.1},\"colors\":[\"gold\",\"mediumturquoise\"]},\"hoverinfo\":\"label+percent\",\"textinfo\":\"percent\"}],                        {\"template\":{\"data\":{\"histogram2dcontour\":[{\"type\":\"histogram2dcontour\",\"colorbar\":{\"outlinewidth\":0,\"ticks\":\"\"},\"colorscale\":[[0.0,\"#0d0887\"],[0.1111111111111111,\"#46039f\"],[0.2222222222222222,\"#7201a8\"],[0.3333333333333333,\"#9c179e\"],[0.4444444444444444,\"#bd3786\"],[0.5555555555555556,\"#d8576b\"],[0.6666666666666666,\"#ed7953\"],[0.7777777777777778,\"#fb9f3a\"],[0.8888888888888888,\"#fdca26\"],[1.0,\"#f0f921\"]]}],\"choropleth\":[{\"type\":\"choropleth\",\"colorbar\":{\"outlinewidth\":0,\"ticks\":\"\"}}],\"histogram2d\":[{\"type\":\"histogram2d\",\"colorbar\":{\"outlinewidth\":0,\"ticks\":\"\"},\"colorscale\":[[0.0,\"#0d0887\"],[0.1111111111111111,\"#46039f\"],[0.2222222222222222,\"#7201a8\"],[0.3333333333333333,\"#9c179e\"],[0.4444444444444444,\"#bd3786\"],[0.5555555555555556,\"#d8576b\"],[0.6666666666666666,\"#ed7953\"],[0.7777777777777778,\"#fb9f3a\"],[0.8888888888888888,\"#fdca26\"],[1.0,\"#f0f921\"]]}],\"heatmap\":[{\"type\":\"heatmap\",\"colorbar\":{\"outlinewidth\":0,\"ticks\":\"\"},\"colorscale\":[[0.0,\"#0d0887\"],[0.1111111111111111,\"#46039f\"],[0.2222222222222222,\"#7201a8\"],[0.3333333333333333,\"#9c179e\"],[0.4444444444444444,\"#bd3786\"],[0.5555555555555556,\"#d8576b\"],[0.6666666666666666,\"#ed7953\"],[0.7777777777777778,\"#fb9f3a\"],[0.8888888888888888,\"#fdca26\"],[1.0,\"#f0f921\"]]}],\"heatmapgl\":[{\"type\":\"heatmapgl\",\"colorbar\":{\"outlinewidth\":0,\"ticks\":\"\"},\"colorscale\":[[0.0,\"#0d0887\"],[0.1111111111111111,\"#46039f\"],[0.2222222222222222,\"#7201a8\"],[0.3333333333333333,\"#9c179e\"],[0.4444444444444444,\"#bd3786\"],[0.5555555555555556,\"#d8576b\"],[0.6666666666666666,\"#ed7953\"],[0.7777777777777778,\"#fb9f3a\"],[0.8888888888888888,\"#fdca26\"],[1.0,\"#f0f921\"]]}],\"contourcarpet\":[{\"type\":\"contourcarpet\",\"colorbar\":{\"outlinewidth\":0,\"ticks\":\"\"}}],\"contour\":[{\"type\":\"contour\",\"colorbar\":{\"outlinewidth\":0,\"ticks\":\"\"},\"colorscale\":[[0.0,\"#0d0887\"],[0.1111111111111111,\"#46039f\"],[0.2222222222222222,\"#7201a8\"],[0.3333333333333333,\"#9c179e\"],[0.4444444444444444,\"#bd3786\"],[0.5555555555555556,\"#d8576b\"],[0.6666666666666666,\"#ed7953\"],[0.7777777777777778,\"#fb9f3a\"],[0.8888888888888888,\"#fdca26\"],[1.0,\"#f0f921\"]]}],\"surface\":[{\"type\":\"surface\",\"colorbar\":{\"outlinewidth\":0,\"ticks\":\"\"},\"colorscale\":[[0.0,\"#0d0887\"],[0.1111111111111111,\"#46039f\"],[0.2222222222222222,\"#7201a8\"],[0.3333333333333333,\"#9c179e\"],[0.4444444444444444,\"#bd3786\"],[0.5555555555555556,\"#d8576b\"],[0.6666666666666666,\"#ed7953\"],[0.7777777777777778,\"#fb9f3a\"],[0.8888888888888888,\"#fdca26\"],[1.0,\"#f0f921\"]]}],\"mesh3d\":[{\"type\":\"mesh3d\",\"colorbar\":{\"outlinewidth\":0,\"ticks\":\"\"}}],\"scatter\":[{\"fillpattern\":{\"fillmode\":\"overlay\",\"size\":10,\"solidity\":0.2},\"type\":\"scatter\"}],\"parcoords\":[{\"type\":\"parcoords\",\"line\":{\"colorbar\":{\"outlinewidth\":0,\"ticks\":\"\"}}}],\"scatterpolargl\":[{\"type\":\"scatterpolargl\",\"marker\":{\"colorbar\":{\"outlinewidth\":0,\"ticks\":\"\"}}}],\"bar\":[{\"error_x\":{\"color\":\"#2a3f5f\"},\"error_y\":{\"color\":\"#2a3f5f\"},\"marker\":{\"line\":{\"color\":\"#E5ECF6\",\"width\":0.5},\"pattern\":{\"fillmode\":\"overlay\",\"size\":10,\"solidity\":0.2}},\"type\":\"bar\"}],\"scattergeo\":[{\"type\":\"scattergeo\",\"marker\":{\"colorbar\":{\"outlinewidth\":0,\"ticks\":\"\"}}}],\"scatterpolar\":[{\"type\":\"scatterpolar\",\"marker\":{\"colorbar\":{\"outlinewidth\":0,\"ticks\":\"\"}}}],\"histogram\":[{\"marker\":{\"pattern\":{\"fillmode\":\"overlay\",\"size\":10,\"solidity\":0.2}},\"type\":\"histogram\"}],\"scattergl\":[{\"type\":\"scattergl\",\"marker\":{\"colorbar\":{\"outlinewidth\":0,\"ticks\":\"\"}}}],\"scatter3d\":[{\"type\":\"scatter3d\",\"line\":{\"colorbar\":{\"outlinewidth\":0,\"ticks\":\"\"}},\"marker\":{\"colorbar\":{\"outlinewidth\":0,\"ticks\":\"\"}}}],\"scattermapbox\":[{\"type\":\"scattermapbox\",\"marker\":{\"colorbar\":{\"outlinewidth\":0,\"ticks\":\"\"}}}],\"scatterternary\":[{\"type\":\"scatterternary\",\"marker\":{\"colorbar\":{\"outlinewidth\":0,\"ticks\":\"\"}}}],\"scattercarpet\":[{\"type\":\"scattercarpet\",\"marker\":{\"colorbar\":{\"outlinewidth\":0,\"ticks\":\"\"}}}],\"carpet\":[{\"aaxis\":{\"endlinecolor\":\"#2a3f5f\",\"gridcolor\":\"white\",\"linecolor\":\"white\",\"minorgridcolor\":\"white\",\"startlinecolor\":\"#2a3f5f\"},\"baxis\":{\"endlinecolor\":\"#2a3f5f\",\"gridcolor\":\"white\",\"linecolor\":\"white\",\"minorgridcolor\":\"white\",\"startlinecolor\":\"#2a3f5f\"},\"type\":\"carpet\"}],\"table\":[{\"cells\":{\"fill\":{\"color\":\"#EBF0F8\"},\"line\":{\"color\":\"white\"}},\"header\":{\"fill\":{\"color\":\"#C8D4E3\"},\"line\":{\"color\":\"white\"}},\"type\":\"table\"}],\"barpolar\":[{\"marker\":{\"line\":{\"color\":\"#E5ECF6\",\"width\":0.5},\"pattern\":{\"fillmode\":\"overlay\",\"size\":10,\"solidity\":0.2}},\"type\":\"barpolar\"}],\"pie\":[{\"automargin\":true,\"type\":\"pie\"}]},\"layout\":{\"autotypenumbers\":\"strict\",\"colorway\":[\"#636efa\",\"#EF553B\",\"#00cc96\",\"#ab63fa\",\"#FFA15A\",\"#19d3f3\",\"#FF6692\",\"#B6E880\",\"#FF97FF\",\"#FECB52\"],\"font\":{\"color\":\"#2a3f5f\"},\"hovermode\":\"closest\",\"hoverlabel\":{\"align\":\"left\"},\"paper_bgcolor\":\"white\",\"plot_bgcolor\":\"#E5ECF6\",\"polar\":{\"bgcolor\":\"#E5ECF6\",\"angularaxis\":{\"gridcolor\":\"white\",\"linecolor\":\"white\",\"ticks\":\"\"},\"radialaxis\":{\"gridcolor\":\"white\",\"linecolor\":\"white\",\"ticks\":\"\"}},\"ternary\":{\"bgcolor\":\"#E5ECF6\",\"aaxis\":{\"gridcolor\":\"white\",\"linecolor\":\"white\",\"ticks\":\"\"},\"baxis\":{\"gridcolor\":\"white\",\"linecolor\":\"white\",\"ticks\":\"\"},\"caxis\":{\"gridcolor\":\"white\",\"linecolor\":\"white\",\"ticks\":\"\"}},\"coloraxis\":{\"colorbar\":{\"outlinewidth\":0,\"ticks\":\"\"}},\"colorscale\":{\"sequential\":[[0.0,\"#0d0887\"],[0.1111111111111111,\"#46039f\"],[0.2222222222222222,\"#7201a8\"],[0.3333333333333333,\"#9c179e\"],[0.4444444444444444,\"#bd3786\"],[0.5555555555555556,\"#d8576b\"],[0.6666666666666666,\"#ed7953\"],[0.7777777777777778,\"#fb9f3a\"],[0.8888888888888888,\"#fdca26\"],[1.0,\"#f0f921\"]],\"sequentialminus\":[[0.0,\"#0d0887\"],[0.1111111111111111,\"#46039f\"],[0.2222222222222222,\"#7201a8\"],[0.3333333333333333,\"#9c179e\"],[0.4444444444444444,\"#bd3786\"],[0.5555555555555556,\"#d8576b\"],[0.6666666666666666,\"#ed7953\"],[0.7777777777777778,\"#fb9f3a\"],[0.8888888888888888,\"#fdca26\"],[1.0,\"#f0f921\"]],\"diverging\":[[0,\"#8e0152\"],[0.1,\"#c51b7d\"],[0.2,\"#de77ae\"],[0.3,\"#f1b6da\"],[0.4,\"#fde0ef\"],[0.5,\"#f7f7f7\"],[0.6,\"#e6f5d0\"],[0.7,\"#b8e186\"],[0.8,\"#7fbc41\"],[0.9,\"#4d9221\"],[1,\"#276419\"]]},\"xaxis\":{\"gridcolor\":\"white\",\"linecolor\":\"white\",\"ticks\":\"\",\"title\":{\"standoff\":15},\"zerolinecolor\":\"white\",\"automargin\":true,\"zerolinewidth\":2},\"yaxis\":{\"gridcolor\":\"white\",\"linecolor\":\"white\",\"ticks\":\"\",\"title\":{\"standoff\":15},\"zerolinecolor\":\"white\",\"automargin\":true,\"zerolinewidth\":2},\"scene\":{\"xaxis\":{\"backgroundcolor\":\"#E5ECF6\",\"gridcolor\":\"white\",\"linecolor\":\"white\",\"showbackground\":true,\"ticks\":\"\",\"zerolinecolor\":\"white\",\"gridwidth\":2},\"yaxis\":{\"backgroundcolor\":\"#E5ECF6\",\"gridcolor\":\"white\",\"linecolor\":\"white\",\"showbackground\":true,\"ticks\":\"\",\"zerolinecolor\":\"white\",\"gridwidth\":2},\"zaxis\":{\"backgroundcolor\":\"#E5ECF6\",\"gridcolor\":\"white\",\"linecolor\":\"white\",\"showbackground\":true,\"ticks\":\"\",\"zerolinecolor\":\"white\",\"gridwidth\":2}},\"shapedefaults\":{\"line\":{\"color\":\"#2a3f5f\"}},\"annotationdefaults\":{\"arrowcolor\":\"#2a3f5f\",\"arrowhead\":0,\"arrowwidth\":1},\"geo\":{\"bgcolor\":\"white\",\"landcolor\":\"#E5ECF6\",\"subunitcolor\":\"white\",\"showland\":true,\"showlakes\":true,\"lakecolor\":\"white\"},\"title\":{\"x\":0.05},\"mapbox\":{\"style\":\"light\"}}},\"title\":{\"font\":{\"color\":\"white\"},\"text\":\"Credit Card Fraud\"},\"legend\":{\"title\":{\"font\":{\"color\":\"yellow\"}}},\"font\":{\"color\":\"white\"},\"paper_bgcolor\":\"black\",\"plot_bgcolor\":\"black\"},                        {\"responsive\": true}                    ).then(function(){\n",
       "                            \n",
       "var gd = document.getElementById('7a7e37fe-a101-4acb-bbd1-750e21d935d7');\n",
       "var x = new MutationObserver(function (mutations, observer) {{\n",
       "        var display = window.getComputedStyle(gd).display;\n",
       "        if (!display || display === 'none') {{\n",
       "            console.log([gd, 'removed!']);\n",
       "            Plotly.purge(gd);\n",
       "            observer.disconnect();\n",
       "        }}\n",
       "}});\n",
       "\n",
       "// Listen for the removal of the full notebook cells\n",
       "var notebookContainer = gd.closest('#notebook-container');\n",
       "if (notebookContainer) {{\n",
       "    x.observe(notebookContainer, {childList: true});\n",
       "}}\n",
       "\n",
       "// Listen for the clearing of the current output cell\n",
       "var outputEl = gd.closest('.output');\n",
       "if (outputEl) {{\n",
       "    x.observe(outputEl, {childList: true});\n",
       "}}\n",
       "\n",
       "                        })                };                });            </script>        </div>"
      ]
     },
     "metadata": {},
     "output_type": "display_data"
    }
   ],
   "source": [
    "colors = ['gold', 'mediumturquoise']\n",
    "labels = ['Normal','Fraud']\n",
    "values = ft['is_fraud'].value_counts()/ft['is_fraud'].shape[0]\n",
    "fig = go.Figure(data=[go.Pie(labels = labels,\n",
    "                             values=values,hole=.3)])\n",
    "fig.update_traces(hoverinfo='label+percent', textinfo='percent', textfont_size=20,\n",
    "                  marker=dict(colors=colors, line=dict(color='white', width=0.1)))\n",
    "fig.update_layout(\n",
    "    title_text=\"Credit Card Fraud\",\n",
    "    title_font_color=\"white\",\n",
    "    legend_title_font_color=\"yellow\",\n",
    "    paper_bgcolor=\"black\",\n",
    "    plot_bgcolor='black',\n",
    "    font_color=\"white\",\n",
    ")\n",
    "fig.show()"
   ]
  },
  {
   "cell_type": "markdown",
   "id": "e12163e6",
   "metadata": {},
   "source": [
    "## Visualization"
   ]
  },
  {
   "cell_type": "markdown",
   "id": "16f0092f",
   "metadata": {},
   "source": [
    "### Transactions in time"
   ]
  },
  {
   "cell_type": "code",
   "execution_count": 8,
   "id": "24a5016e",
   "metadata": {},
   "outputs": [],
   "source": [
    "#ft['unix_time'] = pd.to_datetime(ft['unix_time'],unit='s')"
   ]
  },
  {
   "cell_type": "code",
   "execution_count": 9,
   "id": "213717b9",
   "metadata": {},
   "outputs": [
    {
     "data": {
      "application/vnd.plotly.v1+json": {
       "config": {
        "linkText": "Export to plot.ly",
        "plotlyServerURL": "https://plot.ly",
        "showLink": false
       },
       "data": [
        {
         "legendgroup": "Not Fraud",
         "marker": {
          "color": "rgb(31, 119, 180)"
         },
         "mode": "lines",
         "name": "Not Fraud",
         "showlegend": true,
         "type": "scatter",
         "x": [
          1325376018,
          1325502334.712,
          1325628651.424,
          1325754968.136,
          1325881284.848,
          1326007601.56,
          1326133918.272,
          1326260234.984,
          1326386551.696,
          1326512868.408,
          1326639185.12,
          1326765501.832,
          1326891818.544,
          1327018135.256,
          1327144451.968,
          1327270768.68,
          1327397085.392,
          1327523402.104,
          1327649718.816,
          1327776035.528,
          1327902352.24,
          1328028668.952,
          1328154985.664,
          1328281302.376,
          1328407619.088,
          1328533935.8,
          1328660252.512,
          1328786569.224,
          1328912885.936,
          1329039202.648,
          1329165519.36,
          1329291836.072,
          1329418152.784,
          1329544469.496,
          1329670786.208,
          1329797102.92,
          1329923419.632,
          1330049736.344,
          1330176053.056,
          1330302369.768,
          1330428686.48,
          1330555003.192,
          1330681319.904,
          1330807636.616,
          1330933953.328,
          1331060270.04,
          1331186586.752,
          1331312903.464,
          1331439220.176,
          1331565536.888,
          1331691853.6,
          1331818170.312,
          1331944487.024,
          1332070803.736,
          1332197120.448,
          1332323437.16,
          1332449753.872,
          1332576070.584,
          1332702387.296,
          1332828704.008,
          1332955020.72,
          1333081337.432,
          1333207654.144,
          1333333970.856,
          1333460287.568,
          1333586604.28,
          1333712920.992,
          1333839237.704,
          1333965554.416,
          1334091871.128,
          1334218187.84,
          1334344504.552,
          1334470821.264,
          1334597137.976,
          1334723454.688,
          1334849771.4,
          1334976088.112,
          1335102404.824,
          1335228721.536,
          1335355038.248,
          1335481354.96,
          1335607671.672,
          1335733988.384,
          1335860305.096,
          1335986621.808,
          1336112938.52,
          1336239255.232,
          1336365571.944,
          1336491888.656,
          1336618205.368,
          1336744522.08,
          1336870838.792,
          1336997155.504,
          1337123472.216,
          1337249788.928,
          1337376105.64,
          1337502422.352,
          1337628739.064,
          1337755055.776,
          1337881372.488,
          1338007689.2,
          1338134005.912,
          1338260322.624,
          1338386639.336,
          1338512956.048,
          1338639272.76,
          1338765589.472,
          1338891906.184,
          1339018222.896,
          1339144539.608,
          1339270856.32,
          1339397173.032,
          1339523489.744,
          1339649806.456,
          1339776123.168,
          1339902439.88,
          1340028756.592,
          1340155073.304,
          1340281390.016,
          1340407706.728,
          1340534023.44,
          1340660340.152,
          1340786656.864,
          1340912973.576,
          1341039290.288,
          1341165607,
          1341291923.712,
          1341418240.424,
          1341544557.136,
          1341670873.848,
          1341797190.56,
          1341923507.272,
          1342049823.984,
          1342176140.696,
          1342302457.408,
          1342428774.12,
          1342555090.832,
          1342681407.544,
          1342807724.256,
          1342934040.968,
          1343060357.68,
          1343186674.392,
          1343312991.104,
          1343439307.816,
          1343565624.528,
          1343691941.24,
          1343818257.952,
          1343944574.664,
          1344070891.376,
          1344197208.088,
          1344323524.8,
          1344449841.512,
          1344576158.224,
          1344702474.936,
          1344828791.648,
          1344955108.36,
          1345081425.072,
          1345207741.784,
          1345334058.496,
          1345460375.208,
          1345586691.92,
          1345713008.632,
          1345839325.344,
          1345965642.056,
          1346091958.768,
          1346218275.48,
          1346344592.192,
          1346470908.904,
          1346597225.616,
          1346723542.328,
          1346849859.04,
          1346976175.752,
          1347102492.464,
          1347228809.176,
          1347355125.888,
          1347481442.6,
          1347607759.312,
          1347734076.024,
          1347860392.736,
          1347986709.448,
          1348113026.16,
          1348239342.872,
          1348365659.584,
          1348491976.296,
          1348618293.008,
          1348744609.72,
          1348870926.432,
          1348997243.144,
          1349123559.856,
          1349249876.568,
          1349376193.28,
          1349502509.992,
          1349628826.704,
          1349755143.416,
          1349881460.128,
          1350007776.84,
          1350134093.552,
          1350260410.264,
          1350386726.976,
          1350513043.688,
          1350639360.4,
          1350765677.112,
          1350891993.824,
          1351018310.536,
          1351144627.248,
          1351270943.96,
          1351397260.672,
          1351523577.384,
          1351649894.096,
          1351776210.808,
          1351902527.52,
          1352028844.232,
          1352155160.944,
          1352281477.656,
          1352407794.368,
          1352534111.08,
          1352660427.792,
          1352786744.504,
          1352913061.216,
          1353039377.928,
          1353165694.64,
          1353292011.352,
          1353418328.064,
          1353544644.776,
          1353670961.488,
          1353797278.2,
          1353923594.912,
          1354049911.624,
          1354176228.336,
          1354302545.048,
          1354428861.76,
          1354555178.472,
          1354681495.184,
          1354807811.896,
          1354934128.608,
          1355060445.32,
          1355186762.032,
          1355313078.744,
          1355439395.456,
          1355565712.168,
          1355692028.88,
          1355818345.592,
          1355944662.304,
          1356070979.016,
          1356197295.728,
          1356323612.44,
          1356449929.152,
          1356576245.864,
          1356702562.576,
          1356828879.288,
          1356955196,
          1357081512.712,
          1357207829.424,
          1357334146.136,
          1357460462.848,
          1357586779.56,
          1357713096.272,
          1357839412.984,
          1357965729.696,
          1358092046.408,
          1358218363.12,
          1358344679.832,
          1358470996.544,
          1358597313.256,
          1358723629.968,
          1358849946.68,
          1358976263.392,
          1359102580.104,
          1359228896.816,
          1359355213.5279999,
          1359481530.24,
          1359607846.952,
          1359734163.664,
          1359860480.376,
          1359986797.088,
          1360113113.8,
          1360239430.512,
          1360365747.224,
          1360492063.936,
          1360618380.648,
          1360744697.36,
          1360871014.072,
          1360997330.784,
          1361123647.496,
          1361249964.208,
          1361376280.92,
          1361502597.632,
          1361628914.344,
          1361755231.056,
          1361881547.768,
          1362007864.48,
          1362134181.192,
          1362260497.904,
          1362386814.616,
          1362513131.328,
          1362639448.04,
          1362765764.752,
          1362892081.464,
          1363018398.176,
          1363144714.888,
          1363271031.6,
          1363397348.312,
          1363523665.024,
          1363649981.736,
          1363776298.448,
          1363902615.16,
          1364028931.872,
          1364155248.584,
          1364281565.296,
          1364407882.008,
          1364534198.72,
          1364660515.432,
          1364786832.144,
          1364913148.856,
          1365039465.568,
          1365165782.28,
          1365292098.992,
          1365418415.704,
          1365544732.416,
          1365671049.128,
          1365797365.84,
          1365923682.552,
          1366049999.264,
          1366176315.976,
          1366302632.688,
          1366428949.4,
          1366555266.112,
          1366681582.824,
          1366807899.536,
          1366934216.248,
          1367060532.96,
          1367186849.672,
          1367313166.384,
          1367439483.096,
          1367565799.808,
          1367692116.52,
          1367818433.232,
          1367944749.944,
          1368071066.656,
          1368197383.368,
          1368323700.08,
          1368450016.792,
          1368576333.504,
          1368702650.216,
          1368828966.928,
          1368955283.64,
          1369081600.352,
          1369207917.064,
          1369334233.776,
          1369460550.488,
          1369586867.2,
          1369713183.912,
          1369839500.624,
          1369965817.336,
          1370092134.048,
          1370218450.76,
          1370344767.4720001,
          1370471084.184,
          1370597400.896,
          1370723717.608,
          1370850034.32,
          1370976351.032,
          1371102667.744,
          1371228984.456,
          1371355301.168,
          1371481617.88,
          1371607934.592,
          1371734251.304,
          1371860568.016,
          1371986884.728,
          1372113201.44,
          1372239518.152,
          1372365834.864,
          1372492151.576,
          1372618468.288,
          1372744785,
          1372871101.712,
          1372997418.424,
          1373123735.136,
          1373250051.848,
          1373376368.56,
          1373502685.272,
          1373629001.984,
          1373755318.696,
          1373881635.408,
          1374007952.12,
          1374134268.832,
          1374260585.544,
          1374386902.256,
          1374513218.968,
          1374639535.68,
          1374765852.392,
          1374892169.104,
          1375018485.816,
          1375144802.5279999,
          1375271119.24,
          1375397435.952,
          1375523752.664,
          1375650069.376,
          1375776386.088,
          1375902702.8,
          1376029019.512,
          1376155336.224,
          1376281652.936,
          1376407969.648,
          1376534286.36,
          1376660603.072,
          1376786919.784,
          1376913236.496,
          1377039553.208,
          1377165869.92,
          1377292186.632,
          1377418503.344,
          1377544820.056,
          1377671136.768,
          1377797453.48,
          1377923770.192,
          1378050086.904,
          1378176403.616,
          1378302720.328,
          1378429037.04,
          1378555353.752,
          1378681670.464,
          1378807987.176,
          1378934303.888,
          1379060620.6,
          1379186937.312,
          1379313254.024,
          1379439570.736,
          1379565887.448,
          1379692204.16,
          1379818520.872,
          1379944837.584,
          1380071154.296,
          1380197471.008,
          1380323787.72,
          1380450104.432,
          1380576421.144,
          1380702737.856,
          1380829054.568,
          1380955371.28,
          1381081687.992,
          1381208004.704,
          1381334321.416,
          1381460638.128,
          1381586954.84,
          1381713271.552,
          1381839588.264,
          1381965904.976,
          1382092221.688,
          1382218538.4,
          1382344855.112,
          1382471171.824,
          1382597488.536,
          1382723805.248,
          1382850121.96,
          1382976438.672,
          1383102755.384,
          1383229072.096,
          1383355388.808,
          1383481705.52,
          1383608022.232,
          1383734338.944,
          1383860655.656,
          1383986972.368,
          1384113289.08,
          1384239605.792,
          1384365922.504,
          1384492239.216,
          1384618555.928,
          1384744872.64,
          1384871189.352,
          1384997506.064,
          1385123822.776,
          1385250139.488,
          1385376456.2,
          1385502772.912,
          1385629089.624,
          1385755406.336,
          1385881723.048,
          1386008039.76,
          1386134356.4720001,
          1386260673.184,
          1386386989.896,
          1386513306.608,
          1386639623.32,
          1386765940.032,
          1386892256.744,
          1387018573.456,
          1387144890.168,
          1387271206.88,
          1387397523.592,
          1387523840.304,
          1387650157.016,
          1387776473.728,
          1387902790.44,
          1388029107.152,
          1388155423.864,
          1388281740.576,
          1388408057.288
         ],
         "xaxis": "x",
         "y": [
          5.2681277007576865e-09,
          5.792799205950931e-09,
          6.309903630768728e-09,
          6.811716802882095e-09,
          7.29120616526848e-09,
          7.742327230369234e-09,
          8.160248650365884e-09,
          8.541492460726216e-09,
          8.883984294130485e-09,
          9.18701667058867e-09,
          9.451135889331733e-09,
          9.677968803551696e-09,
          9.87000935132815e-09,
          1.0030385964350192e-08,
          1.0162630007340691e-08,
          1.0270462594011918e-08,
          1.035761302452733e-08,
          1.0427677307344492e-08,
          1.0484020355110349e-08,
          1.0529720975543968e-08,
          1.056755507337671e-08,
          1.0600009747131216e-08,
          1.0629319275264005e-08,
          1.0657513301178013e-08,
          1.0686467733887478e-08,
          1.0717949831874253e-08,
          1.0753650472250781e-08,
          1.079519857191676e-08,
          1.0844154876858118e-08,
          1.0901984729487089e-08,
          1.0970011815945624e-08,
          1.1049357127385055e-08,
          1.1140869268937742e-08,
          1.12450536394896e-08,
          1.1362008719077216e-08,
          1.149137761147026e-08,
          1.1632322036619219e-08,
          1.1783524181219963e-08,
          1.1943219329819446e-08,
          1.2109259249840126e-08,
          1.2279203208531804e-08,
          1.2450430618271325e-08,
          1.26202669928528e-08,
          1.2786113445698734e-08,
          1.29455695603882e-08,
          1.3096540165606376e-08,
          1.3237318255194153e-08,
          1.3366638780775507e-08,
          1.3483700983806157e-08,
          1.358815995370498e-08,
          1.3680090836575541e-08,
          1.3759931274312882e-08,
          1.3828409025991037e-08,
          1.3886462232031326e-08,
          1.3935159465210214e-08,
          1.3975625709768547e-08,
          1.4008978927197048e-08,
          1.4036280141454392e-08,
          1.4058498237744697e-08,
          1.4076489112261083e-08,
          1.4090987575394396e-08,
          1.410260957563952e-08,
          1.4111861893826865e-08,
          1.4119156425371912e-08,
          1.4124826454225013e-08,
          1.412914283643248e-08,
          1.413232865699781e-08,
          1.4134571606705471e-08,
          1.4136033963963037e-08,
          1.4136860594972606e-08,
          1.4137185759341724e-08,
          1.4137139704557364e-08,
          1.4136856049833688e-08,
          1.4136480814232365e-08,
          1.4136183666316508e-08,
          1.4136171601758424e-08,
          1.4136704832369023e-08,
          1.4138114233038157e-08,
          1.4140819273676654e-08,
          1.4145344986658362e-08,
          1.4152336207327046e-08,
          1.416256709746136e-08,
          1.4176943846090235e-08,
          1.4196498474016485e-08,
          1.4222371890221341e-08,
          1.4255784803028253e-08,
          1.429799580783453e-08,
          1.4350246961872535e-08,
          1.4413698378526516e-08,
          1.4489354742072916e-08,
          1.4577988018648009e-08,
          1.468006183906637e-08,
          1.4795663853698751e-08,
          1.492445262180673e-08,
          1.5065625161074303e-08,
          1.5217910094199635e-08,
          1.537958944180879e-08,
          1.5548549689246354e-08,
          1.5722360060673634e-08,
          1.5898373291810478e-08,
          1.6073841940539718e-08,
          1.6246041710965848e-08,
          1.6412392600005388e-08,
          1.657056899067653e-08,
          1.671859105856056e-08,
          1.685489184594322e-08,
          1.6978356812941693e-08,
          1.7088335271114092e-08,
          1.7184625520264624e-08,
          1.7267437477013627e-08,
          1.733733792762924e-08,
          1.73951841885987e-08,
          1.7442051953671856e-08,
          1.7479162565269895e-08,
          1.7507814044478048e-08,
          1.752931913314745e-08,
          1.7544952512099984e-08,
          1.7555908384675714e-08,
          1.7563268823649957e-08,
          1.7567982686591513e-08,
          1.757085448321859e-08,
          1.7572542278012122e-08,
          1.7573563479250718e-08,
          1.7574307162078015e-08,
          1.757505138241021e-08,
          1.757598377029331e-08,
          1.7577223575954152e-08,
          1.757884331880253e-08,
          1.7580888294637848e-08,
          1.758339244962635e-08,
          1.7586389526469356e-08,
          1.7589918898628617e-08,
          1.759402607830495e-08,
          1.7598758445069065e-08,
          1.760415722344273e-08,
          1.7610247077012192e-08,
          1.7617024841650522e-08,
          1.7624448874276773e-08,
          1.7632430258574714e-08,
          1.7640826722253443e-08,
          1.7649439638913156e-08,
          1.765801397886249e-08,
          1.766624060709793e-08,
          1.7673759965927176e-08,
          1.7680165974477574e-08,
          1.768500895993618e-08,
          1.768779661856276e-08,
          1.768799237949469e-08,
          1.7685011082350256e-08,
          1.767821253054957e-08,
          1.7666894178111796e-08,
          1.765028486406127e-08,
          1.7627542029803682e-08,
          1.759775514323092e-08,
          1.755995801787252e-08,
          1.7513152289586474e-08,
          1.7456343467221922e-08,
          1.7388589731781173e-08,
          1.7309062106707073e-08,
          1.7217112911139535e-08,
          1.7112347743430395e-08,
          1.6994694862731792e-08,
          1.686446498194808e-08,
          1.6722394357246345e-08,
          1.6569664782573235e-08,
          1.6407895687224363e-08,
          1.6239105879766192e-08,
          1.606564534796483e-08,
          1.589010057937602e-08,
          1.5715179724707734e-08,
          1.5543586204359143e-08,
          1.5377890740461404e-08,
          1.5220412083612428e-08,
          1.5073115846647652e-08,
          1.493753897155479e-08,
          1.4814744694530714e-08,
          1.470530979531804e-08,
          1.4609342819918113e-08,
          1.452652922905059e-08,
          1.445619735333404e-08,
          1.4397397816388432e-08,
          1.434898877396042e-08,
          1.4309719835512808e-08,
          1.4278308709566922e-08,
          1.4253506206187021e-08,
          1.4234146984172846e-08,
          1.4219185113594264e-08,
          1.4207714958422151e-08,
          1.4198978961668664e-08,
          1.4192364602522892e-08,
          1.4187393119713206e-08,
          1.4183702629602919e-08,
          1.4181028104333697e-08,
          1.4179180408026438e-08,
          1.4178026295171348e-08,
          1.4177471007028036e-08,
          1.417744488382982e-08,
          1.4177895242784848e-08,
          1.417878463689514e-08,
          1.4180096479731097e-08,
          1.4181848866033235e-08,
          1.4184117207516487e-08,
          1.4187066011091256e-08,
          1.4190989728334671e-08,
          1.4196362077891052e-08,
          1.4203892566226988e-08,
          1.4214588092379186e-08,
          1.4229816519174095e-08,
          1.42513679522423e-08,
          1.428150825440468e-08,
          1.4323018152093745e-08,
          1.4379210334609106e-08,
          1.4453916427365614e-08,
          1.4551435887339202e-08,
          1.467643996424482e-08,
          1.483382607816884e-08,
          1.502852135131311e-08,
          1.5265238499495307e-08,
          1.5548192537112502e-08,
          1.5880792270342435e-08,
          1.6265325669390883e-08,
          1.6702662148796662e-08,
          1.7191996792492716e-08,
          1.7730661036194207e-08,
          1.8314020947346362e-08,
          1.893547808996817e-08,
          1.9586579528199542e-08,
          2.0257233714287944e-08,
          2.0936019032710244e-08,
          2.1610562975117663e-08,
          2.226796356377938e-08,
          2.2895221693066778e-08,
          2.347965400849368e-08,
          2.40092606923771e-08,
          2.4473030371457127e-08,
          2.4861174090553095e-08,
          2.516529036515714e-08,
          2.5378472113902534e-08,
          2.5495372351879606e-08,
          2.5512247911395225e-08,
          2.5426998780509586e-08,
          2.5239215241178127e-08,
          2.4950236832814263e-08,
          2.456321774990961e-08,
          2.4083184348477782e-08,
          2.3517063692734155e-08,
          2.2873658898930944e-08,
          2.216354823067627e-08,
          2.1398890550305272e-08,
          2.0593129161968458e-08,
          1.9760597972845065e-08,
          1.891604648979707e-08,
          1.8074111554438233e-08,
          1.7248772161108242e-08,
          1.6452827912062313e-08,
          1.5697441009057383e-08,
          1.4991776266136403e-08,
          1.4342764261736995e-08,
          1.3755000777176547e-08,
          1.3230782746139664e-08,
          1.2770268747011332e-08,
          1.2371742059499856e-08,
          1.2031947501976799e-08,
          1.1746470150834625e-08,
          1.151012455111117e-08,
          1.1317326618615274e-08,
          1.1162426236322554e-08,
          1.1039985533235874e-08,
          1.0944994987287215e-08,
          1.0873025956638313e-08,
          1.0820323405859015e-08,
          1.0783846133921375e-08,
          1.0761263686838065e-08,
          1.0750919535729356e-08,
          1.0751769367015905e-08,
          1.0763301890895693e-08,
          1.07854478599788e-08,
          1.0818481380496162e-08,
          1.0862916376713106e-08,
          1.0919400397248409e-08,
          1.0988607866160035e-08,
          1.1071135300688038e-08,
          1.1167401765725913e-08,
          1.127755867446698e-08,
          1.1401413714728376e-08,
          1.1538373940625332e-08,
          1.168741273887854e-08,
          1.1847064370025847e-08,
          1.2015448121015054e-08,
          1.2190321925155804e-08,
          1.2369162844140684e-08,
          1.2549269365656631e-08,
          1.2727878367956463e-08,
          1.2902288127968409e-08,
          1.3069978111628398e-08,
          1.3228716582278375e-08,
          1.3376648265862749e-08,
          1.3512356269337518e-08,
          1.3634894914651955e-08,
          1.3743792822171636e-08,
          1.3839028143401837e-08,
          1.392098002795866e-08,
          1.399036201071125e-08,
          1.404814391075873e-08,
          1.4095469030141926e-08,
          1.4133572997786636e-08,
          1.4163709657222833e-08,
          1.4187088114142181e-08,
          1.4204823618379899e-08,
          1.4217903514700794e-08,
          1.4227168187112451e-08,
          1.4233305832059246e-08,
          1.4236859077982727e-08,
          1.423824093927435e-08,
          1.4237757341973935e-08,
          1.4235633459139615e-08,
          1.4232041305590357e-08,
          1.4227126419120048e-08,
          1.422103194845903e-08,
          1.4213919026833163e-08,
          1.4205982883552527e-08,
          1.4197464686273539e-08,
          1.4188659568977223e-08,
          1.4179921646543972e-08,
          1.4171667016230203e-08,
          1.4164375779413646e-08,
          1.4158593977251991e-08,
          1.4154936028873134e-08,
          1.4154087814694644e-08,
          1.4156810001369164e-08,
          1.4163940617462432e-08,
          1.4176395334157291e-08,
          1.4195163469079901e-08,
          1.4221297503202846e-08,
          1.4255893964007007e-08,
          1.4300063943986253e-08,
          1.4354892318414824e-08,
          1.4421385874947731e-08,
          1.4500411986428982e-08,
          1.4592631003624095e-08,
          1.4698427022073186e-08,
          1.4817842865496504e-08,
          1.4950525807489757e-08,
          1.50956905455034e-08,
          1.5252105143137706e-08,
          1.541810407092781e-08,
          1.5591630220515743e-08,
          1.5770305072616465e-08,
          1.5951523379742112e-08,
          1.6132566135093775e-08,
          1.631072358168585e-08,
          1.6483418845130687e-08,
          1.664832261311071e-08,
          1.680345015821977e-08,
          1.6947233792080035e-08,
          1.7078566306644142e-08,
          1.7196813782701587e-08,
          1.7301798971674292e-08,
          1.7393758954879573e-08,
          1.747328269247225e-08,
          1.7541235230159985e-08,
          1.7598675687367217e-08,
          1.7646775763116053e-08,
          1.7686744509502126e-08,
          1.7719763732956565e-08,
          1.774693680624903e-08,
          1.7769252109777557e-08,
          1.7787560932520875e-08,
          1.7802568560712215e-08,
          1.7814836519393802e-08,
          1.7824793510066564e-08,
          1.783275246831395e-08,
          1.783893128443961e-08,
          1.784347501376592e-08,
          1.7846477778791635e-08,
          1.784800297268239e-08,
          1.784810076846339e-08,
          1.784682229381628e-08,
          1.7844230136540197e-08,
          1.784040509912809e-08,
          1.7835449328667406e-08,
          1.782948611653252e-08,
          1.7822656797123115e-08,
          1.7815115277791593e-08,
          1.780702080226337e-08,
          1.7798529583771218e-08,
          1.7789785937744776e-08,
          1.7780913494585474e-08,
          1.777200698026099e-08,
          1.7763124920093812e-08,
          1.775428345686896e-08,
          1.7745451292052473e-08,
          1.7736545576655225e-08,
          1.7727428420535478e-08,
          1.7717903582866306e-08,
          1.7707712881668207e-08,
          1.7696531942073613e-08,
          1.768396510885218e-08,
          1.7669539679476338e-08,
          1.765270004972833e-08,
          1.7632802858778286e-08,
          1.760911470351786e-08,
          1.7580814373373676e-08,
          1.7547001737434205e-08,
          1.7506715306558046e-08,
          1.745896003024516e-08,
          1.7402746054403595e-08,
          1.733713800165724e-08,
          1.7261312945305222e-08,
          1.7174623792897926e-08,
          1.7076663477603885e-08,
          1.6967324389221906e-08,
          1.684684705309649e-08,
          1.6715852319478876e-08,
          1.6575352305399858e-08,
          1.6426736981081107e-08,
          1.6271735453003772e-08,
          1.61123534195311e-08,
          1.5950790662587643e-08,
          1.578934448189628e-08,
          1.5630306408279327e-08,
          1.547586016370699e-08,
          1.532798859375485e-08,
          1.5188396232222103e-08,
          1.5058452428226453e-08,
          1.4939157817878936e-08,
          1.4831134642857935e-08,
          1.4734639288575276e-08,
          1.4649593673483498e-08,
          1.4575630926693304e-08,
          1.4512150213840185e-08,
          1.4458375587524985e-08,
          1.4413414254459869e-08,
          1.43763105221231e-08,
          1.4346092751023294e-08,
          1.4321811739336852e-08,
          1.4302569978385384e-08,
          1.428754205297111e-08,
          1.4275987075668855e-08,
          1.4267254432029632e-08,
          1.4260784296584651e-08,
          1.4256104398047229e-08,
          1.4252824415106054e-08,
          1.4250629221360615e-08,
          1.424927201438408e-08,
          1.4248568197268486e-08,
          1.4248390760145171e-08,
          1.4248667852423705e-08,
          1.4249383250466232e-08,
          1.4250580503084499e-08,
          1.4252371655081838e-08,
          1.4254951566253209e-08,
          1.4258618900865997e-08,
          1.426380478763515e-08,
          1.4271109861805186e-08,
          1.4281349823044095e-08,
          1.4295608719732847e-08,
          1.4315297885429535e-08,
          1.4342216848851831e-08,
          1.4378610730045418e-08,
          1.442721681859026e-08,
          1.4491291475145708e-08,
          1.4574607528270739e-08,
          1.4681412289768378e-08,
          1.4816337477362239e-08,
          1.498425490135261e-08,
          1.519007576217144e-08,
          1.5438496622640455e-08,
          1.5733701129824665e-08,
          1.6079032715569385e-08,
          1.6476658995168163e-08,
          1.6927252551638592e-08,
          1.7429714464611438e-08,
          1.7980965772922282e-08,
          1.8575827862464678e-08,
          1.920700580280563e-08,
          1.98651796343866e-08,
          2.053919864526201e-08,
          2.121636413435918e-08,
          2.1882778442077755e-08,
          2.252373334644307e-08,
          2.3124110058390876e-08,
          2.366876619070527e-08,
          2.4142891734329276e-08,
          2.4532325126407745e-08,
          2.4823830327308218e-08,
          2.5005344601725868e-08,
          2.5066212673423045e-08,
          2.499742475695387e-08,
          2.4791873009091764e-08,
          2.4444633384167936e-08,
          2.3953268794105325e-08,
          2.3318136683952074e-08,
          2.2542671928649594e-08,
          2.1633606724172043e-08,
          2.060108495424023e-08,
          1.9458630725234335e-08,
          1.822293975313277e-08,
          1.6913477325866605e-08,
          1.555188588087683e-08
         ],
         "yaxis": "y"
        },
        {
         "legendgroup": "Fraud",
         "marker": {
          "color": "rgb(255, 127, 14)"
         },
         "mode": "lines",
         "name": "Fraud",
         "showlegend": true,
         "type": "scatter",
         "x": [
          1325466397,
          1325590972.244,
          1325715547.488,
          1325840122.732,
          1325964697.976,
          1326089273.22,
          1326213848.464,
          1326338423.708,
          1326462998.952,
          1326587574.196,
          1326712149.44,
          1326836724.684,
          1326961299.928,
          1327085875.172,
          1327210450.416,
          1327335025.66,
          1327459600.904,
          1327584176.148,
          1327708751.392,
          1327833326.636,
          1327957901.88,
          1328082477.124,
          1328207052.368,
          1328331627.612,
          1328456202.856,
          1328580778.1,
          1328705353.344,
          1328829928.588,
          1328954503.832,
          1329079079.076,
          1329203654.32,
          1329328229.564,
          1329452804.808,
          1329577380.052,
          1329701955.296,
          1329826530.54,
          1329951105.784,
          1330075681.028,
          1330200256.272,
          1330324831.516,
          1330449406.76,
          1330573982.004,
          1330698557.248,
          1330823132.492,
          1330947707.736,
          1331072282.98,
          1331196858.224,
          1331321433.468,
          1331446008.712,
          1331570583.956,
          1331695159.2,
          1331819734.444,
          1331944309.688,
          1332068884.932,
          1332193460.176,
          1332318035.42,
          1332442610.664,
          1332567185.908,
          1332691761.152,
          1332816336.396,
          1332940911.64,
          1333065486.884,
          1333190062.128,
          1333314637.372,
          1333439212.616,
          1333563787.86,
          1333688363.104,
          1333812938.348,
          1333937513.592,
          1334062088.836,
          1334186664.08,
          1334311239.324,
          1334435814.568,
          1334560389.812,
          1334684965.056,
          1334809540.3,
          1334934115.544,
          1335058690.788,
          1335183266.032,
          1335307841.276,
          1335432416.52,
          1335556991.764,
          1335681567.008,
          1335806142.252,
          1335930717.496,
          1336055292.74,
          1336179867.984,
          1336304443.228,
          1336429018.472,
          1336553593.716,
          1336678168.96,
          1336802744.204,
          1336927319.448,
          1337051894.692,
          1337176469.936,
          1337301045.18,
          1337425620.424,
          1337550195.668,
          1337674770.912,
          1337799346.156,
          1337923921.4,
          1338048496.644,
          1338173071.888,
          1338297647.132,
          1338422222.376,
          1338546797.62,
          1338671372.864,
          1338795948.108,
          1338920523.352,
          1339045098.596,
          1339169673.84,
          1339294249.084,
          1339418824.328,
          1339543399.572,
          1339667974.816,
          1339792550.06,
          1339917125.304,
          1340041700.548,
          1340166275.792,
          1340290851.036,
          1340415426.28,
          1340540001.524,
          1340664576.768,
          1340789152.012,
          1340913727.256,
          1341038302.5,
          1341162877.744,
          1341287452.988,
          1341412028.232,
          1341536603.476,
          1341661178.72,
          1341785753.964,
          1341910329.208,
          1342034904.452,
          1342159479.696,
          1342284054.94,
          1342408630.184,
          1342533205.428,
          1342657780.672,
          1342782355.916,
          1342906931.16,
          1343031506.404,
          1343156081.648,
          1343280656.892,
          1343405232.136,
          1343529807.38,
          1343654382.624,
          1343778957.868,
          1343903533.112,
          1344028108.356,
          1344152683.6,
          1344277258.844,
          1344401834.088,
          1344526409.332,
          1344650984.576,
          1344775559.82,
          1344900135.064,
          1345024710.308,
          1345149285.552,
          1345273860.796,
          1345398436.04,
          1345523011.284,
          1345647586.528,
          1345772161.772,
          1345896737.016,
          1346021312.26,
          1346145887.504,
          1346270462.748,
          1346395037.992,
          1346519613.236,
          1346644188.48,
          1346768763.724,
          1346893338.968,
          1347017914.212,
          1347142489.456,
          1347267064.7,
          1347391639.944,
          1347516215.188,
          1347640790.432,
          1347765365.676,
          1347889940.92,
          1348014516.164,
          1348139091.408,
          1348263666.652,
          1348388241.896,
          1348512817.14,
          1348637392.384,
          1348761967.628,
          1348886542.872,
          1349011118.116,
          1349135693.36,
          1349260268.604,
          1349384843.848,
          1349509419.092,
          1349633994.336,
          1349758569.58,
          1349883144.824,
          1350007720.068,
          1350132295.312,
          1350256870.556,
          1350381445.8,
          1350506021.044,
          1350630596.288,
          1350755171.532,
          1350879746.776,
          1351004322.02,
          1351128897.264,
          1351253472.508,
          1351378047.752,
          1351502622.996,
          1351627198.24,
          1351751773.484,
          1351876348.728,
          1352000923.972,
          1352125499.216,
          1352250074.46,
          1352374649.704,
          1352499224.948,
          1352623800.192,
          1352748375.436,
          1352872950.68,
          1352997525.924,
          1353122101.168,
          1353246676.412,
          1353371251.656,
          1353495826.9,
          1353620402.144,
          1353744977.388,
          1353869552.632,
          1353994127.876,
          1354118703.12,
          1354243278.364,
          1354367853.608,
          1354492428.852,
          1354617004.096,
          1354741579.34,
          1354866154.584,
          1354990729.828,
          1355115305.072,
          1355239880.316,
          1355364455.56,
          1355489030.804,
          1355613606.048,
          1355738181.292,
          1355862756.536,
          1355987331.78,
          1356111907.024,
          1356236482.268,
          1356361057.512,
          1356485632.756,
          1356610208,
          1356734783.244,
          1356859358.488,
          1356983933.732,
          1357108508.976,
          1357233084.22,
          1357357659.464,
          1357482234.708,
          1357606809.952,
          1357731385.196,
          1357855960.44,
          1357980535.684,
          1358105110.928,
          1358229686.172,
          1358354261.416,
          1358478836.66,
          1358603411.904,
          1358727987.148,
          1358852562.392,
          1358977137.636,
          1359101712.88,
          1359226288.124,
          1359350863.368,
          1359475438.612,
          1359600013.856,
          1359724589.1,
          1359849164.344,
          1359973739.588,
          1360098314.832,
          1360222890.076,
          1360347465.32,
          1360472040.564,
          1360596615.808,
          1360721191.052,
          1360845766.296,
          1360970341.54,
          1361094916.784,
          1361219492.0279999,
          1361344067.272,
          1361468642.516,
          1361593217.76,
          1361717793.004,
          1361842368.248,
          1361966943.492,
          1362091518.736,
          1362216093.98,
          1362340669.224,
          1362465244.468,
          1362589819.712,
          1362714394.956,
          1362838970.2,
          1362963545.444,
          1363088120.688,
          1363212695.932,
          1363337271.176,
          1363461846.42,
          1363586421.664,
          1363710996.908,
          1363835572.152,
          1363960147.396,
          1364084722.64,
          1364209297.884,
          1364333873.128,
          1364458448.372,
          1364583023.616,
          1364707598.86,
          1364832174.104,
          1364956749.348,
          1365081324.592,
          1365205899.836,
          1365330475.08,
          1365455050.324,
          1365579625.568,
          1365704200.812,
          1365828776.056,
          1365953351.3,
          1366077926.544,
          1366202501.788,
          1366327077.032,
          1366451652.276,
          1366576227.52,
          1366700802.764,
          1366825378.008,
          1366949953.252,
          1367074528.496,
          1367199103.74,
          1367323678.984,
          1367448254.228,
          1367572829.4720001,
          1367697404.716,
          1367821979.96,
          1367946555.204,
          1368071130.448,
          1368195705.692,
          1368320280.936,
          1368444856.18,
          1368569431.424,
          1368694006.668,
          1368818581.912,
          1368943157.156,
          1369067732.4,
          1369192307.644,
          1369316882.888,
          1369441458.132,
          1369566033.376,
          1369690608.62,
          1369815183.864,
          1369939759.108,
          1370064334.352,
          1370188909.596,
          1370313484.84,
          1370438060.084,
          1370562635.328,
          1370687210.572,
          1370811785.816,
          1370936361.06,
          1371060936.304,
          1371185511.548,
          1371310086.792,
          1371434662.036,
          1371559237.28,
          1371683812.524,
          1371808387.768,
          1371932963.012,
          1372057538.256,
          1372182113.5,
          1372306688.744,
          1372431263.988,
          1372555839.232,
          1372680414.476,
          1372804989.72,
          1372929564.964,
          1373054140.208,
          1373178715.452,
          1373303290.696,
          1373427865.94,
          1373552441.184,
          1373677016.428,
          1373801591.672,
          1373926166.916,
          1374050742.16,
          1374175317.404,
          1374299892.648,
          1374424467.892,
          1374549043.136,
          1374673618.38,
          1374798193.624,
          1374922768.868,
          1375047344.112,
          1375171919.356,
          1375296494.6,
          1375421069.844,
          1375545645.088,
          1375670220.332,
          1375794795.576,
          1375919370.82,
          1376043946.064,
          1376168521.308,
          1376293096.552,
          1376417671.796,
          1376542247.04,
          1376666822.284,
          1376791397.5279999,
          1376915972.772,
          1377040548.016,
          1377165123.26,
          1377289698.504,
          1377414273.748,
          1377538848.992,
          1377663424.236,
          1377787999.48,
          1377912574.724,
          1378037149.968,
          1378161725.212,
          1378286300.456,
          1378410875.7,
          1378535450.944,
          1378660026.188,
          1378784601.432,
          1378909176.676,
          1379033751.92,
          1379158327.164,
          1379282902.408,
          1379407477.652,
          1379532052.896,
          1379656628.14,
          1379781203.384,
          1379905778.628,
          1380030353.872,
          1380154929.116,
          1380279504.36,
          1380404079.604,
          1380528654.848,
          1380653230.092,
          1380777805.336,
          1380902380.58,
          1381026955.824,
          1381151531.068,
          1381276106.312,
          1381400681.556,
          1381525256.8,
          1381649832.044,
          1381774407.288,
          1381898982.532,
          1382023557.776,
          1382148133.02,
          1382272708.264,
          1382397283.508,
          1382521858.752,
          1382646433.996,
          1382771009.24,
          1382895584.484,
          1383020159.728,
          1383144734.9720001,
          1383269310.216,
          1383393885.46,
          1383518460.704,
          1383643035.948,
          1383767611.192,
          1383892186.436,
          1384016761.68,
          1384141336.924,
          1384265912.168,
          1384390487.412,
          1384515062.656,
          1384639637.9,
          1384764213.144,
          1384888788.388,
          1385013363.632,
          1385137938.876,
          1385262514.12,
          1385387089.364,
          1385511664.608,
          1385636239.852,
          1385760815.096,
          1385885390.34,
          1386009965.584,
          1386134540.828,
          1386259116.072,
          1386383691.316,
          1386508266.56,
          1386632841.804,
          1386757417.048,
          1386881992.292,
          1387006567.536,
          1387131142.78,
          1387255718.024,
          1387380293.268,
          1387504868.512,
          1387629443.756
         ],
         "xaxis": "x",
         "y": [
          1.0138148521779233e-08,
          1.049627753847635e-08,
          1.0853548378268876e-08,
          1.1209213853421658e-08,
          1.1562529359920978e-08,
          1.1912756818331135e-08,
          1.2259168545313971e-08,
          1.2601051021763644e-08,
          1.2937708525205485e-08,
          1.3268466596258007e-08,
          1.3592675311467948e-08,
          1.390971233769199e-08,
          1.4218985746297537e-08,
          1.4519936568832643e-08,
          1.4812041079282655e-08,
          1.509481279164639e-08,
          1.536780416517475e-08,
          1.563060801321124e-08,
          1.588285861505425e-08,
          1.612423253361428e-08,
          1.635444914476597e-08,
          1.657327088717463e-08,
          1.678050324398122e-08,
          1.6975994469968145e-08,
          1.715963507976608e-08,
          1.7331357114187274e-08,
          1.7491133202952195e-08,
          1.7638975442859108e-08,
          1.7774934110881597e-08,
          1.789909623173831e-08,
          1.8011584019236988e-08,
          1.8112553210138258e-08,
          1.8202191308461558e-08,
          1.8280715757122e-08,
          1.8348372052561878e-08,
          1.840543181667982e-08,
          1.8452190838918285e-08,
          1.8488967099870462e-08,
          1.851609878628054e-08,
          1.8533942305857348e-08,
          1.8542870308953386e-08,
          1.8543269722904222e-08,
          1.8535539803712794e-08,
          1.8520090208819167e-08,
          1.8497339093931933e-08,
          1.8467711236338664e-08,
          1.8431636186740224e-08,
          1.838954645148709e-08,
          1.8341875707114433e-08,
          1.8289057049268698e-08,
          1.823152127845985e-08,
          1.816969522555832e-08,
          1.8104000120535665e-08,
          1.8034850008597425e-08,
          1.7962650218553662e-08,
          1.7887795888967678e-08,
          1.7810670558291635e-08,
          1.7731644825806542e-08,
          1.7651075090695094e-08,
          1.7569302376975008e-08,
          1.7486651252255505e-08,
          1.7403428848375145e-08,
          1.7319923991855836e-08,
          1.7236406451832064e-08,
          1.7153126312595536e-08,
          1.70703134772182e-08,
          1.698817730780942e-08,
          1.6906906406904527e-08,
          1.6826668543233654e-08,
          1.6747610723739255e-08,
          1.6669859412206494e-08,
          1.659352089327497e-08,
          1.6518681778941972e-08,
          1.644540965299252e-08,
          1.6373753847109027e-08,
          1.630374634079188e-08,
          1.6235402775666132e-08,
          1.6168723573310265e-08,
          1.6103695144442085e-08,
          1.6040291176172083e-08,
          1.5978473983095106e-08,
          1.591819590727569e-08,
          1.585940075168684e-08,
          1.5802025231416223e-08,
          1.574600042694825e-08,
          1.569125322406554e-08,
          1.563770772540566e-08,
          1.5585286619406827e-08,
          1.553391249330826e-08,
          1.548350907798726e-08,
          1.5434002413704555e-08,
          1.5385321927259264e-08,
          1.533740141260366e-08,
          1.529017990859433e-08,
          1.52436024692283e-08,
          1.519762082340782e-08,
          1.515219392294286e-08,
          1.5107288379129264e-08,
          1.5062878789771463e-08,
          1.5018947959954695e-08,
          1.4975487021170516e-08,
          1.4932495454534105e-08,
          1.4889981024810876e-08,
          1.4847959632747717e-08,
          1.4806455093802693e-08,
          1.4765498851754064e-08,
          1.4725129635875405e-08,
          1.4685393070368935e-08,
          1.4646341244574395e-08,
          1.4608032252134487e-08,
          1.4570529706804106e-08,
          1.4533902241969794e-08,
          1.4498223000220262e-08,
          1.4463569118488577e-08,
          1.443002121342352e-08,
          1.4397662870739304e-08,
          1.4366580141380889e-08,
          1.4336861046454596e-08,
          1.430859509201838e-08,
          1.4281872794042482e-08,
          1.4256785213144232e-08,
          1.4233423498098376e-08,
          1.4211878436629871e-08,
          1.4192240011628256e-08,
          1.4174596960679553e-08,
          1.4159036336706164e-08,
          1.4145643067524223e-08,
          1.4134499512279375e-08,
          1.412568501299045e-08,
          1.4119275439807674e-08,
          1.411534272906832e-08,
          1.4113954413787112e-08,
          1.4115173146838955e-08,
          1.4119056217758865e-08,
          1.4125655064775946e-08,
          1.4135014784399974e-08,
          1.4147173641568716e-08,
          1.4162162584025063e-08,
          1.4180004765204069e-08,
          1.420071508046122e-08,
          1.4224299721944609e-08,
          1.4250755757795407e-08,
          1.4280070741646331e-08,
          1.4312222358562135e-08,
          1.4347178113631251e-08,
          1.4384895069368758e-08,
          1.4425319637926702e-08,
          1.4468387433833956e-08,
          1.4514023192603625e-08,
          1.4562140760067696e-08,
          1.4612643156721504e-08,
          1.4665422720708836e-08,
          1.4720361332350067e-08,
          1.4777330722334272e-08,
          1.4836192864862304e-08,
          1.4896800456169043e-08,
          1.4958997477963137e-08,
          1.5022619844434067e-08,
          1.5087496130582617e-08,
          1.5153448378758813e-08,
          1.5220292979435295e-08,
          1.528784162142497e-08,
          1.535590230597562e-08,
          1.542428041843337e-08,
          1.549277985049224e-08,
          1.556120416541131e-08,
          1.562935779802225e-08,
          1.5697047280829135e-08,
          1.5764082487065095e-08,
          1.5830277881177847e-08,
          1.589545376689698e-08,
          1.5959437522772103e-08,
          1.6022064814872572e-08,
          1.6083180776210954e-08,
          1.6142641142371093e-08,
          1.620031333282442e-08,
          1.625607746747885e-08,
          1.63098273081311e-08,
          1.6361471114707423e-08,
          1.6410932406453715e-08,
          1.6458150618604158e-08,
          1.6503081645511572e-08,
          1.6545698261761815e-08,
          1.6585990413442142e-08,
          1.6623965372473774e-08,
          1.6659647747771275e-08,
          1.6693079347950614e-08,
          1.6724318891378788e-08,
          1.6753441560545427e-08,
          1.6780538399026847e-08,
          1.68057155507147e-08,
          1.6829093342487222e-08,
          1.6850805213088297e-08,
          1.687099649265459e-08,
          1.6889823039066345e-08,
          1.690744973908454e-08,
          1.692404888404294e-08,
          1.6939798431681524e-08,
          1.6954880167493936e-08,
          1.696947778071082e-08,
          1.698377487169431e-08,
          1.6997952909079195e-08,
          1.701218915640187e-08,
          1.7026654589210435e-08,
          1.704151182467435e-08,
          1.7056913086538607e-08,
          1.70729982288129e-08,
          1.7089892841863116e-08,
          1.7107706464552582e-08,
          1.7126530925737238e-08,
          1.7146438837752994e-08,
          1.7167482263538855e-08,
          1.718969157769983e-08,
          1.721307454015923e-08,
          1.723761559906912e-08,
          1.7263275437365306e-08,
          1.728999077480338e-08,
          1.731767443450014e-08,
          1.7346215679985944e-08,
          1.7375480825573228e-08,
          1.740531411951196e-08,
          1.74355388959856e-08,
          1.7465958988530988e-08,
          1.7496360394024056e-08,
          1.7526513172980872e-08,
          1.7556173568655497e-08,
          1.7585086324311253e-08,
          1.7612987175153774e-08,
          1.76396054887881e-08,
          1.7664667025747184e-08,
          1.768789678966492e-08,
          1.770902193507342e-08,
          1.7727774699621046e-08,
          1.7743895326756743e-08,
          1.7757134944612997e-08,
          1.7767258366974065e-08,
          1.777404678281889e-08,
          1.7777300301986963e-08,
          1.777684032601316e-08,
          1.777251171509852e-08,
          1.776418472450177e-08,
          1.7751756686317277e-08,
          1.7735153415618747e-08,
          1.7714330323250492e-08,
          1.76892732210864e-08,
          1.7659998809323672e-08,
          1.762655483925054e-08,
          1.7589019948909573e-08,
          1.754750317307688e-08,
          1.7502143132976774e-08,
          1.7453106915066496e-08,
          1.7400588652024637e-08,
          1.734480782270071e-08,
          1.7286007291183394e-08,
          1.72244511082908e-08,
          1.716042210161252e-08,
          1.7094219282737786e-08,
          1.7026155102422376e-08,
          1.69565525861817e-08,
          1.6885742384104812e-08,
          1.6814059769578355e-08,
          1.674184162203642e-08,
          1.6669423428869154e-08,
          1.6597136341169115e-08,
          1.652530431712783e-08,
          1.6454241385593876e-08,
          1.638424906061442e-08,
          1.6315613935695394e-08,
          1.624860548409629e-08,
          1.6183474088720033e-08,
          1.6120449322125994e-08,
          1.605973849391257e-08,
          1.6001525479230827e-08,
          1.5945969838541693e-08,
          1.589320623497538e-08,
          1.5843344151808165e-08,
          1.5796467908744976e-08,
          1.5752636971859834e-08,
          1.5711886548321477e-08,
          1.5674228453413833e-08,
          1.563965223392548e-08,
          1.5608126528761982e-08,
          1.5579600644679098e-08,
          1.555400632237384e-08,
          1.55312596658534e-08,
          1.5511263206047802e-08,
          1.5493908068077696e-08,
          1.547907621045224e-08,
          1.5466642703773395e-08,
          1.545647801626844e-08,
          1.5448450273679507e-08,
          1.5442427461688894e-08,
          1.543827954016507e-08,
          1.5435880440040407e-08,
          1.543510991558836e-08,
          1.5435855227187187e-08,
          1.5438012632355143e-08,
          1.5441488665834596e-08,
          1.544620119278371e-08,
          1.545208022263005e-08,
          1.5459068474814077e-08,
          1.5467121691440788e-08,
          1.54762086957085e-08,
          1.5486311198833586e-08,
          1.5497423361983973e-08,
          1.5509551123410497e-08,
          1.5522711304462598e-08,
          1.553693051144762e-08,
          1.555224385327807e-08,
          1.556869349751036e-08,
          1.5586327089669326e-08,
          1.560519606262998e-08,
          1.562535386427888e-08,
          1.564685413266908e-08,
          1.566974884839849e-08,
          1.569408649399986e-08,
          1.571991024969873e-08,
          1.5747256254018022e-08,
          1.5776151956385566e-08,
          1.5806614587168308e-08,
          1.5838649768438928e-08,
          1.5872250286339523e-08,
          1.5907395043157667e-08,
          1.59440482042531e-08,
          1.598215855180757e-08,
          1.6021659054068012e-08,
          1.6062466655393776e-08,
          1.6104482289031747e-08,
          1.6147591111216437e-08,
          1.619166295194785e-08,
          1.6236552974726103e-08,
          1.628210253462815e-08,
          1.632814022147935e-08,
          1.637448307250013e-08,
          1.6420937936756055e-08,
          1.6467302972020062e-08,
          1.6513369253273603e-08,
          1.6558922471064954e-08,
          1.6603744697281568e-08,
          1.664761619559527e-08,
          1.669031725388441e-08,
          1.6731630016305353e-08,
          1.677134029337044e-08,
          1.6809239329339703e-08,
          1.6845125507444617e-08,
          1.68788059748849e-08,
          1.691009817114019e-08,
          1.693883124488844e-08,
          1.6964847346685196e-08,
          1.698800278648352e-08,
          1.7008169047051476e-08,
          1.702523364632587e-08,
          1.7039100843695528e-08,
          1.7049692187125455e-08,
          1.705694689987423e-08,
          1.706082210731003e-08,
          1.706129290598214e-08,
          1.705835227863557e-08,
          1.7052010860267297e-08,
          1.7042296561597207e-08,
          1.7029254057472765e-08,
          1.701294414874005e-08,
          1.6993443006991788e-08,
          1.6970841312359677e-08,
          1.694524329514728e-08,
          1.6916765692616224e-08,
          1.6885536632638847e-08,
          1.6851694456227072e-08,
          1.6815386491144113e-08,
          1.6776767788898562e-08,
          1.6735999837432462e-08,
          1.6693249261718658e-08,
          1.6648686524317026e-08,
          1.6602484637663606e-08,
          1.6554817899523744e-08,
          1.650586066258777e-08,
          1.6455786148665413e-08,
          1.6404765317306382e-08,
          1.635296579796726e-08,
          1.6300550894044474e-08,
          1.6247678666204718e-08,
          1.6194501101478567e-08,
          1.614116337353511e-08,
          1.608780319843639e-08,
          1.6034550288999095e-08,
          1.5981525909659425e-08,
          1.592884253247853e-08,
          1.587660359364747e-08,
          1.582490334856431e-08,
          1.5773826822294695e-08,
          1.5723449850999525e-08,
          1.5673839208744388e-08,
          1.5625052813020782e-08,
          1.557714000131847e-08,
          1.5530141870226462e-08,
          1.5484091667815077e-08,
          1.543901522948149e-08,
          1.539493144704507e-08,
          1.5351852760665024e-08,
          1.5309785663124737e-08,
          1.5268731206197865e-08,
          1.522868549917032e-08,
          1.5189640190143756e-08,
          1.5151582921472844e-08,
          1.5114497751587394e-08,
          1.5078365536494097e-08,
          1.5043164265421765e-08,
          1.500886934635723e-08,
          1.4975453838566217e-08,
          1.494288863059361e-08,
          1.491114256365509e-08,
          1.4880182501726482e-08,
          1.4849973350987405e-08,
          1.4820478032545254e-08,
          1.4791657413520028e-08,
          1.4763470202592507e-08,
          1.4735872816971211e-08,
          1.4708819228405349e-08,
          1.4682260796338896e-08,
          1.4656146096555859e-08,
          1.4630420753698356e-08,
          1.4605027285851082e-08,
          1.457990496897385e-08,
          1.4554989728344322e-08,
          1.4530214063357097e-08,
          1.4505507011032612e-08,
          1.4480794152445171e-08,
          1.4455997665011896e-08,
          1.4431036422225083e-08,
          1.440582614099488e-08,
          1.4380279575333461e-08,
          1.4354306753694199e-08,
          1.4327815255917715e-08,
          1.4300710524467318e-08,
          1.4272896203496803e-08,
          1.4244274498313711e-08,
          1.4214746547014482e-08,
          1.4184212795493239e-08,
          1.4152573366692725e-08,
          1.411972841487751e-08,
          1.4085578455883878e-08,
          1.4050024664736662e-08,
          1.4012969132714228e-08,
          1.3974315076880243e-08,
          1.3933966996271613e-08,
          1.3891830770301849e-08,
          1.3847813696491751e-08,
          1.3801824466331543e-08,
          1.3753773079877037e-08,
          1.3703570701540287e-08,
          1.3651129461417349e-08,
          1.3596362208341299e-08,
          1.3539182222625492e-08,
          1.347950289811614e-08,
          1.3417237404658952e-08,
          1.3352298343368645e-08,
          1.3284597408121481e-08,
          1.3214045067450029e-08,
          1.3140550281467985e-08,
          1.3064020268575407e-08,
          1.2984360336473976e-08,
          1.2901473791454708e-08,
          1.2815261939000467e-08,
          1.2725624187490616e-08,
          1.2632458265215661e-08,
          1.2535660559026525e-08,
          1.2435126580804006e-08,
          1.2330751565550902e-08,
          1.222243120235127e-08,
          1.2110062496741756e-08,
          1.1993544760258353e-08,
          1.187278072010938e-08,
          1.1747677739147286e-08,
          1.161814913361867e-08,
          1.1484115573621956e-08,
          1.1345506548858069e-08,
          1.1202261880163694e-08,
          1.1054333255521044e-08,
          1.0901685767792555e-08,
          1.074429943035021e-08,
          1.0582170646108596e-08,
          1.0415313605232458e-08,
          1.024376158699492e-08,
          1.0067568141901973e-08,
          9.88680813129865e-09,
          9.701578603167181e-09,
          9.511999484746666e-09,
          9.318214074886391e-09,
          9.1203893216479e-09,
          8.918715873589831e-09,
          8.71340789628861e-09,
          8.504702648976681e-09,
          8.29285981961599e-09,
          8.078160620225955e-09,
          7.860906647777792e-09,
          7.64141851940923e-09,
          7.420034294014641e-09,
          7.197107695389748e-09,
          6.973006155006555e-09,
          6.74810869508723e-09
         ],
         "yaxis": "y"
        }
       ],
       "layout": {
        "barmode": "overlay",
        "hovermode": "closest",
        "legend": {
         "traceorder": "reversed"
        },
        "template": {
         "data": {
          "bar": [
           {
            "error_x": {
             "color": "#2a3f5f"
            },
            "error_y": {
             "color": "#2a3f5f"
            },
            "marker": {
             "line": {
              "color": "#E5ECF6",
              "width": 0.5
             },
             "pattern": {
              "fillmode": "overlay",
              "size": 10,
              "solidity": 0.2
             }
            },
            "type": "bar"
           }
          ],
          "barpolar": [
           {
            "marker": {
             "line": {
              "color": "#E5ECF6",
              "width": 0.5
             },
             "pattern": {
              "fillmode": "overlay",
              "size": 10,
              "solidity": 0.2
             }
            },
            "type": "barpolar"
           }
          ],
          "carpet": [
           {
            "aaxis": {
             "endlinecolor": "#2a3f5f",
             "gridcolor": "white",
             "linecolor": "white",
             "minorgridcolor": "white",
             "startlinecolor": "#2a3f5f"
            },
            "baxis": {
             "endlinecolor": "#2a3f5f",
             "gridcolor": "white",
             "linecolor": "white",
             "minorgridcolor": "white",
             "startlinecolor": "#2a3f5f"
            },
            "type": "carpet"
           }
          ],
          "choropleth": [
           {
            "colorbar": {
             "outlinewidth": 0,
             "ticks": ""
            },
            "type": "choropleth"
           }
          ],
          "contour": [
           {
            "colorbar": {
             "outlinewidth": 0,
             "ticks": ""
            },
            "colorscale": [
             [
              0,
              "#0d0887"
             ],
             [
              0.1111111111111111,
              "#46039f"
             ],
             [
              0.2222222222222222,
              "#7201a8"
             ],
             [
              0.3333333333333333,
              "#9c179e"
             ],
             [
              0.4444444444444444,
              "#bd3786"
             ],
             [
              0.5555555555555556,
              "#d8576b"
             ],
             [
              0.6666666666666666,
              "#ed7953"
             ],
             [
              0.7777777777777778,
              "#fb9f3a"
             ],
             [
              0.8888888888888888,
              "#fdca26"
             ],
             [
              1,
              "#f0f921"
             ]
            ],
            "type": "contour"
           }
          ],
          "contourcarpet": [
           {
            "colorbar": {
             "outlinewidth": 0,
             "ticks": ""
            },
            "type": "contourcarpet"
           }
          ],
          "heatmap": [
           {
            "colorbar": {
             "outlinewidth": 0,
             "ticks": ""
            },
            "colorscale": [
             [
              0,
              "#0d0887"
             ],
             [
              0.1111111111111111,
              "#46039f"
             ],
             [
              0.2222222222222222,
              "#7201a8"
             ],
             [
              0.3333333333333333,
              "#9c179e"
             ],
             [
              0.4444444444444444,
              "#bd3786"
             ],
             [
              0.5555555555555556,
              "#d8576b"
             ],
             [
              0.6666666666666666,
              "#ed7953"
             ],
             [
              0.7777777777777778,
              "#fb9f3a"
             ],
             [
              0.8888888888888888,
              "#fdca26"
             ],
             [
              1,
              "#f0f921"
             ]
            ],
            "type": "heatmap"
           }
          ],
          "heatmapgl": [
           {
            "colorbar": {
             "outlinewidth": 0,
             "ticks": ""
            },
            "colorscale": [
             [
              0,
              "#0d0887"
             ],
             [
              0.1111111111111111,
              "#46039f"
             ],
             [
              0.2222222222222222,
              "#7201a8"
             ],
             [
              0.3333333333333333,
              "#9c179e"
             ],
             [
              0.4444444444444444,
              "#bd3786"
             ],
             [
              0.5555555555555556,
              "#d8576b"
             ],
             [
              0.6666666666666666,
              "#ed7953"
             ],
             [
              0.7777777777777778,
              "#fb9f3a"
             ],
             [
              0.8888888888888888,
              "#fdca26"
             ],
             [
              1,
              "#f0f921"
             ]
            ],
            "type": "heatmapgl"
           }
          ],
          "histogram": [
           {
            "marker": {
             "pattern": {
              "fillmode": "overlay",
              "size": 10,
              "solidity": 0.2
             }
            },
            "type": "histogram"
           }
          ],
          "histogram2d": [
           {
            "colorbar": {
             "outlinewidth": 0,
             "ticks": ""
            },
            "colorscale": [
             [
              0,
              "#0d0887"
             ],
             [
              0.1111111111111111,
              "#46039f"
             ],
             [
              0.2222222222222222,
              "#7201a8"
             ],
             [
              0.3333333333333333,
              "#9c179e"
             ],
             [
              0.4444444444444444,
              "#bd3786"
             ],
             [
              0.5555555555555556,
              "#d8576b"
             ],
             [
              0.6666666666666666,
              "#ed7953"
             ],
             [
              0.7777777777777778,
              "#fb9f3a"
             ],
             [
              0.8888888888888888,
              "#fdca26"
             ],
             [
              1,
              "#f0f921"
             ]
            ],
            "type": "histogram2d"
           }
          ],
          "histogram2dcontour": [
           {
            "colorbar": {
             "outlinewidth": 0,
             "ticks": ""
            },
            "colorscale": [
             [
              0,
              "#0d0887"
             ],
             [
              0.1111111111111111,
              "#46039f"
             ],
             [
              0.2222222222222222,
              "#7201a8"
             ],
             [
              0.3333333333333333,
              "#9c179e"
             ],
             [
              0.4444444444444444,
              "#bd3786"
             ],
             [
              0.5555555555555556,
              "#d8576b"
             ],
             [
              0.6666666666666666,
              "#ed7953"
             ],
             [
              0.7777777777777778,
              "#fb9f3a"
             ],
             [
              0.8888888888888888,
              "#fdca26"
             ],
             [
              1,
              "#f0f921"
             ]
            ],
            "type": "histogram2dcontour"
           }
          ],
          "mesh3d": [
           {
            "colorbar": {
             "outlinewidth": 0,
             "ticks": ""
            },
            "type": "mesh3d"
           }
          ],
          "parcoords": [
           {
            "line": {
             "colorbar": {
              "outlinewidth": 0,
              "ticks": ""
             }
            },
            "type": "parcoords"
           }
          ],
          "pie": [
           {
            "automargin": true,
            "type": "pie"
           }
          ],
          "scatter": [
           {
            "fillpattern": {
             "fillmode": "overlay",
             "size": 10,
             "solidity": 0.2
            },
            "type": "scatter"
           }
          ],
          "scatter3d": [
           {
            "line": {
             "colorbar": {
              "outlinewidth": 0,
              "ticks": ""
             }
            },
            "marker": {
             "colorbar": {
              "outlinewidth": 0,
              "ticks": ""
             }
            },
            "type": "scatter3d"
           }
          ],
          "scattercarpet": [
           {
            "marker": {
             "colorbar": {
              "outlinewidth": 0,
              "ticks": ""
             }
            },
            "type": "scattercarpet"
           }
          ],
          "scattergeo": [
           {
            "marker": {
             "colorbar": {
              "outlinewidth": 0,
              "ticks": ""
             }
            },
            "type": "scattergeo"
           }
          ],
          "scattergl": [
           {
            "marker": {
             "colorbar": {
              "outlinewidth": 0,
              "ticks": ""
             }
            },
            "type": "scattergl"
           }
          ],
          "scattermapbox": [
           {
            "marker": {
             "colorbar": {
              "outlinewidth": 0,
              "ticks": ""
             }
            },
            "type": "scattermapbox"
           }
          ],
          "scatterpolar": [
           {
            "marker": {
             "colorbar": {
              "outlinewidth": 0,
              "ticks": ""
             }
            },
            "type": "scatterpolar"
           }
          ],
          "scatterpolargl": [
           {
            "marker": {
             "colorbar": {
              "outlinewidth": 0,
              "ticks": ""
             }
            },
            "type": "scatterpolargl"
           }
          ],
          "scatterternary": [
           {
            "marker": {
             "colorbar": {
              "outlinewidth": 0,
              "ticks": ""
             }
            },
            "type": "scatterternary"
           }
          ],
          "surface": [
           {
            "colorbar": {
             "outlinewidth": 0,
             "ticks": ""
            },
            "colorscale": [
             [
              0,
              "#0d0887"
             ],
             [
              0.1111111111111111,
              "#46039f"
             ],
             [
              0.2222222222222222,
              "#7201a8"
             ],
             [
              0.3333333333333333,
              "#9c179e"
             ],
             [
              0.4444444444444444,
              "#bd3786"
             ],
             [
              0.5555555555555556,
              "#d8576b"
             ],
             [
              0.6666666666666666,
              "#ed7953"
             ],
             [
              0.7777777777777778,
              "#fb9f3a"
             ],
             [
              0.8888888888888888,
              "#fdca26"
             ],
             [
              1,
              "#f0f921"
             ]
            ],
            "type": "surface"
           }
          ],
          "table": [
           {
            "cells": {
             "fill": {
              "color": "#EBF0F8"
             },
             "line": {
              "color": "white"
             }
            },
            "header": {
             "fill": {
              "color": "#C8D4E3"
             },
             "line": {
              "color": "white"
             }
            },
            "type": "table"
           }
          ]
         },
         "layout": {
          "annotationdefaults": {
           "arrowcolor": "#2a3f5f",
           "arrowhead": 0,
           "arrowwidth": 1
          },
          "autotypenumbers": "strict",
          "coloraxis": {
           "colorbar": {
            "outlinewidth": 0,
            "ticks": ""
           }
          },
          "colorscale": {
           "diverging": [
            [
             0,
             "#8e0152"
            ],
            [
             0.1,
             "#c51b7d"
            ],
            [
             0.2,
             "#de77ae"
            ],
            [
             0.3,
             "#f1b6da"
            ],
            [
             0.4,
             "#fde0ef"
            ],
            [
             0.5,
             "#f7f7f7"
            ],
            [
             0.6,
             "#e6f5d0"
            ],
            [
             0.7,
             "#b8e186"
            ],
            [
             0.8,
             "#7fbc41"
            ],
            [
             0.9,
             "#4d9221"
            ],
            [
             1,
             "#276419"
            ]
           ],
           "sequential": [
            [
             0,
             "#0d0887"
            ],
            [
             0.1111111111111111,
             "#46039f"
            ],
            [
             0.2222222222222222,
             "#7201a8"
            ],
            [
             0.3333333333333333,
             "#9c179e"
            ],
            [
             0.4444444444444444,
             "#bd3786"
            ],
            [
             0.5555555555555556,
             "#d8576b"
            ],
            [
             0.6666666666666666,
             "#ed7953"
            ],
            [
             0.7777777777777778,
             "#fb9f3a"
            ],
            [
             0.8888888888888888,
             "#fdca26"
            ],
            [
             1,
             "#f0f921"
            ]
           ],
           "sequentialminus": [
            [
             0,
             "#0d0887"
            ],
            [
             0.1111111111111111,
             "#46039f"
            ],
            [
             0.2222222222222222,
             "#7201a8"
            ],
            [
             0.3333333333333333,
             "#9c179e"
            ],
            [
             0.4444444444444444,
             "#bd3786"
            ],
            [
             0.5555555555555556,
             "#d8576b"
            ],
            [
             0.6666666666666666,
             "#ed7953"
            ],
            [
             0.7777777777777778,
             "#fb9f3a"
            ],
            [
             0.8888888888888888,
             "#fdca26"
            ],
            [
             1,
             "#f0f921"
            ]
           ]
          },
          "colorway": [
           "#636efa",
           "#EF553B",
           "#00cc96",
           "#ab63fa",
           "#FFA15A",
           "#19d3f3",
           "#FF6692",
           "#B6E880",
           "#FF97FF",
           "#FECB52"
          ],
          "font": {
           "color": "#2a3f5f"
          },
          "geo": {
           "bgcolor": "white",
           "lakecolor": "white",
           "landcolor": "#E5ECF6",
           "showlakes": true,
           "showland": true,
           "subunitcolor": "white"
          },
          "hoverlabel": {
           "align": "left"
          },
          "hovermode": "closest",
          "mapbox": {
           "style": "light"
          },
          "paper_bgcolor": "white",
          "plot_bgcolor": "#E5ECF6",
          "polar": {
           "angularaxis": {
            "gridcolor": "white",
            "linecolor": "white",
            "ticks": ""
           },
           "bgcolor": "#E5ECF6",
           "radialaxis": {
            "gridcolor": "white",
            "linecolor": "white",
            "ticks": ""
           }
          },
          "scene": {
           "xaxis": {
            "backgroundcolor": "#E5ECF6",
            "gridcolor": "white",
            "gridwidth": 2,
            "linecolor": "white",
            "showbackground": true,
            "ticks": "",
            "zerolinecolor": "white"
           },
           "yaxis": {
            "backgroundcolor": "#E5ECF6",
            "gridcolor": "white",
            "gridwidth": 2,
            "linecolor": "white",
            "showbackground": true,
            "ticks": "",
            "zerolinecolor": "white"
           },
           "zaxis": {
            "backgroundcolor": "#E5ECF6",
            "gridcolor": "white",
            "gridwidth": 2,
            "linecolor": "white",
            "showbackground": true,
            "ticks": "",
            "zerolinecolor": "white"
           }
          },
          "shapedefaults": {
           "line": {
            "color": "#2a3f5f"
           }
          },
          "ternary": {
           "aaxis": {
            "gridcolor": "white",
            "linecolor": "white",
            "ticks": ""
           },
           "baxis": {
            "gridcolor": "white",
            "linecolor": "white",
            "ticks": ""
           },
           "bgcolor": "#E5ECF6",
           "caxis": {
            "gridcolor": "white",
            "linecolor": "white",
            "ticks": ""
           }
          },
          "title": {
           "x": 0.05
          },
          "xaxis": {
           "automargin": true,
           "gridcolor": "white",
           "linecolor": "white",
           "ticks": "",
           "title": {
            "standoff": 15
           },
           "zerolinecolor": "white",
           "zerolinewidth": 2
          },
          "yaxis": {
           "automargin": true,
           "gridcolor": "white",
           "linecolor": "white",
           "ticks": "",
           "title": {
            "standoff": 15
           },
           "zerolinecolor": "white",
           "zerolinewidth": 2
          }
         }
        },
        "title": {
         "text": "Credit Card Transactions Time Density Plot"
        },
        "xaxis": {
         "anchor": "y2",
         "domain": [
          0,
          1
         ],
         "title": {
          "text": "Time [s]"
         },
         "zeroline": false
        },
        "yaxis": {
         "anchor": "free",
         "domain": [
          0,
          1
         ],
         "position": 0
        }
       }
      },
      "text/html": [
       "<div>                            <div id=\"88061eaf-246e-407d-9a6c-4e4d9784aca7\" class=\"plotly-graph-div\" style=\"height:525px; width:100%;\"></div>            <script type=\"text/javascript\">                require([\"plotly\"], function(Plotly) {                    window.PLOTLYENV=window.PLOTLYENV || {};                                    if (document.getElementById(\"88061eaf-246e-407d-9a6c-4e4d9784aca7\")) {                    Plotly.newPlot(                        \"88061eaf-246e-407d-9a6c-4e4d9784aca7\",                        [{\"legendgroup\":\"Not Fraud\",\"marker\":{\"color\":\"rgb(31, 119, 180)\"},\"mode\":\"lines\",\"name\":\"Not Fraud\",\"showlegend\":true,\"x\":[1325376018.0,1325502334.712,1325628651.424,1325754968.136,1325881284.848,1326007601.56,1326133918.272,1326260234.984,1326386551.696,1326512868.408,1326639185.12,1326765501.832,1326891818.544,1327018135.256,1327144451.968,1327270768.68,1327397085.392,1327523402.104,1327649718.816,1327776035.528,1327902352.24,1328028668.952,1328154985.664,1328281302.376,1328407619.088,1328533935.8,1328660252.512,1328786569.224,1328912885.936,1329039202.648,1329165519.36,1329291836.072,1329418152.784,1329544469.496,1329670786.208,1329797102.92,1329923419.632,1330049736.344,1330176053.056,1330302369.768,1330428686.48,1330555003.192,1330681319.904,1330807636.616,1330933953.328,1331060270.04,1331186586.752,1331312903.464,1331439220.176,1331565536.888,1331691853.6,1331818170.312,1331944487.024,1332070803.736,1332197120.448,1332323437.16,1332449753.872,1332576070.584,1332702387.296,1332828704.008,1332955020.72,1333081337.432,1333207654.144,1333333970.856,1333460287.568,1333586604.28,1333712920.992,1333839237.704,1333965554.416,1334091871.128,1334218187.84,1334344504.552,1334470821.264,1334597137.976,1334723454.688,1334849771.4,1334976088.112,1335102404.824,1335228721.536,1335355038.248,1335481354.96,1335607671.672,1335733988.384,1335860305.096,1335986621.808,1336112938.52,1336239255.232,1336365571.944,1336491888.656,1336618205.368,1336744522.08,1336870838.792,1336997155.504,1337123472.216,1337249788.928,1337376105.64,1337502422.352,1337628739.064,1337755055.776,1337881372.488,1338007689.2,1338134005.912,1338260322.624,1338386639.336,1338512956.048,1338639272.76,1338765589.472,1338891906.184,1339018222.896,1339144539.608,1339270856.32,1339397173.032,1339523489.744,1339649806.456,1339776123.168,1339902439.88,1340028756.592,1340155073.304,1340281390.016,1340407706.728,1340534023.44,1340660340.152,1340786656.864,1340912973.576,1341039290.288,1341165607.0,1341291923.712,1341418240.424,1341544557.136,1341670873.848,1341797190.56,1341923507.272,1342049823.984,1342176140.696,1342302457.408,1342428774.12,1342555090.832,1342681407.544,1342807724.256,1342934040.968,1343060357.68,1343186674.392,1343312991.104,1343439307.816,1343565624.528,1343691941.24,1343818257.952,1343944574.664,1344070891.376,1344197208.088,1344323524.8,1344449841.512,1344576158.224,1344702474.936,1344828791.648,1344955108.36,1345081425.072,1345207741.784,1345334058.496,1345460375.208,1345586691.92,1345713008.632,1345839325.344,1345965642.056,1346091958.768,1346218275.48,1346344592.192,1346470908.904,1346597225.616,1346723542.328,1346849859.04,1346976175.752,1347102492.464,1347228809.176,1347355125.888,1347481442.6,1347607759.312,1347734076.024,1347860392.736,1347986709.448,1348113026.16,1348239342.872,1348365659.584,1348491976.296,1348618293.008,1348744609.72,1348870926.432,1348997243.144,1349123559.856,1349249876.568,1349376193.28,1349502509.992,1349628826.704,1349755143.416,1349881460.128,1350007776.84,1350134093.552,1350260410.264,1350386726.976,1350513043.688,1350639360.4,1350765677.112,1350891993.824,1351018310.536,1351144627.248,1351270943.96,1351397260.672,1351523577.384,1351649894.096,1351776210.808,1351902527.52,1352028844.232,1352155160.944,1352281477.656,1352407794.368,1352534111.08,1352660427.792,1352786744.504,1352913061.216,1353039377.928,1353165694.64,1353292011.352,1353418328.064,1353544644.776,1353670961.488,1353797278.2,1353923594.912,1354049911.624,1354176228.336,1354302545.048,1354428861.76,1354555178.472,1354681495.184,1354807811.896,1354934128.608,1355060445.32,1355186762.032,1355313078.744,1355439395.456,1355565712.168,1355692028.88,1355818345.592,1355944662.304,1356070979.016,1356197295.728,1356323612.44,1356449929.152,1356576245.864,1356702562.576,1356828879.288,1356955196.0,1357081512.712,1357207829.424,1357334146.136,1357460462.848,1357586779.56,1357713096.272,1357839412.984,1357965729.696,1358092046.408,1358218363.12,1358344679.832,1358470996.544,1358597313.256,1358723629.968,1358849946.68,1358976263.392,1359102580.104,1359228896.816,1359355213.5279999,1359481530.24,1359607846.952,1359734163.664,1359860480.376,1359986797.088,1360113113.8,1360239430.512,1360365747.224,1360492063.936,1360618380.648,1360744697.36,1360871014.072,1360997330.784,1361123647.496,1361249964.208,1361376280.92,1361502597.632,1361628914.344,1361755231.056,1361881547.768,1362007864.48,1362134181.192,1362260497.904,1362386814.616,1362513131.328,1362639448.04,1362765764.752,1362892081.464,1363018398.176,1363144714.888,1363271031.6,1363397348.312,1363523665.024,1363649981.736,1363776298.448,1363902615.16,1364028931.872,1364155248.584,1364281565.296,1364407882.008,1364534198.72,1364660515.432,1364786832.144,1364913148.856,1365039465.568,1365165782.28,1365292098.992,1365418415.704,1365544732.416,1365671049.128,1365797365.84,1365923682.552,1366049999.264,1366176315.976,1366302632.688,1366428949.4,1366555266.112,1366681582.824,1366807899.536,1366934216.248,1367060532.96,1367186849.672,1367313166.384,1367439483.096,1367565799.808,1367692116.52,1367818433.232,1367944749.944,1368071066.656,1368197383.368,1368323700.08,1368450016.792,1368576333.504,1368702650.216,1368828966.928,1368955283.64,1369081600.352,1369207917.064,1369334233.776,1369460550.488,1369586867.2,1369713183.912,1369839500.624,1369965817.336,1370092134.048,1370218450.76,1370344767.4720001,1370471084.184,1370597400.896,1370723717.608,1370850034.32,1370976351.032,1371102667.744,1371228984.456,1371355301.168,1371481617.88,1371607934.592,1371734251.304,1371860568.016,1371986884.728,1372113201.44,1372239518.152,1372365834.864,1372492151.576,1372618468.288,1372744785.0,1372871101.712,1372997418.424,1373123735.136,1373250051.848,1373376368.56,1373502685.272,1373629001.984,1373755318.696,1373881635.408,1374007952.12,1374134268.832,1374260585.544,1374386902.256,1374513218.968,1374639535.68,1374765852.392,1374892169.104,1375018485.816,1375144802.5279999,1375271119.24,1375397435.952,1375523752.664,1375650069.376,1375776386.088,1375902702.8,1376029019.512,1376155336.224,1376281652.936,1376407969.648,1376534286.36,1376660603.072,1376786919.784,1376913236.496,1377039553.208,1377165869.92,1377292186.632,1377418503.344,1377544820.056,1377671136.768,1377797453.48,1377923770.192,1378050086.904,1378176403.616,1378302720.328,1378429037.04,1378555353.752,1378681670.464,1378807987.176,1378934303.888,1379060620.6,1379186937.312,1379313254.024,1379439570.736,1379565887.448,1379692204.16,1379818520.872,1379944837.584,1380071154.296,1380197471.008,1380323787.72,1380450104.432,1380576421.144,1380702737.856,1380829054.568,1380955371.28,1381081687.992,1381208004.704,1381334321.416,1381460638.128,1381586954.84,1381713271.552,1381839588.264,1381965904.976,1382092221.688,1382218538.4,1382344855.112,1382471171.824,1382597488.536,1382723805.248,1382850121.96,1382976438.672,1383102755.384,1383229072.096,1383355388.808,1383481705.52,1383608022.232,1383734338.944,1383860655.656,1383986972.368,1384113289.08,1384239605.792,1384365922.504,1384492239.216,1384618555.928,1384744872.64,1384871189.352,1384997506.064,1385123822.776,1385250139.488,1385376456.2,1385502772.912,1385629089.624,1385755406.336,1385881723.048,1386008039.76,1386134356.4720001,1386260673.184,1386386989.896,1386513306.608,1386639623.32,1386765940.032,1386892256.744,1387018573.456,1387144890.168,1387271206.88,1387397523.592,1387523840.304,1387650157.016,1387776473.728,1387902790.44,1388029107.152,1388155423.864,1388281740.576,1388408057.288],\"xaxis\":\"x\",\"y\":[5.2681277007576865e-09,5.792799205950931e-09,6.309903630768728e-09,6.811716802882095e-09,7.29120616526848e-09,7.742327230369234e-09,8.160248650365884e-09,8.541492460726216e-09,8.883984294130485e-09,9.18701667058867e-09,9.451135889331733e-09,9.677968803551696e-09,9.87000935132815e-09,1.0030385964350192e-08,1.0162630007340691e-08,1.0270462594011918e-08,1.035761302452733e-08,1.0427677307344492e-08,1.0484020355110349e-08,1.0529720975543968e-08,1.056755507337671e-08,1.0600009747131216e-08,1.0629319275264005e-08,1.0657513301178013e-08,1.0686467733887478e-08,1.0717949831874253e-08,1.0753650472250781e-08,1.079519857191676e-08,1.0844154876858118e-08,1.0901984729487089e-08,1.0970011815945624e-08,1.1049357127385055e-08,1.1140869268937742e-08,1.12450536394896e-08,1.1362008719077216e-08,1.149137761147026e-08,1.1632322036619219e-08,1.1783524181219963e-08,1.1943219329819446e-08,1.2109259249840126e-08,1.2279203208531804e-08,1.2450430618271325e-08,1.26202669928528e-08,1.2786113445698734e-08,1.29455695603882e-08,1.3096540165606376e-08,1.3237318255194153e-08,1.3366638780775507e-08,1.3483700983806157e-08,1.358815995370498e-08,1.3680090836575541e-08,1.3759931274312882e-08,1.3828409025991037e-08,1.3886462232031326e-08,1.3935159465210214e-08,1.3975625709768547e-08,1.4008978927197048e-08,1.4036280141454392e-08,1.4058498237744697e-08,1.4076489112261083e-08,1.4090987575394396e-08,1.410260957563952e-08,1.4111861893826865e-08,1.4119156425371912e-08,1.4124826454225013e-08,1.412914283643248e-08,1.413232865699781e-08,1.4134571606705471e-08,1.4136033963963037e-08,1.4136860594972606e-08,1.4137185759341724e-08,1.4137139704557364e-08,1.4136856049833688e-08,1.4136480814232365e-08,1.4136183666316508e-08,1.4136171601758424e-08,1.4136704832369023e-08,1.4138114233038157e-08,1.4140819273676654e-08,1.4145344986658362e-08,1.4152336207327046e-08,1.416256709746136e-08,1.4176943846090235e-08,1.4196498474016485e-08,1.4222371890221341e-08,1.4255784803028253e-08,1.429799580783453e-08,1.4350246961872535e-08,1.4413698378526516e-08,1.4489354742072916e-08,1.4577988018648009e-08,1.468006183906637e-08,1.4795663853698751e-08,1.492445262180673e-08,1.5065625161074303e-08,1.5217910094199635e-08,1.537958944180879e-08,1.5548549689246354e-08,1.5722360060673634e-08,1.5898373291810478e-08,1.6073841940539718e-08,1.6246041710965848e-08,1.6412392600005388e-08,1.657056899067653e-08,1.671859105856056e-08,1.685489184594322e-08,1.6978356812941693e-08,1.7088335271114092e-08,1.7184625520264624e-08,1.7267437477013627e-08,1.733733792762924e-08,1.73951841885987e-08,1.7442051953671856e-08,1.7479162565269895e-08,1.7507814044478048e-08,1.752931913314745e-08,1.7544952512099984e-08,1.7555908384675714e-08,1.7563268823649957e-08,1.7567982686591513e-08,1.757085448321859e-08,1.7572542278012122e-08,1.7573563479250718e-08,1.7574307162078015e-08,1.757505138241021e-08,1.757598377029331e-08,1.7577223575954152e-08,1.757884331880253e-08,1.7580888294637848e-08,1.758339244962635e-08,1.7586389526469356e-08,1.7589918898628617e-08,1.759402607830495e-08,1.7598758445069065e-08,1.760415722344273e-08,1.7610247077012192e-08,1.7617024841650522e-08,1.7624448874276773e-08,1.7632430258574714e-08,1.7640826722253443e-08,1.7649439638913156e-08,1.765801397886249e-08,1.766624060709793e-08,1.7673759965927176e-08,1.7680165974477574e-08,1.768500895993618e-08,1.768779661856276e-08,1.768799237949469e-08,1.7685011082350256e-08,1.767821253054957e-08,1.7666894178111796e-08,1.765028486406127e-08,1.7627542029803682e-08,1.759775514323092e-08,1.755995801787252e-08,1.7513152289586474e-08,1.7456343467221922e-08,1.7388589731781173e-08,1.7309062106707073e-08,1.7217112911139535e-08,1.7112347743430395e-08,1.6994694862731792e-08,1.686446498194808e-08,1.6722394357246345e-08,1.6569664782573235e-08,1.6407895687224363e-08,1.6239105879766192e-08,1.606564534796483e-08,1.589010057937602e-08,1.5715179724707734e-08,1.5543586204359143e-08,1.5377890740461404e-08,1.5220412083612428e-08,1.5073115846647652e-08,1.493753897155479e-08,1.4814744694530714e-08,1.470530979531804e-08,1.4609342819918113e-08,1.452652922905059e-08,1.445619735333404e-08,1.4397397816388432e-08,1.434898877396042e-08,1.4309719835512808e-08,1.4278308709566922e-08,1.4253506206187021e-08,1.4234146984172846e-08,1.4219185113594264e-08,1.4207714958422151e-08,1.4198978961668664e-08,1.4192364602522892e-08,1.4187393119713206e-08,1.4183702629602919e-08,1.4181028104333697e-08,1.4179180408026438e-08,1.4178026295171348e-08,1.4177471007028036e-08,1.417744488382982e-08,1.4177895242784848e-08,1.417878463689514e-08,1.4180096479731097e-08,1.4181848866033235e-08,1.4184117207516487e-08,1.4187066011091256e-08,1.4190989728334671e-08,1.4196362077891052e-08,1.4203892566226988e-08,1.4214588092379186e-08,1.4229816519174095e-08,1.42513679522423e-08,1.428150825440468e-08,1.4323018152093745e-08,1.4379210334609106e-08,1.4453916427365614e-08,1.4551435887339202e-08,1.467643996424482e-08,1.483382607816884e-08,1.502852135131311e-08,1.5265238499495307e-08,1.5548192537112502e-08,1.5880792270342435e-08,1.6265325669390883e-08,1.6702662148796662e-08,1.7191996792492716e-08,1.7730661036194207e-08,1.8314020947346362e-08,1.893547808996817e-08,1.9586579528199542e-08,2.0257233714287944e-08,2.0936019032710244e-08,2.1610562975117663e-08,2.226796356377938e-08,2.2895221693066778e-08,2.347965400849368e-08,2.40092606923771e-08,2.4473030371457127e-08,2.4861174090553095e-08,2.516529036515714e-08,2.5378472113902534e-08,2.5495372351879606e-08,2.5512247911395225e-08,2.5426998780509586e-08,2.5239215241178127e-08,2.4950236832814263e-08,2.456321774990961e-08,2.4083184348477782e-08,2.3517063692734155e-08,2.2873658898930944e-08,2.216354823067627e-08,2.1398890550305272e-08,2.0593129161968458e-08,1.9760597972845065e-08,1.891604648979707e-08,1.8074111554438233e-08,1.7248772161108242e-08,1.6452827912062313e-08,1.5697441009057383e-08,1.4991776266136403e-08,1.4342764261736995e-08,1.3755000777176547e-08,1.3230782746139664e-08,1.2770268747011332e-08,1.2371742059499856e-08,1.2031947501976799e-08,1.1746470150834625e-08,1.151012455111117e-08,1.1317326618615274e-08,1.1162426236322554e-08,1.1039985533235874e-08,1.0944994987287215e-08,1.0873025956638313e-08,1.0820323405859015e-08,1.0783846133921375e-08,1.0761263686838065e-08,1.0750919535729356e-08,1.0751769367015905e-08,1.0763301890895693e-08,1.07854478599788e-08,1.0818481380496162e-08,1.0862916376713106e-08,1.0919400397248409e-08,1.0988607866160035e-08,1.1071135300688038e-08,1.1167401765725913e-08,1.127755867446698e-08,1.1401413714728376e-08,1.1538373940625332e-08,1.168741273887854e-08,1.1847064370025847e-08,1.2015448121015054e-08,1.2190321925155804e-08,1.2369162844140684e-08,1.2549269365656631e-08,1.2727878367956463e-08,1.2902288127968409e-08,1.3069978111628398e-08,1.3228716582278375e-08,1.3376648265862749e-08,1.3512356269337518e-08,1.3634894914651955e-08,1.3743792822171636e-08,1.3839028143401837e-08,1.392098002795866e-08,1.399036201071125e-08,1.404814391075873e-08,1.4095469030141926e-08,1.4133572997786636e-08,1.4163709657222833e-08,1.4187088114142181e-08,1.4204823618379899e-08,1.4217903514700794e-08,1.4227168187112451e-08,1.4233305832059246e-08,1.4236859077982727e-08,1.423824093927435e-08,1.4237757341973935e-08,1.4235633459139615e-08,1.4232041305590357e-08,1.4227126419120048e-08,1.422103194845903e-08,1.4213919026833163e-08,1.4205982883552527e-08,1.4197464686273539e-08,1.4188659568977223e-08,1.4179921646543972e-08,1.4171667016230203e-08,1.4164375779413646e-08,1.4158593977251991e-08,1.4154936028873134e-08,1.4154087814694644e-08,1.4156810001369164e-08,1.4163940617462432e-08,1.4176395334157291e-08,1.4195163469079901e-08,1.4221297503202846e-08,1.4255893964007007e-08,1.4300063943986253e-08,1.4354892318414824e-08,1.4421385874947731e-08,1.4500411986428982e-08,1.4592631003624095e-08,1.4698427022073186e-08,1.4817842865496504e-08,1.4950525807489757e-08,1.50956905455034e-08,1.5252105143137706e-08,1.541810407092781e-08,1.5591630220515743e-08,1.5770305072616465e-08,1.5951523379742112e-08,1.6132566135093775e-08,1.631072358168585e-08,1.6483418845130687e-08,1.664832261311071e-08,1.680345015821977e-08,1.6947233792080035e-08,1.7078566306644142e-08,1.7196813782701587e-08,1.7301798971674292e-08,1.7393758954879573e-08,1.747328269247225e-08,1.7541235230159985e-08,1.7598675687367217e-08,1.7646775763116053e-08,1.7686744509502126e-08,1.7719763732956565e-08,1.774693680624903e-08,1.7769252109777557e-08,1.7787560932520875e-08,1.7802568560712215e-08,1.7814836519393802e-08,1.7824793510066564e-08,1.783275246831395e-08,1.783893128443961e-08,1.784347501376592e-08,1.7846477778791635e-08,1.784800297268239e-08,1.784810076846339e-08,1.784682229381628e-08,1.7844230136540197e-08,1.784040509912809e-08,1.7835449328667406e-08,1.782948611653252e-08,1.7822656797123115e-08,1.7815115277791593e-08,1.780702080226337e-08,1.7798529583771218e-08,1.7789785937744776e-08,1.7780913494585474e-08,1.777200698026099e-08,1.7763124920093812e-08,1.775428345686896e-08,1.7745451292052473e-08,1.7736545576655225e-08,1.7727428420535478e-08,1.7717903582866306e-08,1.7707712881668207e-08,1.7696531942073613e-08,1.768396510885218e-08,1.7669539679476338e-08,1.765270004972833e-08,1.7632802858778286e-08,1.760911470351786e-08,1.7580814373373676e-08,1.7547001737434205e-08,1.7506715306558046e-08,1.745896003024516e-08,1.7402746054403595e-08,1.733713800165724e-08,1.7261312945305222e-08,1.7174623792897926e-08,1.7076663477603885e-08,1.6967324389221906e-08,1.684684705309649e-08,1.6715852319478876e-08,1.6575352305399858e-08,1.6426736981081107e-08,1.6271735453003772e-08,1.61123534195311e-08,1.5950790662587643e-08,1.578934448189628e-08,1.5630306408279327e-08,1.547586016370699e-08,1.532798859375485e-08,1.5188396232222103e-08,1.5058452428226453e-08,1.4939157817878936e-08,1.4831134642857935e-08,1.4734639288575276e-08,1.4649593673483498e-08,1.4575630926693304e-08,1.4512150213840185e-08,1.4458375587524985e-08,1.4413414254459869e-08,1.43763105221231e-08,1.4346092751023294e-08,1.4321811739336852e-08,1.4302569978385384e-08,1.428754205297111e-08,1.4275987075668855e-08,1.4267254432029632e-08,1.4260784296584651e-08,1.4256104398047229e-08,1.4252824415106054e-08,1.4250629221360615e-08,1.424927201438408e-08,1.4248568197268486e-08,1.4248390760145171e-08,1.4248667852423705e-08,1.4249383250466232e-08,1.4250580503084499e-08,1.4252371655081838e-08,1.4254951566253209e-08,1.4258618900865997e-08,1.426380478763515e-08,1.4271109861805186e-08,1.4281349823044095e-08,1.4295608719732847e-08,1.4315297885429535e-08,1.4342216848851831e-08,1.4378610730045418e-08,1.442721681859026e-08,1.4491291475145708e-08,1.4574607528270739e-08,1.4681412289768378e-08,1.4816337477362239e-08,1.498425490135261e-08,1.519007576217144e-08,1.5438496622640455e-08,1.5733701129824665e-08,1.6079032715569385e-08,1.6476658995168163e-08,1.6927252551638592e-08,1.7429714464611438e-08,1.7980965772922282e-08,1.8575827862464678e-08,1.920700580280563e-08,1.98651796343866e-08,2.053919864526201e-08,2.121636413435918e-08,2.1882778442077755e-08,2.252373334644307e-08,2.3124110058390876e-08,2.366876619070527e-08,2.4142891734329276e-08,2.4532325126407745e-08,2.4823830327308218e-08,2.5005344601725868e-08,2.5066212673423045e-08,2.499742475695387e-08,2.4791873009091764e-08,2.4444633384167936e-08,2.3953268794105325e-08,2.3318136683952074e-08,2.2542671928649594e-08,2.1633606724172043e-08,2.060108495424023e-08,1.9458630725234335e-08,1.822293975313277e-08,1.6913477325866605e-08,1.555188588087683e-08],\"yaxis\":\"y\",\"type\":\"scatter\"},{\"legendgroup\":\"Fraud\",\"marker\":{\"color\":\"rgb(255, 127, 14)\"},\"mode\":\"lines\",\"name\":\"Fraud\",\"showlegend\":true,\"x\":[1325466397.0,1325590972.244,1325715547.488,1325840122.732,1325964697.976,1326089273.22,1326213848.464,1326338423.708,1326462998.952,1326587574.196,1326712149.44,1326836724.684,1326961299.928,1327085875.172,1327210450.416,1327335025.66,1327459600.904,1327584176.148,1327708751.392,1327833326.636,1327957901.88,1328082477.124,1328207052.368,1328331627.612,1328456202.856,1328580778.1,1328705353.344,1328829928.588,1328954503.832,1329079079.076,1329203654.32,1329328229.564,1329452804.808,1329577380.052,1329701955.296,1329826530.54,1329951105.784,1330075681.028,1330200256.272,1330324831.516,1330449406.76,1330573982.004,1330698557.248,1330823132.492,1330947707.736,1331072282.98,1331196858.224,1331321433.468,1331446008.712,1331570583.956,1331695159.2,1331819734.444,1331944309.688,1332068884.932,1332193460.176,1332318035.42,1332442610.664,1332567185.908,1332691761.152,1332816336.396,1332940911.64,1333065486.884,1333190062.128,1333314637.372,1333439212.616,1333563787.86,1333688363.104,1333812938.348,1333937513.592,1334062088.836,1334186664.08,1334311239.324,1334435814.568,1334560389.812,1334684965.056,1334809540.3,1334934115.544,1335058690.788,1335183266.032,1335307841.276,1335432416.52,1335556991.764,1335681567.008,1335806142.252,1335930717.496,1336055292.74,1336179867.984,1336304443.228,1336429018.472,1336553593.716,1336678168.96,1336802744.204,1336927319.448,1337051894.692,1337176469.936,1337301045.18,1337425620.424,1337550195.668,1337674770.912,1337799346.156,1337923921.4,1338048496.644,1338173071.888,1338297647.132,1338422222.376,1338546797.62,1338671372.864,1338795948.108,1338920523.352,1339045098.596,1339169673.84,1339294249.084,1339418824.328,1339543399.572,1339667974.816,1339792550.06,1339917125.304,1340041700.548,1340166275.792,1340290851.036,1340415426.28,1340540001.524,1340664576.768,1340789152.012,1340913727.256,1341038302.5,1341162877.744,1341287452.988,1341412028.232,1341536603.476,1341661178.72,1341785753.964,1341910329.208,1342034904.452,1342159479.696,1342284054.94,1342408630.184,1342533205.428,1342657780.672,1342782355.916,1342906931.16,1343031506.404,1343156081.648,1343280656.892,1343405232.136,1343529807.38,1343654382.624,1343778957.868,1343903533.112,1344028108.356,1344152683.6,1344277258.844,1344401834.088,1344526409.332,1344650984.576,1344775559.82,1344900135.064,1345024710.308,1345149285.552,1345273860.796,1345398436.04,1345523011.284,1345647586.528,1345772161.772,1345896737.016,1346021312.26,1346145887.504,1346270462.748,1346395037.992,1346519613.236,1346644188.48,1346768763.724,1346893338.968,1347017914.212,1347142489.456,1347267064.7,1347391639.944,1347516215.188,1347640790.432,1347765365.676,1347889940.92,1348014516.164,1348139091.408,1348263666.652,1348388241.896,1348512817.14,1348637392.384,1348761967.628,1348886542.872,1349011118.116,1349135693.36,1349260268.604,1349384843.848,1349509419.092,1349633994.336,1349758569.58,1349883144.824,1350007720.068,1350132295.312,1350256870.556,1350381445.8,1350506021.044,1350630596.288,1350755171.532,1350879746.776,1351004322.02,1351128897.264,1351253472.508,1351378047.752,1351502622.996,1351627198.24,1351751773.484,1351876348.728,1352000923.972,1352125499.216,1352250074.46,1352374649.704,1352499224.948,1352623800.192,1352748375.436,1352872950.68,1352997525.924,1353122101.168,1353246676.412,1353371251.656,1353495826.9,1353620402.144,1353744977.388,1353869552.632,1353994127.876,1354118703.12,1354243278.364,1354367853.608,1354492428.852,1354617004.096,1354741579.34,1354866154.584,1354990729.828,1355115305.072,1355239880.316,1355364455.56,1355489030.804,1355613606.048,1355738181.292,1355862756.536,1355987331.78,1356111907.024,1356236482.268,1356361057.512,1356485632.756,1356610208.0,1356734783.244,1356859358.488,1356983933.732,1357108508.976,1357233084.22,1357357659.464,1357482234.708,1357606809.952,1357731385.196,1357855960.44,1357980535.684,1358105110.928,1358229686.172,1358354261.416,1358478836.66,1358603411.904,1358727987.148,1358852562.392,1358977137.636,1359101712.88,1359226288.124,1359350863.368,1359475438.612,1359600013.856,1359724589.1,1359849164.344,1359973739.588,1360098314.832,1360222890.076,1360347465.32,1360472040.564,1360596615.808,1360721191.052,1360845766.296,1360970341.54,1361094916.784,1361219492.0279999,1361344067.272,1361468642.516,1361593217.76,1361717793.004,1361842368.248,1361966943.492,1362091518.736,1362216093.98,1362340669.224,1362465244.468,1362589819.712,1362714394.956,1362838970.2,1362963545.444,1363088120.688,1363212695.932,1363337271.176,1363461846.42,1363586421.664,1363710996.908,1363835572.152,1363960147.396,1364084722.64,1364209297.884,1364333873.128,1364458448.372,1364583023.616,1364707598.86,1364832174.104,1364956749.348,1365081324.592,1365205899.836,1365330475.08,1365455050.324,1365579625.568,1365704200.812,1365828776.056,1365953351.3,1366077926.544,1366202501.788,1366327077.032,1366451652.276,1366576227.52,1366700802.764,1366825378.008,1366949953.252,1367074528.496,1367199103.74,1367323678.984,1367448254.228,1367572829.4720001,1367697404.716,1367821979.96,1367946555.204,1368071130.448,1368195705.692,1368320280.936,1368444856.18,1368569431.424,1368694006.668,1368818581.912,1368943157.156,1369067732.4,1369192307.644,1369316882.888,1369441458.132,1369566033.376,1369690608.62,1369815183.864,1369939759.108,1370064334.352,1370188909.596,1370313484.84,1370438060.084,1370562635.328,1370687210.572,1370811785.816,1370936361.06,1371060936.304,1371185511.548,1371310086.792,1371434662.036,1371559237.28,1371683812.524,1371808387.768,1371932963.012,1372057538.256,1372182113.5,1372306688.744,1372431263.988,1372555839.232,1372680414.476,1372804989.72,1372929564.964,1373054140.208,1373178715.452,1373303290.696,1373427865.94,1373552441.184,1373677016.428,1373801591.672,1373926166.916,1374050742.16,1374175317.404,1374299892.648,1374424467.892,1374549043.136,1374673618.38,1374798193.624,1374922768.868,1375047344.112,1375171919.356,1375296494.6,1375421069.844,1375545645.088,1375670220.332,1375794795.576,1375919370.82,1376043946.064,1376168521.308,1376293096.552,1376417671.796,1376542247.04,1376666822.284,1376791397.5279999,1376915972.772,1377040548.016,1377165123.26,1377289698.504,1377414273.748,1377538848.992,1377663424.236,1377787999.48,1377912574.724,1378037149.968,1378161725.212,1378286300.456,1378410875.7,1378535450.944,1378660026.188,1378784601.432,1378909176.676,1379033751.92,1379158327.164,1379282902.408,1379407477.652,1379532052.896,1379656628.14,1379781203.384,1379905778.628,1380030353.872,1380154929.116,1380279504.36,1380404079.604,1380528654.848,1380653230.092,1380777805.336,1380902380.58,1381026955.824,1381151531.068,1381276106.312,1381400681.556,1381525256.8,1381649832.044,1381774407.288,1381898982.532,1382023557.776,1382148133.02,1382272708.264,1382397283.508,1382521858.752,1382646433.996,1382771009.24,1382895584.484,1383020159.728,1383144734.9720001,1383269310.216,1383393885.46,1383518460.704,1383643035.948,1383767611.192,1383892186.436,1384016761.68,1384141336.924,1384265912.168,1384390487.412,1384515062.656,1384639637.9,1384764213.144,1384888788.388,1385013363.632,1385137938.876,1385262514.12,1385387089.364,1385511664.608,1385636239.852,1385760815.096,1385885390.34,1386009965.584,1386134540.828,1386259116.072,1386383691.316,1386508266.56,1386632841.804,1386757417.048,1386881992.292,1387006567.536,1387131142.78,1387255718.024,1387380293.268,1387504868.512,1387629443.756],\"xaxis\":\"x\",\"y\":[1.0138148521779233e-08,1.049627753847635e-08,1.0853548378268876e-08,1.1209213853421658e-08,1.1562529359920978e-08,1.1912756818331135e-08,1.2259168545313971e-08,1.2601051021763644e-08,1.2937708525205485e-08,1.3268466596258007e-08,1.3592675311467948e-08,1.390971233769199e-08,1.4218985746297537e-08,1.4519936568832643e-08,1.4812041079282655e-08,1.509481279164639e-08,1.536780416517475e-08,1.563060801321124e-08,1.588285861505425e-08,1.612423253361428e-08,1.635444914476597e-08,1.657327088717463e-08,1.678050324398122e-08,1.6975994469968145e-08,1.715963507976608e-08,1.7331357114187274e-08,1.7491133202952195e-08,1.7638975442859108e-08,1.7774934110881597e-08,1.789909623173831e-08,1.8011584019236988e-08,1.8112553210138258e-08,1.8202191308461558e-08,1.8280715757122e-08,1.8348372052561878e-08,1.840543181667982e-08,1.8452190838918285e-08,1.8488967099870462e-08,1.851609878628054e-08,1.8533942305857348e-08,1.8542870308953386e-08,1.8543269722904222e-08,1.8535539803712794e-08,1.8520090208819167e-08,1.8497339093931933e-08,1.8467711236338664e-08,1.8431636186740224e-08,1.838954645148709e-08,1.8341875707114433e-08,1.8289057049268698e-08,1.823152127845985e-08,1.816969522555832e-08,1.8104000120535665e-08,1.8034850008597425e-08,1.7962650218553662e-08,1.7887795888967678e-08,1.7810670558291635e-08,1.7731644825806542e-08,1.7651075090695094e-08,1.7569302376975008e-08,1.7486651252255505e-08,1.7403428848375145e-08,1.7319923991855836e-08,1.7236406451832064e-08,1.7153126312595536e-08,1.70703134772182e-08,1.698817730780942e-08,1.6906906406904527e-08,1.6826668543233654e-08,1.6747610723739255e-08,1.6669859412206494e-08,1.659352089327497e-08,1.6518681778941972e-08,1.644540965299252e-08,1.6373753847109027e-08,1.630374634079188e-08,1.6235402775666132e-08,1.6168723573310265e-08,1.6103695144442085e-08,1.6040291176172083e-08,1.5978473983095106e-08,1.591819590727569e-08,1.585940075168684e-08,1.5802025231416223e-08,1.574600042694825e-08,1.569125322406554e-08,1.563770772540566e-08,1.5585286619406827e-08,1.553391249330826e-08,1.548350907798726e-08,1.5434002413704555e-08,1.5385321927259264e-08,1.533740141260366e-08,1.529017990859433e-08,1.52436024692283e-08,1.519762082340782e-08,1.515219392294286e-08,1.5107288379129264e-08,1.5062878789771463e-08,1.5018947959954695e-08,1.4975487021170516e-08,1.4932495454534105e-08,1.4889981024810876e-08,1.4847959632747717e-08,1.4806455093802693e-08,1.4765498851754064e-08,1.4725129635875405e-08,1.4685393070368935e-08,1.4646341244574395e-08,1.4608032252134487e-08,1.4570529706804106e-08,1.4533902241969794e-08,1.4498223000220262e-08,1.4463569118488577e-08,1.443002121342352e-08,1.4397662870739304e-08,1.4366580141380889e-08,1.4336861046454596e-08,1.430859509201838e-08,1.4281872794042482e-08,1.4256785213144232e-08,1.4233423498098376e-08,1.4211878436629871e-08,1.4192240011628256e-08,1.4174596960679553e-08,1.4159036336706164e-08,1.4145643067524223e-08,1.4134499512279375e-08,1.412568501299045e-08,1.4119275439807674e-08,1.411534272906832e-08,1.4113954413787112e-08,1.4115173146838955e-08,1.4119056217758865e-08,1.4125655064775946e-08,1.4135014784399974e-08,1.4147173641568716e-08,1.4162162584025063e-08,1.4180004765204069e-08,1.420071508046122e-08,1.4224299721944609e-08,1.4250755757795407e-08,1.4280070741646331e-08,1.4312222358562135e-08,1.4347178113631251e-08,1.4384895069368758e-08,1.4425319637926702e-08,1.4468387433833956e-08,1.4514023192603625e-08,1.4562140760067696e-08,1.4612643156721504e-08,1.4665422720708836e-08,1.4720361332350067e-08,1.4777330722334272e-08,1.4836192864862304e-08,1.4896800456169043e-08,1.4958997477963137e-08,1.5022619844434067e-08,1.5087496130582617e-08,1.5153448378758813e-08,1.5220292979435295e-08,1.528784162142497e-08,1.535590230597562e-08,1.542428041843337e-08,1.549277985049224e-08,1.556120416541131e-08,1.562935779802225e-08,1.5697047280829135e-08,1.5764082487065095e-08,1.5830277881177847e-08,1.589545376689698e-08,1.5959437522772103e-08,1.6022064814872572e-08,1.6083180776210954e-08,1.6142641142371093e-08,1.620031333282442e-08,1.625607746747885e-08,1.63098273081311e-08,1.6361471114707423e-08,1.6410932406453715e-08,1.6458150618604158e-08,1.6503081645511572e-08,1.6545698261761815e-08,1.6585990413442142e-08,1.6623965372473774e-08,1.6659647747771275e-08,1.6693079347950614e-08,1.6724318891378788e-08,1.6753441560545427e-08,1.6780538399026847e-08,1.68057155507147e-08,1.6829093342487222e-08,1.6850805213088297e-08,1.687099649265459e-08,1.6889823039066345e-08,1.690744973908454e-08,1.692404888404294e-08,1.6939798431681524e-08,1.6954880167493936e-08,1.696947778071082e-08,1.698377487169431e-08,1.6997952909079195e-08,1.701218915640187e-08,1.7026654589210435e-08,1.704151182467435e-08,1.7056913086538607e-08,1.70729982288129e-08,1.7089892841863116e-08,1.7107706464552582e-08,1.7126530925737238e-08,1.7146438837752994e-08,1.7167482263538855e-08,1.718969157769983e-08,1.721307454015923e-08,1.723761559906912e-08,1.7263275437365306e-08,1.728999077480338e-08,1.731767443450014e-08,1.7346215679985944e-08,1.7375480825573228e-08,1.740531411951196e-08,1.74355388959856e-08,1.7465958988530988e-08,1.7496360394024056e-08,1.7526513172980872e-08,1.7556173568655497e-08,1.7585086324311253e-08,1.7612987175153774e-08,1.76396054887881e-08,1.7664667025747184e-08,1.768789678966492e-08,1.770902193507342e-08,1.7727774699621046e-08,1.7743895326756743e-08,1.7757134944612997e-08,1.7767258366974065e-08,1.777404678281889e-08,1.7777300301986963e-08,1.777684032601316e-08,1.777251171509852e-08,1.776418472450177e-08,1.7751756686317277e-08,1.7735153415618747e-08,1.7714330323250492e-08,1.76892732210864e-08,1.7659998809323672e-08,1.762655483925054e-08,1.7589019948909573e-08,1.754750317307688e-08,1.7502143132976774e-08,1.7453106915066496e-08,1.7400588652024637e-08,1.734480782270071e-08,1.7286007291183394e-08,1.72244511082908e-08,1.716042210161252e-08,1.7094219282737786e-08,1.7026155102422376e-08,1.69565525861817e-08,1.6885742384104812e-08,1.6814059769578355e-08,1.674184162203642e-08,1.6669423428869154e-08,1.6597136341169115e-08,1.652530431712783e-08,1.6454241385593876e-08,1.638424906061442e-08,1.6315613935695394e-08,1.624860548409629e-08,1.6183474088720033e-08,1.6120449322125994e-08,1.605973849391257e-08,1.6001525479230827e-08,1.5945969838541693e-08,1.589320623497538e-08,1.5843344151808165e-08,1.5796467908744976e-08,1.5752636971859834e-08,1.5711886548321477e-08,1.5674228453413833e-08,1.563965223392548e-08,1.5608126528761982e-08,1.5579600644679098e-08,1.555400632237384e-08,1.55312596658534e-08,1.5511263206047802e-08,1.5493908068077696e-08,1.547907621045224e-08,1.5466642703773395e-08,1.545647801626844e-08,1.5448450273679507e-08,1.5442427461688894e-08,1.543827954016507e-08,1.5435880440040407e-08,1.543510991558836e-08,1.5435855227187187e-08,1.5438012632355143e-08,1.5441488665834596e-08,1.544620119278371e-08,1.545208022263005e-08,1.5459068474814077e-08,1.5467121691440788e-08,1.54762086957085e-08,1.5486311198833586e-08,1.5497423361983973e-08,1.5509551123410497e-08,1.5522711304462598e-08,1.553693051144762e-08,1.555224385327807e-08,1.556869349751036e-08,1.5586327089669326e-08,1.560519606262998e-08,1.562535386427888e-08,1.564685413266908e-08,1.566974884839849e-08,1.569408649399986e-08,1.571991024969873e-08,1.5747256254018022e-08,1.5776151956385566e-08,1.5806614587168308e-08,1.5838649768438928e-08,1.5872250286339523e-08,1.5907395043157667e-08,1.59440482042531e-08,1.598215855180757e-08,1.6021659054068012e-08,1.6062466655393776e-08,1.6104482289031747e-08,1.6147591111216437e-08,1.619166295194785e-08,1.6236552974726103e-08,1.628210253462815e-08,1.632814022147935e-08,1.637448307250013e-08,1.6420937936756055e-08,1.6467302972020062e-08,1.6513369253273603e-08,1.6558922471064954e-08,1.6603744697281568e-08,1.664761619559527e-08,1.669031725388441e-08,1.6731630016305353e-08,1.677134029337044e-08,1.6809239329339703e-08,1.6845125507444617e-08,1.68788059748849e-08,1.691009817114019e-08,1.693883124488844e-08,1.6964847346685196e-08,1.698800278648352e-08,1.7008169047051476e-08,1.702523364632587e-08,1.7039100843695528e-08,1.7049692187125455e-08,1.705694689987423e-08,1.706082210731003e-08,1.706129290598214e-08,1.705835227863557e-08,1.7052010860267297e-08,1.7042296561597207e-08,1.7029254057472765e-08,1.701294414874005e-08,1.6993443006991788e-08,1.6970841312359677e-08,1.694524329514728e-08,1.6916765692616224e-08,1.6885536632638847e-08,1.6851694456227072e-08,1.6815386491144113e-08,1.6776767788898562e-08,1.6735999837432462e-08,1.6693249261718658e-08,1.6648686524317026e-08,1.6602484637663606e-08,1.6554817899523744e-08,1.650586066258777e-08,1.6455786148665413e-08,1.6404765317306382e-08,1.635296579796726e-08,1.6300550894044474e-08,1.6247678666204718e-08,1.6194501101478567e-08,1.614116337353511e-08,1.608780319843639e-08,1.6034550288999095e-08,1.5981525909659425e-08,1.592884253247853e-08,1.587660359364747e-08,1.582490334856431e-08,1.5773826822294695e-08,1.5723449850999525e-08,1.5673839208744388e-08,1.5625052813020782e-08,1.557714000131847e-08,1.5530141870226462e-08,1.5484091667815077e-08,1.543901522948149e-08,1.539493144704507e-08,1.5351852760665024e-08,1.5309785663124737e-08,1.5268731206197865e-08,1.522868549917032e-08,1.5189640190143756e-08,1.5151582921472844e-08,1.5114497751587394e-08,1.5078365536494097e-08,1.5043164265421765e-08,1.500886934635723e-08,1.4975453838566217e-08,1.494288863059361e-08,1.491114256365509e-08,1.4880182501726482e-08,1.4849973350987405e-08,1.4820478032545254e-08,1.4791657413520028e-08,1.4763470202592507e-08,1.4735872816971211e-08,1.4708819228405349e-08,1.4682260796338896e-08,1.4656146096555859e-08,1.4630420753698356e-08,1.4605027285851082e-08,1.457990496897385e-08,1.4554989728344322e-08,1.4530214063357097e-08,1.4505507011032612e-08,1.4480794152445171e-08,1.4455997665011896e-08,1.4431036422225083e-08,1.440582614099488e-08,1.4380279575333461e-08,1.4354306753694199e-08,1.4327815255917715e-08,1.4300710524467318e-08,1.4272896203496803e-08,1.4244274498313711e-08,1.4214746547014482e-08,1.4184212795493239e-08,1.4152573366692725e-08,1.411972841487751e-08,1.4085578455883878e-08,1.4050024664736662e-08,1.4012969132714228e-08,1.3974315076880243e-08,1.3933966996271613e-08,1.3891830770301849e-08,1.3847813696491751e-08,1.3801824466331543e-08,1.3753773079877037e-08,1.3703570701540287e-08,1.3651129461417349e-08,1.3596362208341299e-08,1.3539182222625492e-08,1.347950289811614e-08,1.3417237404658952e-08,1.3352298343368645e-08,1.3284597408121481e-08,1.3214045067450029e-08,1.3140550281467985e-08,1.3064020268575407e-08,1.2984360336473976e-08,1.2901473791454708e-08,1.2815261939000467e-08,1.2725624187490616e-08,1.2632458265215661e-08,1.2535660559026525e-08,1.2435126580804006e-08,1.2330751565550902e-08,1.222243120235127e-08,1.2110062496741756e-08,1.1993544760258353e-08,1.187278072010938e-08,1.1747677739147286e-08,1.161814913361867e-08,1.1484115573621956e-08,1.1345506548858069e-08,1.1202261880163694e-08,1.1054333255521044e-08,1.0901685767792555e-08,1.074429943035021e-08,1.0582170646108596e-08,1.0415313605232458e-08,1.024376158699492e-08,1.0067568141901973e-08,9.88680813129865e-09,9.701578603167181e-09,9.511999484746666e-09,9.318214074886391e-09,9.1203893216479e-09,8.918715873589831e-09,8.71340789628861e-09,8.504702648976681e-09,8.29285981961599e-09,8.078160620225955e-09,7.860906647777792e-09,7.64141851940923e-09,7.420034294014641e-09,7.197107695389748e-09,6.973006155006555e-09,6.74810869508723e-09],\"yaxis\":\"y\",\"type\":\"scatter\"}],                        {\"barmode\":\"overlay\",\"hovermode\":\"closest\",\"legend\":{\"traceorder\":\"reversed\"},\"template\":{\"data\":{\"barpolar\":[{\"marker\":{\"line\":{\"color\":\"#E5ECF6\",\"width\":0.5},\"pattern\":{\"fillmode\":\"overlay\",\"size\":10,\"solidity\":0.2}},\"type\":\"barpolar\"}],\"bar\":[{\"error_x\":{\"color\":\"#2a3f5f\"},\"error_y\":{\"color\":\"#2a3f5f\"},\"marker\":{\"line\":{\"color\":\"#E5ECF6\",\"width\":0.5},\"pattern\":{\"fillmode\":\"overlay\",\"size\":10,\"solidity\":0.2}},\"type\":\"bar\"}],\"carpet\":[{\"aaxis\":{\"endlinecolor\":\"#2a3f5f\",\"gridcolor\":\"white\",\"linecolor\":\"white\",\"minorgridcolor\":\"white\",\"startlinecolor\":\"#2a3f5f\"},\"baxis\":{\"endlinecolor\":\"#2a3f5f\",\"gridcolor\":\"white\",\"linecolor\":\"white\",\"minorgridcolor\":\"white\",\"startlinecolor\":\"#2a3f5f\"},\"type\":\"carpet\"}],\"choropleth\":[{\"colorbar\":{\"outlinewidth\":0,\"ticks\":\"\"},\"type\":\"choropleth\"}],\"contourcarpet\":[{\"colorbar\":{\"outlinewidth\":0,\"ticks\":\"\"},\"type\":\"contourcarpet\"}],\"contour\":[{\"colorbar\":{\"outlinewidth\":0,\"ticks\":\"\"},\"colorscale\":[[0.0,\"#0d0887\"],[0.1111111111111111,\"#46039f\"],[0.2222222222222222,\"#7201a8\"],[0.3333333333333333,\"#9c179e\"],[0.4444444444444444,\"#bd3786\"],[0.5555555555555556,\"#d8576b\"],[0.6666666666666666,\"#ed7953\"],[0.7777777777777778,\"#fb9f3a\"],[0.8888888888888888,\"#fdca26\"],[1.0,\"#f0f921\"]],\"type\":\"contour\"}],\"heatmapgl\":[{\"colorbar\":{\"outlinewidth\":0,\"ticks\":\"\"},\"colorscale\":[[0.0,\"#0d0887\"],[0.1111111111111111,\"#46039f\"],[0.2222222222222222,\"#7201a8\"],[0.3333333333333333,\"#9c179e\"],[0.4444444444444444,\"#bd3786\"],[0.5555555555555556,\"#d8576b\"],[0.6666666666666666,\"#ed7953\"],[0.7777777777777778,\"#fb9f3a\"],[0.8888888888888888,\"#fdca26\"],[1.0,\"#f0f921\"]],\"type\":\"heatmapgl\"}],\"heatmap\":[{\"colorbar\":{\"outlinewidth\":0,\"ticks\":\"\"},\"colorscale\":[[0.0,\"#0d0887\"],[0.1111111111111111,\"#46039f\"],[0.2222222222222222,\"#7201a8\"],[0.3333333333333333,\"#9c179e\"],[0.4444444444444444,\"#bd3786\"],[0.5555555555555556,\"#d8576b\"],[0.6666666666666666,\"#ed7953\"],[0.7777777777777778,\"#fb9f3a\"],[0.8888888888888888,\"#fdca26\"],[1.0,\"#f0f921\"]],\"type\":\"heatmap\"}],\"histogram2dcontour\":[{\"colorbar\":{\"outlinewidth\":0,\"ticks\":\"\"},\"colorscale\":[[0.0,\"#0d0887\"],[0.1111111111111111,\"#46039f\"],[0.2222222222222222,\"#7201a8\"],[0.3333333333333333,\"#9c179e\"],[0.4444444444444444,\"#bd3786\"],[0.5555555555555556,\"#d8576b\"],[0.6666666666666666,\"#ed7953\"],[0.7777777777777778,\"#fb9f3a\"],[0.8888888888888888,\"#fdca26\"],[1.0,\"#f0f921\"]],\"type\":\"histogram2dcontour\"}],\"histogram2d\":[{\"colorbar\":{\"outlinewidth\":0,\"ticks\":\"\"},\"colorscale\":[[0.0,\"#0d0887\"],[0.1111111111111111,\"#46039f\"],[0.2222222222222222,\"#7201a8\"],[0.3333333333333333,\"#9c179e\"],[0.4444444444444444,\"#bd3786\"],[0.5555555555555556,\"#d8576b\"],[0.6666666666666666,\"#ed7953\"],[0.7777777777777778,\"#fb9f3a\"],[0.8888888888888888,\"#fdca26\"],[1.0,\"#f0f921\"]],\"type\":\"histogram2d\"}],\"histogram\":[{\"marker\":{\"pattern\":{\"fillmode\":\"overlay\",\"size\":10,\"solidity\":0.2}},\"type\":\"histogram\"}],\"mesh3d\":[{\"colorbar\":{\"outlinewidth\":0,\"ticks\":\"\"},\"type\":\"mesh3d\"}],\"parcoords\":[{\"line\":{\"colorbar\":{\"outlinewidth\":0,\"ticks\":\"\"}},\"type\":\"parcoords\"}],\"pie\":[{\"automargin\":true,\"type\":\"pie\"}],\"scatter3d\":[{\"line\":{\"colorbar\":{\"outlinewidth\":0,\"ticks\":\"\"}},\"marker\":{\"colorbar\":{\"outlinewidth\":0,\"ticks\":\"\"}},\"type\":\"scatter3d\"}],\"scattercarpet\":[{\"marker\":{\"colorbar\":{\"outlinewidth\":0,\"ticks\":\"\"}},\"type\":\"scattercarpet\"}],\"scattergeo\":[{\"marker\":{\"colorbar\":{\"outlinewidth\":0,\"ticks\":\"\"}},\"type\":\"scattergeo\"}],\"scattergl\":[{\"marker\":{\"colorbar\":{\"outlinewidth\":0,\"ticks\":\"\"}},\"type\":\"scattergl\"}],\"scattermapbox\":[{\"marker\":{\"colorbar\":{\"outlinewidth\":0,\"ticks\":\"\"}},\"type\":\"scattermapbox\"}],\"scatterpolargl\":[{\"marker\":{\"colorbar\":{\"outlinewidth\":0,\"ticks\":\"\"}},\"type\":\"scatterpolargl\"}],\"scatterpolar\":[{\"marker\":{\"colorbar\":{\"outlinewidth\":0,\"ticks\":\"\"}},\"type\":\"scatterpolar\"}],\"scatter\":[{\"fillpattern\":{\"fillmode\":\"overlay\",\"size\":10,\"solidity\":0.2},\"type\":\"scatter\"}],\"scatterternary\":[{\"marker\":{\"colorbar\":{\"outlinewidth\":0,\"ticks\":\"\"}},\"type\":\"scatterternary\"}],\"surface\":[{\"colorbar\":{\"outlinewidth\":0,\"ticks\":\"\"},\"colorscale\":[[0.0,\"#0d0887\"],[0.1111111111111111,\"#46039f\"],[0.2222222222222222,\"#7201a8\"],[0.3333333333333333,\"#9c179e\"],[0.4444444444444444,\"#bd3786\"],[0.5555555555555556,\"#d8576b\"],[0.6666666666666666,\"#ed7953\"],[0.7777777777777778,\"#fb9f3a\"],[0.8888888888888888,\"#fdca26\"],[1.0,\"#f0f921\"]],\"type\":\"surface\"}],\"table\":[{\"cells\":{\"fill\":{\"color\":\"#EBF0F8\"},\"line\":{\"color\":\"white\"}},\"header\":{\"fill\":{\"color\":\"#C8D4E3\"},\"line\":{\"color\":\"white\"}},\"type\":\"table\"}]},\"layout\":{\"annotationdefaults\":{\"arrowcolor\":\"#2a3f5f\",\"arrowhead\":0,\"arrowwidth\":1},\"autotypenumbers\":\"strict\",\"coloraxis\":{\"colorbar\":{\"outlinewidth\":0,\"ticks\":\"\"}},\"colorscale\":{\"diverging\":[[0,\"#8e0152\"],[0.1,\"#c51b7d\"],[0.2,\"#de77ae\"],[0.3,\"#f1b6da\"],[0.4,\"#fde0ef\"],[0.5,\"#f7f7f7\"],[0.6,\"#e6f5d0\"],[0.7,\"#b8e186\"],[0.8,\"#7fbc41\"],[0.9,\"#4d9221\"],[1,\"#276419\"]],\"sequential\":[[0.0,\"#0d0887\"],[0.1111111111111111,\"#46039f\"],[0.2222222222222222,\"#7201a8\"],[0.3333333333333333,\"#9c179e\"],[0.4444444444444444,\"#bd3786\"],[0.5555555555555556,\"#d8576b\"],[0.6666666666666666,\"#ed7953\"],[0.7777777777777778,\"#fb9f3a\"],[0.8888888888888888,\"#fdca26\"],[1.0,\"#f0f921\"]],\"sequentialminus\":[[0.0,\"#0d0887\"],[0.1111111111111111,\"#46039f\"],[0.2222222222222222,\"#7201a8\"],[0.3333333333333333,\"#9c179e\"],[0.4444444444444444,\"#bd3786\"],[0.5555555555555556,\"#d8576b\"],[0.6666666666666666,\"#ed7953\"],[0.7777777777777778,\"#fb9f3a\"],[0.8888888888888888,\"#fdca26\"],[1.0,\"#f0f921\"]]},\"colorway\":[\"#636efa\",\"#EF553B\",\"#00cc96\",\"#ab63fa\",\"#FFA15A\",\"#19d3f3\",\"#FF6692\",\"#B6E880\",\"#FF97FF\",\"#FECB52\"],\"font\":{\"color\":\"#2a3f5f\"},\"geo\":{\"bgcolor\":\"white\",\"lakecolor\":\"white\",\"landcolor\":\"#E5ECF6\",\"showlakes\":true,\"showland\":true,\"subunitcolor\":\"white\"},\"hoverlabel\":{\"align\":\"left\"},\"hovermode\":\"closest\",\"mapbox\":{\"style\":\"light\"},\"paper_bgcolor\":\"white\",\"plot_bgcolor\":\"#E5ECF6\",\"polar\":{\"angularaxis\":{\"gridcolor\":\"white\",\"linecolor\":\"white\",\"ticks\":\"\"},\"bgcolor\":\"#E5ECF6\",\"radialaxis\":{\"gridcolor\":\"white\",\"linecolor\":\"white\",\"ticks\":\"\"}},\"scene\":{\"xaxis\":{\"backgroundcolor\":\"#E5ECF6\",\"gridcolor\":\"white\",\"gridwidth\":2,\"linecolor\":\"white\",\"showbackground\":true,\"ticks\":\"\",\"zerolinecolor\":\"white\"},\"yaxis\":{\"backgroundcolor\":\"#E5ECF6\",\"gridcolor\":\"white\",\"gridwidth\":2,\"linecolor\":\"white\",\"showbackground\":true,\"ticks\":\"\",\"zerolinecolor\":\"white\"},\"zaxis\":{\"backgroundcolor\":\"#E5ECF6\",\"gridcolor\":\"white\",\"gridwidth\":2,\"linecolor\":\"white\",\"showbackground\":true,\"ticks\":\"\",\"zerolinecolor\":\"white\"}},\"shapedefaults\":{\"line\":{\"color\":\"#2a3f5f\"}},\"ternary\":{\"aaxis\":{\"gridcolor\":\"white\",\"linecolor\":\"white\",\"ticks\":\"\"},\"baxis\":{\"gridcolor\":\"white\",\"linecolor\":\"white\",\"ticks\":\"\"},\"bgcolor\":\"#E5ECF6\",\"caxis\":{\"gridcolor\":\"white\",\"linecolor\":\"white\",\"ticks\":\"\"}},\"title\":{\"x\":0.05},\"xaxis\":{\"automargin\":true,\"gridcolor\":\"white\",\"linecolor\":\"white\",\"ticks\":\"\",\"title\":{\"standoff\":15},\"zerolinecolor\":\"white\",\"zerolinewidth\":2},\"yaxis\":{\"automargin\":true,\"gridcolor\":\"white\",\"linecolor\":\"white\",\"ticks\":\"\",\"title\":{\"standoff\":15},\"zerolinecolor\":\"white\",\"zerolinewidth\":2}}},\"title\":{\"text\":\"Credit Card Transactions Time Density Plot\"},\"xaxis\":{\"anchor\":\"y2\",\"domain\":[0.0,1.0],\"title\":{\"text\":\"Time [s]\"},\"zeroline\":false},\"yaxis\":{\"anchor\":\"free\",\"domain\":[0.0,1],\"position\":0.0}},                        {\"responsive\": true}                    ).then(function(){\n",
       "                            \n",
       "var gd = document.getElementById('88061eaf-246e-407d-9a6c-4e4d9784aca7');\n",
       "var x = new MutationObserver(function (mutations, observer) {{\n",
       "        var display = window.getComputedStyle(gd).display;\n",
       "        if (!display || display === 'none') {{\n",
       "            console.log([gd, 'removed!']);\n",
       "            Plotly.purge(gd);\n",
       "            observer.disconnect();\n",
       "        }}\n",
       "}});\n",
       "\n",
       "// Listen for the removal of the full notebook cells\n",
       "var notebookContainer = gd.closest('#notebook-container');\n",
       "if (notebookContainer) {{\n",
       "    x.observe(notebookContainer, {childList: true});\n",
       "}}\n",
       "\n",
       "// Listen for the clearing of the current output cell\n",
       "var outputEl = gd.closest('.output');\n",
       "if (outputEl) {{\n",
       "    x.observe(outputEl, {childList: true});\n",
       "}}\n",
       "\n",
       "                        })                };                });            </script>        </div>"
      ]
     },
     "metadata": {},
     "output_type": "display_data"
    }
   ],
   "source": [
    "class_0 = ft.loc[ft['is_fraud'] == 0][\"unix_time\"]\n",
    "class_1 = ft.loc[ft['is_fraud'] == 1][\"unix_time\"]\n",
    "\n",
    "hist_data = [class_0, class_1]\n",
    "group_labels = ['Not Fraud', 'Fraud']\n",
    "\n",
    "fig = ff.create_distplot(hist_data, group_labels, show_hist=False, show_rug=False)\n",
    "fig['layout'].update(title='Credit Card Transactions Time Density Plot', xaxis=dict(title='Time [s]'))\n",
    "iplot(fig, filename='dist_only')"
   ]
  },
  {
   "cell_type": "markdown",
   "id": "78a44fa3",
   "metadata": {},
   "source": [
    "### Amount vs Fraud"
   ]
  },
  {
   "cell_type": "code",
   "execution_count": 10,
   "id": "0a8e9e1e",
   "metadata": {
    "scrolled": true
   },
   "outputs": [
    {
     "data": {
      "text/plain": [
       "<matplotlib.legend.Legend at 0x28e0552ba90>"
      ]
     },
     "execution_count": 10,
     "metadata": {},
     "output_type": "execute_result"
    },
    {
     "data": {
      "image/png": "[encoded data removed]",
      "text/plain": [
       "<Figure size 432x288 with 1 Axes>"
      ]
     },
     "metadata": {},
     "output_type": "display_data"
    }
   ],
   "source": [
    "#amount vs fraud\n",
    "ax=sns.histplot(x='amt',data=ft[ft.amt<=1000],hue='is_fraud',stat='percent',multiple='dodge',common_norm=False,bins=25)\n",
    "ax.set_ylabel('Percentage in Each Type')\n",
    "ax.set_xlabel('Transaction Amount in USD')\n",
    "plt.legend(title='Type', labels=['Fraud', 'Not Fraud'])"
   ]
  },
  {
   "cell_type": "markdown",
   "id": "aa2c3e47",
   "metadata": {},
   "source": [
    "The result is very interesting! While normal transactions tend to be around 200 Dollars or less, we see fraudulent transactions peak around 300 Dollars and then at the 800-1000 Dollars range. There is a very clear pattern here!"
   ]
  },
  {
   "cell_type": "markdown",
   "id": "f58297e3",
   "metadata": {},
   "source": [
    "### The Percentage Difference of Fraudulent over Non-Fraudulent Transations in Each Spending Category"
   ]
  },
  {
   "cell_type": "code",
   "execution_count": 11,
   "id": "8b6e69f7",
   "metadata": {},
   "outputs": [
    {
     "data": {
      "text/plain": [
       "Text(0.5, 1.0, 'The Percentage Difference of Fraudulent over Non-Fraudulent Transations in Each Spending Category ')"
      ]
     },
     "execution_count": 11,
     "metadata": {},
     "output_type": "execute_result"
    },
    {
     "data": {
      "image/png": "[encoded data removed]",
      "text/plain": [
       "<Figure size 432x288 with 1 Axes>"
      ]
     },
     "metadata": {},
     "output_type": "display_data"
    }
   ],
   "source": [
    "#calculate the percentage difference\n",
    "a=ft[ft['is_fraud']==0]['category'].value_counts(normalize=True).to_frame().reset_index()\n",
    "a.columns=['category','not fraud percentage']\n",
    "\n",
    "b=ft[ft['is_fraud']==1]['category'].value_counts(normalize=True).to_frame().reset_index()\n",
    "b.columns=['category','fraud percentage']\n",
    "ab=a.merge(b,on='category')\n",
    "ab['diff']=ab['fraud percentage']-ab['not fraud percentage']\n",
    "\n",
    "ax=sns.barplot(y='category',x='diff',data=ab.sort_values('diff',ascending=False))\n",
    "ax.set_xlabel('Percentage Difference')\n",
    "ax.set_ylabel('Transaction Category')\n",
    "plt.title('The Percentage Difference of Fraudulent over Non-Fraudulent Transations in Each Spending Category ')"
   ]
  },
  {
   "cell_type": "markdown",
   "id": "15b4e9f0",
   "metadata": {},
   "source": [
    "### Time in a day vs Fraud"
   ]
  },
  {
   "cell_type": "code",
   "execution_count": 12,
   "id": "57a0b8bc",
   "metadata": {
    "scrolled": true
   },
   "outputs": [
    {
     "data": {
      "text/plain": [
       "<matplotlib.legend.Legend at 0x28e05f0e580>"
      ]
     },
     "execution_count": 12,
     "metadata": {},
     "output_type": "execute_result"
    },
    {
     "data": {
      "image/png": "[encoded data removed]",
      "text/plain": [
       "<Figure size 432x288 with 1 Axes>"
      ]
     },
     "metadata": {},
     "output_type": "display_data"
    }
   ],
   "source": [
    "#time in a day vs fraud\n",
    "ft['hour']=pd.to_datetime(ft['trans_date_trans_time']).dt.hour\n",
    "ax=sns.histplot(data=ft, x=\"hour\", hue=\"is_fraud\", common_norm=False,stat='percent',multiple='dodge')\n",
    "ax.set_ylabel('Percentage')\n",
    "ax.set_xlabel('Time (Hour) in a Day')\n",
    "plt.xticks(np.arange(0,24,1))\n",
    "plt.legend(title='Type', labels=['Fraud', 'Not Fraud'])"
   ]
  },
  {
   "cell_type": "code",
   "execution_count": 16,
   "id": "dbf5b05a",
   "metadata": {},
   "outputs": [
    {
     "data": {
      "text/html": [
       "<div>\n",
       "<style scoped>\n",
       "    .dataframe tbody tr th:only-of-type {\n",
       "        vertical-align: middle;\n",
       "    }\n",
       "\n",
       "    .dataframe tbody tr th {\n",
       "        vertical-align: top;\n",
       "    }\n",
       "\n",
       "    .dataframe thead th {\n",
       "        text-align: right;\n",
       "    }\n",
       "</style>\n",
       "<table border=\"1\" class=\"dataframe\">\n",
       "  <thead>\n",
       "    <tr style=\"text-align: right;\">\n",
       "      <th></th>\n",
       "      <th>trans_date_trans_time</th>\n",
       "      <th>cc_num</th>\n",
       "      <th>merchant</th>\n",
       "      <th>category</th>\n",
       "      <th>amt</th>\n",
       "      <th>first</th>\n",
       "      <th>last</th>\n",
       "      <th>gender</th>\n",
       "      <th>street</th>\n",
       "      <th>city</th>\n",
       "      <th>state</th>\n",
       "      <th>zip</th>\n",
       "      <th>city_pop</th>\n",
       "      <th>job</th>\n",
       "      <th>dob</th>\n",
       "      <th>trans_num</th>\n",
       "      <th>unix_time</th>\n",
       "      <th>is_fraud</th>\n",
       "      <th>hour</th>\n",
       "    </tr>\n",
       "  </thead>\n",
       "  <tbody>\n",
       "    <tr>\n",
       "      <th>1623751</th>\n",
       "      <td>2020-10-24 18:47:50</td>\n",
       "      <td>4599285557366057</td>\n",
       "      <td>fraud_Streich, Dietrich and Barton</td>\n",
       "      <td>shopping_net</td>\n",
       "      <td>966.98</td>\n",
       "      <td>Mary</td>\n",
       "      <td>Williams</td>\n",
       "      <td>F</td>\n",
       "      <td>00315 Ashley Valleys</td>\n",
       "      <td>Burrton</td>\n",
       "      <td>KS</td>\n",
       "      <td>67020</td>\n",
       "      <td>1689</td>\n",
       "      <td>Gaffer</td>\n",
       "      <td>1997-11-18</td>\n",
       "      <td>7dbf64c03c549a79e30533c41c2ea5fe</td>\n",
       "      <td>1382640470</td>\n",
       "      <td>1</td>\n",
       "      <td>18</td>\n",
       "    </tr>\n",
       "    <tr>\n",
       "      <th>1623891</th>\n",
       "      <td>2020-10-24 20:25:22</td>\n",
       "      <td>4599285557366057</td>\n",
       "      <td>fraud_Reichert, Shanahan and Hayes</td>\n",
       "      <td>shopping_net</td>\n",
       "      <td>1140.88</td>\n",
       "      <td>Mary</td>\n",
       "      <td>Williams</td>\n",
       "      <td>F</td>\n",
       "      <td>00315 Ashley Valleys</td>\n",
       "      <td>Burrton</td>\n",
       "      <td>KS</td>\n",
       "      <td>67020</td>\n",
       "      <td>1689</td>\n",
       "      <td>Gaffer</td>\n",
       "      <td>1997-11-18</td>\n",
       "      <td>93f5d23515f0e7b79ffa206878839c78</td>\n",
       "      <td>1382646322</td>\n",
       "      <td>1</td>\n",
       "      <td>20</td>\n",
       "    </tr>\n",
       "    <tr>\n",
       "      <th>1624131</th>\n",
       "      <td>2020-10-24 23:14:06</td>\n",
       "      <td>4599285557366057</td>\n",
       "      <td>fraud_Heathcote, Yost and Kertzmann</td>\n",
       "      <td>shopping_net</td>\n",
       "      <td>1139.97</td>\n",
       "      <td>Mary</td>\n",
       "      <td>Williams</td>\n",
       "      <td>F</td>\n",
       "      <td>00315 Ashley Valleys</td>\n",
       "      <td>Burrton</td>\n",
       "      <td>KS</td>\n",
       "      <td>67020</td>\n",
       "      <td>1689</td>\n",
       "      <td>Gaffer</td>\n",
       "      <td>1997-11-18</td>\n",
       "      <td>ab91e7ff19e264deab202d3edb8be36d</td>\n",
       "      <td>1382656446</td>\n",
       "      <td>1</td>\n",
       "      <td>23</td>\n",
       "    </tr>\n",
       "    <tr>\n",
       "      <th>1624205</th>\n",
       "      <td>2020-10-24 23:53:11</td>\n",
       "      <td>4599285557366057</td>\n",
       "      <td>fraud_Okuneva, Schneider and Rau</td>\n",
       "      <td>shopping_pos</td>\n",
       "      <td>1252.51</td>\n",
       "      <td>Mary</td>\n",
       "      <td>Williams</td>\n",
       "      <td>F</td>\n",
       "      <td>00315 Ashley Valleys</td>\n",
       "      <td>Burrton</td>\n",
       "      <td>KS</td>\n",
       "      <td>67020</td>\n",
       "      <td>1689</td>\n",
       "      <td>Gaffer</td>\n",
       "      <td>1997-11-18</td>\n",
       "      <td>0eefd12b0610c181ed68a0391e09a0b0</td>\n",
       "      <td>1382658791</td>\n",
       "      <td>1</td>\n",
       "      <td>23</td>\n",
       "    </tr>\n",
       "    <tr>\n",
       "      <th>1624239</th>\n",
       "      <td>2020-10-25 00:15:29</td>\n",
       "      <td>4599285557366057</td>\n",
       "      <td>fraud_Barton Inc</td>\n",
       "      <td>grocery_pos</td>\n",
       "      <td>278.59</td>\n",
       "      <td>Mary</td>\n",
       "      <td>Williams</td>\n",
       "      <td>F</td>\n",
       "      <td>00315 Ashley Valleys</td>\n",
       "      <td>Burrton</td>\n",
       "      <td>KS</td>\n",
       "      <td>67020</td>\n",
       "      <td>1689</td>\n",
       "      <td>Gaffer</td>\n",
       "      <td>1997-11-18</td>\n",
       "      <td>3c3e30994b2dd6d7f05602dc73d78ee4</td>\n",
       "      <td>1382660129</td>\n",
       "      <td>1</td>\n",
       "      <td>0</td>\n",
       "    </tr>\n",
       "    <tr>\n",
       "      <th>1624430</th>\n",
       "      <td>2020-10-25 02:31:32</td>\n",
       "      <td>4599285557366057</td>\n",
       "      <td>fraud_Swift, Bradtke and Marquardt</td>\n",
       "      <td>grocery_net</td>\n",
       "      <td>11.43</td>\n",
       "      <td>Mary</td>\n",
       "      <td>Williams</td>\n",
       "      <td>F</td>\n",
       "      <td>00315 Ashley Valleys</td>\n",
       "      <td>Burrton</td>\n",
       "      <td>KS</td>\n",
       "      <td>67020</td>\n",
       "      <td>1689</td>\n",
       "      <td>Gaffer</td>\n",
       "      <td>1997-11-18</td>\n",
       "      <td>61af2a09489f4d07ca8cf1566d14879c</td>\n",
       "      <td>1382668292</td>\n",
       "      <td>1</td>\n",
       "      <td>2</td>\n",
       "    </tr>\n",
       "    <tr>\n",
       "      <th>1624501</th>\n",
       "      <td>2020-10-25 03:24:29</td>\n",
       "      <td>4599285557366057</td>\n",
       "      <td>fraud_O'Keefe-Hudson</td>\n",
       "      <td>grocery_pos</td>\n",
       "      <td>310.37</td>\n",
       "      <td>Mary</td>\n",
       "      <td>Williams</td>\n",
       "      <td>F</td>\n",
       "      <td>00315 Ashley Valleys</td>\n",
       "      <td>Burrton</td>\n",
       "      <td>KS</td>\n",
       "      <td>67020</td>\n",
       "      <td>1689</td>\n",
       "      <td>Gaffer</td>\n",
       "      <td>1997-11-18</td>\n",
       "      <td>316c009ec5c6c13de10869b9f8926ebc</td>\n",
       "      <td>1382671469</td>\n",
       "      <td>1</td>\n",
       "      <td>3</td>\n",
       "    </tr>\n",
       "    <tr>\n",
       "      <th>1624556</th>\n",
       "      <td>2020-10-25 03:59:34</td>\n",
       "      <td>4599285557366057</td>\n",
       "      <td>fraud_Kiehn Inc</td>\n",
       "      <td>grocery_pos</td>\n",
       "      <td>336.84</td>\n",
       "      <td>Mary</td>\n",
       "      <td>Williams</td>\n",
       "      <td>F</td>\n",
       "      <td>00315 Ashley Valleys</td>\n",
       "      <td>Burrton</td>\n",
       "      <td>KS</td>\n",
       "      <td>67020</td>\n",
       "      <td>1689</td>\n",
       "      <td>Gaffer</td>\n",
       "      <td>1997-11-18</td>\n",
       "      <td>d7426d345bf54c4246938c3ae0a9099d</td>\n",
       "      <td>1382673574</td>\n",
       "      <td>1</td>\n",
       "      <td>3</td>\n",
       "    </tr>\n",
       "    <tr>\n",
       "      <th>1624867</th>\n",
       "      <td>2020-10-25 07:35:06</td>\n",
       "      <td>4599285557366057</td>\n",
       "      <td>fraud_Robel, Cummerata and Prosacco</td>\n",
       "      <td>gas_transport</td>\n",
       "      <td>10.36</td>\n",
       "      <td>Mary</td>\n",
       "      <td>Williams</td>\n",
       "      <td>F</td>\n",
       "      <td>00315 Ashley Valleys</td>\n",
       "      <td>Burrton</td>\n",
       "      <td>KS</td>\n",
       "      <td>67020</td>\n",
       "      <td>1689</td>\n",
       "      <td>Gaffer</td>\n",
       "      <td>1997-11-18</td>\n",
       "      <td>6eb66645436ea2d4fb4f06895f2cf0e0</td>\n",
       "      <td>1382686506</td>\n",
       "      <td>1</td>\n",
       "      <td>7</td>\n",
       "    </tr>\n",
       "    <tr>\n",
       "      <th>1626512</th>\n",
       "      <td>2020-10-25 20:58:22</td>\n",
       "      <td>4599285557366057</td>\n",
       "      <td>fraud_Langworth, Boehm and Gulgowski</td>\n",
       "      <td>shopping_net</td>\n",
       "      <td>849.81</td>\n",
       "      <td>Mary</td>\n",
       "      <td>Williams</td>\n",
       "      <td>F</td>\n",
       "      <td>00315 Ashley Valleys</td>\n",
       "      <td>Burrton</td>\n",
       "      <td>KS</td>\n",
       "      <td>67020</td>\n",
       "      <td>1689</td>\n",
       "      <td>Gaffer</td>\n",
       "      <td>1997-11-18</td>\n",
       "      <td>457dbb8e3cb6ae8a851ecc2df34cac7b</td>\n",
       "      <td>1382734702</td>\n",
       "      <td>1</td>\n",
       "      <td>20</td>\n",
       "    </tr>\n",
       "    <tr>\n",
       "      <th>1626661</th>\n",
       "      <td>2020-10-25 22:09:24</td>\n",
       "      <td>4599285557366057</td>\n",
       "      <td>fraud_Price Inc</td>\n",
       "      <td>shopping_net</td>\n",
       "      <td>1034.66</td>\n",
       "      <td>Mary</td>\n",
       "      <td>Williams</td>\n",
       "      <td>F</td>\n",
       "      <td>00315 Ashley Valleys</td>\n",
       "      <td>Burrton</td>\n",
       "      <td>KS</td>\n",
       "      <td>67020</td>\n",
       "      <td>1689</td>\n",
       "      <td>Gaffer</td>\n",
       "      <td>1997-11-18</td>\n",
       "      <td>d35738ab1d37cbc072512980e8bc9863</td>\n",
       "      <td>1382738964</td>\n",
       "      <td>1</td>\n",
       "      <td>22</td>\n",
       "    </tr>\n",
       "    <tr>\n",
       "      <th>1626697</th>\n",
       "      <td>2020-10-25 22:23:29</td>\n",
       "      <td>4599285557366057</td>\n",
       "      <td>fraud_Hoppe, Harris and Bednar</td>\n",
       "      <td>entertainment</td>\n",
       "      <td>386.54</td>\n",
       "      <td>Mary</td>\n",
       "      <td>Williams</td>\n",
       "      <td>F</td>\n",
       "      <td>00315 Ashley Valleys</td>\n",
       "      <td>Burrton</td>\n",
       "      <td>KS</td>\n",
       "      <td>67020</td>\n",
       "      <td>1689</td>\n",
       "      <td>Gaffer</td>\n",
       "      <td>1997-11-18</td>\n",
       "      <td>115a0816f262c5b0466229deada5004a</td>\n",
       "      <td>1382739809</td>\n",
       "      <td>1</td>\n",
       "      <td>22</td>\n",
       "    </tr>\n",
       "    <tr>\n",
       "      <th>1626768</th>\n",
       "      <td>2020-10-25 22:51:49</td>\n",
       "      <td>4599285557366057</td>\n",
       "      <td>fraud_Romaguera, Cruickshank and Greenholt</td>\n",
       "      <td>shopping_net</td>\n",
       "      <td>873.24</td>\n",
       "      <td>Mary</td>\n",
       "      <td>Williams</td>\n",
       "      <td>F</td>\n",
       "      <td>00315 Ashley Valleys</td>\n",
       "      <td>Burrton</td>\n",
       "      <td>KS</td>\n",
       "      <td>67020</td>\n",
       "      <td>1689</td>\n",
       "      <td>Gaffer</td>\n",
       "      <td>1997-11-18</td>\n",
       "      <td>10ee6414b2daa7a761e327929193fd3e</td>\n",
       "      <td>1382741509</td>\n",
       "      <td>1</td>\n",
       "      <td>22</td>\n",
       "    </tr>\n",
       "    <tr>\n",
       "      <th>1626819</th>\n",
       "      <td>2020-10-25 23:10:56</td>\n",
       "      <td>4599285557366057</td>\n",
       "      <td>fraud_Howe Ltd</td>\n",
       "      <td>misc_pos</td>\n",
       "      <td>8.45</td>\n",
       "      <td>Mary</td>\n",
       "      <td>Williams</td>\n",
       "      <td>F</td>\n",
       "      <td>00315 Ashley Valleys</td>\n",
       "      <td>Burrton</td>\n",
       "      <td>KS</td>\n",
       "      <td>67020</td>\n",
       "      <td>1689</td>\n",
       "      <td>Gaffer</td>\n",
       "      <td>1997-11-18</td>\n",
       "      <td>fdda56e8c754897aba310370f14b8b71</td>\n",
       "      <td>1382742656</td>\n",
       "      <td>1</td>\n",
       "      <td>23</td>\n",
       "    </tr>\n",
       "    <tr>\n",
       "      <th>1626848</th>\n",
       "      <td>2020-10-25 23:24:18</td>\n",
       "      <td>4599285557366057</td>\n",
       "      <td>fraud_Dach-Nader</td>\n",
       "      <td>misc_net</td>\n",
       "      <td>898.03</td>\n",
       "      <td>Mary</td>\n",
       "      <td>Williams</td>\n",
       "      <td>F</td>\n",
       "      <td>00315 Ashley Valleys</td>\n",
       "      <td>Burrton</td>\n",
       "      <td>KS</td>\n",
       "      <td>67020</td>\n",
       "      <td>1689</td>\n",
       "      <td>Gaffer</td>\n",
       "      <td>1997-11-18</td>\n",
       "      <td>228178b744198c545a50eb7719717afd</td>\n",
       "      <td>1382743458</td>\n",
       "      <td>1</td>\n",
       "      <td>23</td>\n",
       "    </tr>\n",
       "    <tr>\n",
       "      <th>1626857</th>\n",
       "      <td>2020-10-25 23:27:30</td>\n",
       "      <td>4599285557366057</td>\n",
       "      <td>fraud_Predovic Inc</td>\n",
       "      <td>shopping_net</td>\n",
       "      <td>780.19</td>\n",
       "      <td>Mary</td>\n",
       "      <td>Williams</td>\n",
       "      <td>F</td>\n",
       "      <td>00315 Ashley Valleys</td>\n",
       "      <td>Burrton</td>\n",
       "      <td>KS</td>\n",
       "      <td>67020</td>\n",
       "      <td>1689</td>\n",
       "      <td>Gaffer</td>\n",
       "      <td>1997-11-18</td>\n",
       "      <td>ce8d52a2ac0c839c7684664873928cd0</td>\n",
       "      <td>1382743650</td>\n",
       "      <td>1</td>\n",
       "      <td>23</td>\n",
       "    </tr>\n",
       "    <tr>\n",
       "      <th>1626872</th>\n",
       "      <td>2020-10-25 23:33:00</td>\n",
       "      <td>4599285557366057</td>\n",
       "      <td>fraud_Kuhn LLC</td>\n",
       "      <td>misc_net</td>\n",
       "      <td>821.96</td>\n",
       "      <td>Mary</td>\n",
       "      <td>Williams</td>\n",
       "      <td>F</td>\n",
       "      <td>00315 Ashley Valleys</td>\n",
       "      <td>Burrton</td>\n",
       "      <td>KS</td>\n",
       "      <td>67020</td>\n",
       "      <td>1689</td>\n",
       "      <td>Gaffer</td>\n",
       "      <td>1997-11-18</td>\n",
       "      <td>79a03ae645983fc0f5b46787e2ae2f83</td>\n",
       "      <td>1382743980</td>\n",
       "      <td>1</td>\n",
       "      <td>23</td>\n",
       "    </tr>\n",
       "    <tr>\n",
       "      <th>1626912</th>\n",
       "      <td>2020-10-25 23:48:26</td>\n",
       "      <td>4599285557366057</td>\n",
       "      <td>fraud_Schmeler-Howe</td>\n",
       "      <td>personal_care</td>\n",
       "      <td>20.94</td>\n",
       "      <td>Mary</td>\n",
       "      <td>Williams</td>\n",
       "      <td>F</td>\n",
       "      <td>00315 Ashley Valleys</td>\n",
       "      <td>Burrton</td>\n",
       "      <td>KS</td>\n",
       "      <td>67020</td>\n",
       "      <td>1689</td>\n",
       "      <td>Gaffer</td>\n",
       "      <td>1997-11-18</td>\n",
       "      <td>b10476e16589b9874b87ce223fa6bcb9</td>\n",
       "      <td>1382744906</td>\n",
       "      <td>1</td>\n",
       "      <td>23</td>\n",
       "    </tr>\n",
       "    <tr>\n",
       "      <th>1626935</th>\n",
       "      <td>2020-10-25 23:57:02</td>\n",
       "      <td>4599285557366057</td>\n",
       "      <td>fraud_Heathcote, Yost and Kertzmann</td>\n",
       "      <td>shopping_net</td>\n",
       "      <td>880.31</td>\n",
       "      <td>Mary</td>\n",
       "      <td>Williams</td>\n",
       "      <td>F</td>\n",
       "      <td>00315 Ashley Valleys</td>\n",
       "      <td>Burrton</td>\n",
       "      <td>KS</td>\n",
       "      <td>67020</td>\n",
       "      <td>1689</td>\n",
       "      <td>Gaffer</td>\n",
       "      <td>1997-11-18</td>\n",
       "      <td>25150c9a5c591dec5e74c51811dbe0be</td>\n",
       "      <td>1382745422</td>\n",
       "      <td>1</td>\n",
       "      <td>23</td>\n",
       "    </tr>\n",
       "  </tbody>\n",
       "</table>\n",
       "</div>"
      ],
      "text/plain": [
       "        trans_date_trans_time            cc_num  \\\n",
       "1623751   2020-10-24 18:47:50  4599285557366057   \n",
       "1623891   2020-10-24 20:25:22  4599285557366057   \n",
       "1624131   2020-10-24 23:14:06  4599285557366057   \n",
       "1624205   2020-10-24 23:53:11  4599285557366057   \n",
       "1624239   2020-10-25 00:15:29  4599285557366057   \n",
       "1624430   2020-10-25 02:31:32  4599285557366057   \n",
       "1624501   2020-10-25 03:24:29  4599285557366057   \n",
       "1624556   2020-10-25 03:59:34  4599285557366057   \n",
       "1624867   2020-10-25 07:35:06  4599285557366057   \n",
       "1626512   2020-10-25 20:58:22  4599285557366057   \n",
       "1626661   2020-10-25 22:09:24  4599285557366057   \n",
       "1626697   2020-10-25 22:23:29  4599285557366057   \n",
       "1626768   2020-10-25 22:51:49  4599285557366057   \n",
       "1626819   2020-10-25 23:10:56  4599285557366057   \n",
       "1626848   2020-10-25 23:24:18  4599285557366057   \n",
       "1626857   2020-10-25 23:27:30  4599285557366057   \n",
       "1626872   2020-10-25 23:33:00  4599285557366057   \n",
       "1626912   2020-10-25 23:48:26  4599285557366057   \n",
       "1626935   2020-10-25 23:57:02  4599285557366057   \n",
       "\n",
       "                                           merchant       category      amt  \\\n",
       "1623751          fraud_Streich, Dietrich and Barton   shopping_net   966.98   \n",
       "1623891          fraud_Reichert, Shanahan and Hayes   shopping_net  1140.88   \n",
       "1624131         fraud_Heathcote, Yost and Kertzmann   shopping_net  1139.97   \n",
       "1624205            fraud_Okuneva, Schneider and Rau   shopping_pos  1252.51   \n",
       "1624239                            fraud_Barton Inc    grocery_pos   278.59   \n",
       "1624430          fraud_Swift, Bradtke and Marquardt    grocery_net    11.43   \n",
       "1624501                        fraud_O'Keefe-Hudson    grocery_pos   310.37   \n",
       "1624556                             fraud_Kiehn Inc    grocery_pos   336.84   \n",
       "1624867         fraud_Robel, Cummerata and Prosacco  gas_transport    10.36   \n",
       "1626512        fraud_Langworth, Boehm and Gulgowski   shopping_net   849.81   \n",
       "1626661                             fraud_Price Inc   shopping_net  1034.66   \n",
       "1626697              fraud_Hoppe, Harris and Bednar  entertainment   386.54   \n",
       "1626768  fraud_Romaguera, Cruickshank and Greenholt   shopping_net   873.24   \n",
       "1626819                              fraud_Howe Ltd       misc_pos     8.45   \n",
       "1626848                            fraud_Dach-Nader       misc_net   898.03   \n",
       "1626857                          fraud_Predovic Inc   shopping_net   780.19   \n",
       "1626872                              fraud_Kuhn LLC       misc_net   821.96   \n",
       "1626912                         fraud_Schmeler-Howe  personal_care    20.94   \n",
       "1626935         fraud_Heathcote, Yost and Kertzmann   shopping_net   880.31   \n",
       "\n",
       "        first      last gender                street     city state    zip  \\\n",
       "1623751  Mary  Williams      F  00315 Ashley Valleys  Burrton    KS  67020   \n",
       "1623891  Mary  Williams      F  00315 Ashley Valleys  Burrton    KS  67020   \n",
       "1624131  Mary  Williams      F  00315 Ashley Valleys  Burrton    KS  67020   \n",
       "1624205  Mary  Williams      F  00315 Ashley Valleys  Burrton    KS  67020   \n",
       "1624239  Mary  Williams      F  00315 Ashley Valleys  Burrton    KS  67020   \n",
       "1624430  Mary  Williams      F  00315 Ashley Valleys  Burrton    KS  67020   \n",
       "1624501  Mary  Williams      F  00315 Ashley Valleys  Burrton    KS  67020   \n",
       "1624556  Mary  Williams      F  00315 Ashley Valleys  Burrton    KS  67020   \n",
       "1624867  Mary  Williams      F  00315 Ashley Valleys  Burrton    KS  67020   \n",
       "1626512  Mary  Williams      F  00315 Ashley Valleys  Burrton    KS  67020   \n",
       "1626661  Mary  Williams      F  00315 Ashley Valleys  Burrton    KS  67020   \n",
       "1626697  Mary  Williams      F  00315 Ashley Valleys  Burrton    KS  67020   \n",
       "1626768  Mary  Williams      F  00315 Ashley Valleys  Burrton    KS  67020   \n",
       "1626819  Mary  Williams      F  00315 Ashley Valleys  Burrton    KS  67020   \n",
       "1626848  Mary  Williams      F  00315 Ashley Valleys  Burrton    KS  67020   \n",
       "1626857  Mary  Williams      F  00315 Ashley Valleys  Burrton    KS  67020   \n",
       "1626872  Mary  Williams      F  00315 Ashley Valleys  Burrton    KS  67020   \n",
       "1626912  Mary  Williams      F  00315 Ashley Valleys  Burrton    KS  67020   \n",
       "1626935  Mary  Williams      F  00315 Ashley Valleys  Burrton    KS  67020   \n",
       "\n",
       "         city_pop     job         dob                         trans_num  \\\n",
       "1623751      1689  Gaffer  1997-11-18  7dbf64c03c549a79e30533c41c2ea5fe   \n",
       "1623891      1689  Gaffer  1997-11-18  93f5d23515f0e7b79ffa206878839c78   \n",
       "1624131      1689  Gaffer  1997-11-18  ab91e7ff19e264deab202d3edb8be36d   \n",
       "1624205      1689  Gaffer  1997-11-18  0eefd12b0610c181ed68a0391e09a0b0   \n",
       "1624239      1689  Gaffer  1997-11-18  3c3e30994b2dd6d7f05602dc73d78ee4   \n",
       "1624430      1689  Gaffer  1997-11-18  61af2a09489f4d07ca8cf1566d14879c   \n",
       "1624501      1689  Gaffer  1997-11-18  316c009ec5c6c13de10869b9f8926ebc   \n",
       "1624556      1689  Gaffer  1997-11-18  d7426d345bf54c4246938c3ae0a9099d   \n",
       "1624867      1689  Gaffer  1997-11-18  6eb66645436ea2d4fb4f06895f2cf0e0   \n",
       "1626512      1689  Gaffer  1997-11-18  457dbb8e3cb6ae8a851ecc2df34cac7b   \n",
       "1626661      1689  Gaffer  1997-11-18  d35738ab1d37cbc072512980e8bc9863   \n",
       "1626697      1689  Gaffer  1997-11-18  115a0816f262c5b0466229deada5004a   \n",
       "1626768      1689  Gaffer  1997-11-18  10ee6414b2daa7a761e327929193fd3e   \n",
       "1626819      1689  Gaffer  1997-11-18  fdda56e8c754897aba310370f14b8b71   \n",
       "1626848      1689  Gaffer  1997-11-18  228178b744198c545a50eb7719717afd   \n",
       "1626857      1689  Gaffer  1997-11-18  ce8d52a2ac0c839c7684664873928cd0   \n",
       "1626872      1689  Gaffer  1997-11-18  79a03ae645983fc0f5b46787e2ae2f83   \n",
       "1626912      1689  Gaffer  1997-11-18  b10476e16589b9874b87ce223fa6bcb9   \n",
       "1626935      1689  Gaffer  1997-11-18  25150c9a5c591dec5e74c51811dbe0be   \n",
       "\n",
       "          unix_time  is_fraud  hour  \n",
       "1623751  1382640470         1    18  \n",
       "1623891  1382646322         1    20  \n",
       "1624131  1382656446         1    23  \n",
       "1624205  1382658791         1    23  \n",
       "1624239  1382660129         1     0  \n",
       "1624430  1382668292         1     2  \n",
       "1624501  1382671469         1     3  \n",
       "1624556  1382673574         1     3  \n",
       "1624867  1382686506         1     7  \n",
       "1626512  1382734702         1    20  \n",
       "1626661  1382738964         1    22  \n",
       "1626697  1382739809         1    22  \n",
       "1626768  1382741509         1    22  \n",
       "1626819  1382742656         1    23  \n",
       "1626848  1382743458         1    23  \n",
       "1626857  1382743650         1    23  \n",
       "1626872  1382743980         1    23  \n",
       "1626912  1382744906         1    23  \n",
       "1626935  1382745422         1    23  "
      ]
     },
     "execution_count": 16,
     "metadata": {},
     "output_type": "execute_result"
    }
   ],
   "source": [
    "ft[(ft[\"last\"]==\"Williams\") & (ft[\"first\"]==\"Mary\") & (ft[\"is_fraud\"]== 1)]"
   ]
  },
  {
   "cell_type": "code",
   "execution_count": 14,
   "id": "744e8776",
   "metadata": {},
   "outputs": [],
   "source": [
    "ft.to_csv(\"fraud_detection_update.csv\", index=False)"
   ]
  },
  {
   "cell_type": "markdown",
   "id": "32acecf5",
   "metadata": {},
   "source": [
    "## EDA"
   ]
  }
 ],
 "metadata": {
  "kernelspec": {
   "display_name": "Python 3 (ipykernel)",
   "language": "python",
   "name": "python3"
  },
  "language_info": {
   "codemirror_mode": {
    "name": "ipython",
    "version": 3
   },
   "file_extension": ".py",
   "mimetype": "text/x-python",
   "name": "python",
   "nbconvert_exporter": "python",
   "pygments_lexer": "ipython3",
   "version": "3.9.12"
  },
  "toc": {
   "base_numbering": 1,
   "nav_menu": {},
   "number_sections": true,
   "sideBar": true,
   "skip_h1_title": false,
   "title_cell": "Table of Contents",
   "title_sidebar": "Contents",
   "toc_cell": false,
   "toc_position": {
    "height": "calc(100% - 180px)",
    "left": "10px",
    "top": "150px",
    "width": "201.825px"
   },
   "toc_section_display": true,
   "toc_window_display": true
  }
 },
 "nbformat": 4,
 "nbformat_minor": 5
}
